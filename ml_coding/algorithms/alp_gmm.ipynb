{
 "cells": [
  {
   "cell_type": "code",
   "execution_count": 19,
   "metadata": {},
   "outputs": [],
   "source": [
    "import math\n",
    "import random\n",
    "import numpy as np\n",
    "from sklearn.mixture import GaussianMixture"
   ]
  },
  {
   "cell_type": "code",
   "execution_count": 51,
   "metadata": {},
   "outputs": [
    {
     "name": "stdout",
     "output_type": "stream",
     "text": [
      "alp_means [2.499985089597363, 1.9999999999999956, 0.9999999999999978, 3.999999999999991, 0.9999999999999978]\n",
      "probs [0.23809416 0.19047646 0.09523823 0.38095292 0.09523823]\n",
      "multinomial_distro [0 0 0 1 0]\n",
      "ind 3\n",
      "new_params [9.99907553 1.9993392 ]\n",
      "new_params [5.        1.9993392]\n"
     ]
    }
   ],
   "source": [
    "# ALP GMM Algorithm\n",
    "\n",
    "params_alp = np.array([[1, 2, 2], [1, 4, 1], [1, 0, 3], [10, 2, 4], [10, 4, 2], [10, 0, 1]])\n",
    "# first two are the config params for an episode, last one is the ALP value.\n",
    "\n",
    "gmm = GaussianMixture(n_components=5)\n",
    "gmm.fit(params_alp)\n",
    "\n",
    "# Retrieve the mean ALP value of each Gaussian in the GMM\n",
    "alp_means = []\n",
    "for pos, _, w in zip(gmm.means_, gmm.covariances_, gmm.weights_):\n",
    "    alp_means.append(pos[-1])\n",
    "\n",
    "# MAB method\n",
    "probs = np.array(alp_means) / np.sum(alp_means)\n",
    "print(\"alp_means\", alp_means)\n",
    "print(\"probs\", probs)\n",
    "\n",
    "# sample according to alp_means, higher mean value has higher probability of being sampled\n",
    "# also try np.random.multinomial(20, probs)\n",
    "multinomial_distro = np.random.multinomial(1, probs)\n",
    "ind = np.where(multinomial_distro == 1)[0][0]\n",
    "print(\"multinomial_distro\", multinomial_distro)\n",
    "print(\"ind\", ind) \n",
    "\n",
    "\n",
    "# now sample from the picked gaussian with index ind\n",
    "new_params = np.random.multivariate_normal(gmm.means_[ind], gmm.covariances_[ind])[:-1]\n",
    "print(\"new_params\", new_params)\n",
    "new_params = np.clip(new_params, [-5,-5], [5,5])\n",
    "print(\"new_params\", new_params)\n"
   ]
  },
  {
   "cell_type": "code",
   "execution_count": null,
   "metadata": {},
   "outputs": [],
   "source": []
  },
  {
   "cell_type": "code",
   "execution_count": null,
   "metadata": {},
   "outputs": [],
   "source": []
  }
 ],
 "metadata": {
  "kernelspec": {
   "display_name": "Python 3",
   "language": "python",
   "name": "python3"
  },
  "language_info": {
   "codemirror_mode": {
    "name": "ipython",
    "version": 3
   },
   "file_extension": ".py",
   "mimetype": "text/x-python",
   "name": "python",
   "nbconvert_exporter": "python",
   "pygments_lexer": "ipython3",
   "version": "3.6.9"
  }
 },
 "nbformat": 4,
 "nbformat_minor": 4
}

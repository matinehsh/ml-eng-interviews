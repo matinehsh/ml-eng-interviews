{
 "cells": [
  {
   "cell_type": "code",
   "execution_count": 1,
   "metadata": {},
   "outputs": [],
   "source": [
    "import random"
   ]
  },
  {
   "cell_type": "code",
   "execution_count": 28,
   "metadata": {},
   "outputs": [
    {
     "name": "stdout",
     "output_type": "stream",
     "text": [
      "0.5482368596141052\n"
     ]
    }
   ],
   "source": [
    "# Amy and Brad take turns in rolling a fair six-sided die. \n",
    "# Whoever rolls a “6” first wins the game. \n",
    "# Amy starts by rolling first. \n",
    "# What’s the probability that Amy wins?\n",
    "\n",
    "def A_wins_prob(num_iter=10000, options=range(1,7)):\n",
    "    A_count, B_count = 0, 0\n",
    "    for _ in range(num_iter):\n",
    "        A_roll = random.choice(options)\n",
    "        if A_roll == 6:\n",
    "            A_count += 1\n",
    "        else:\n",
    "            B_roll = random.choice(options)\n",
    "            if B_roll == 6:\n",
    "                B_count += 1\n",
    "    return A_count / (A_count + B_count)\n",
    "\n",
    "random.seed(321)\n",
    "print(A_wins_prob())\n",
    "\n"
   ]
  },
  {
   "cell_type": "code",
   "execution_count": null,
   "metadata": {},
   "outputs": [],
   "source": []
  }
 ],
 "metadata": {
  "kernelspec": {
   "display_name": "Python 3",
   "language": "python",
   "name": "python3"
  },
  "language_info": {
   "codemirror_mode": {
    "name": "ipython",
    "version": 3
   },
   "file_extension": ".py",
   "mimetype": "text/x-python",
   "name": "python",
   "nbconvert_exporter": "python",
   "pygments_lexer": "ipython3",
   "version": "3.6.9"
  }
 },
 "nbformat": 4,
 "nbformat_minor": 4
}

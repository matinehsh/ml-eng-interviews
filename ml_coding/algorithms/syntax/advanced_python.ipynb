{
 "cells": [
  {
   "cell_type": "code",
   "execution_count": 2,
   "metadata": {},
   "outputs": [],
   "source": [
    "import heapq\n",
    "from collections import OrderedDict # linked hash map"
   ]
  },
  {
   "cell_type": "markdown",
   "metadata": {},
   "source": [
    "### HEAP"
   ]
  },
  {
   "cell_type": "code",
   "execution_count": 4,
   "metadata": {},
   "outputs": [
    {
     "name": "stdout",
     "output_type": "stream",
     "text": [
      "[1, 3, 2, 6, 5, 4, 7, 8, 7]\n",
      "[1, 3, 2, 6, 5, 4, 7, 8, 7]\n",
      "1 3 2 6\n",
      "1\n",
      "2\n",
      "3\n",
      "4\n",
      "5\n",
      "6\n",
      "7\n",
      "7\n",
      "8\n"
     ]
    }
   ],
   "source": [
    "nums = [4,5,1,8,3,2,7,6,7]\n",
    "\n",
    "# one way\n",
    "heap = []\n",
    "for num in nums:\n",
    "    heapq.heappush(heap, num)\n",
    "print(heap)\n",
    "\n",
    "# another way, in place.\n",
    "heapq.heapify(nums)\n",
    "print(nums) \n",
    "\n",
    "# heap[0] is always the min, but heap[1] is not second min, and so on.\n",
    "print(heap[0], heap[1], heap[2], heap[3])\n",
    "\n",
    "# use heappop() to get in sorted order.\n",
    "while nums:\n",
    "    print(heapq.heappop(nums))"
   ]
  },
  {
   "cell_type": "markdown",
   "metadata": {},
   "source": [
    "### BITWISE"
   ]
  },
  {
   "cell_type": "code",
   "execution_count": null,
   "metadata": {},
   "outputs": [],
   "source": [
    "#operators\n",
    "# and: &, or: |, not: ~, xor: ^, left shift: <<, right shift: >>"
   ]
  },
  {
   "cell_type": "code",
   "execution_count": 4,
   "metadata": {},
   "outputs": [
    {
     "data": {
      "text/plain": [
       "'1000'"
      ]
     },
     "execution_count": 4,
     "metadata": {},
     "output_type": "execute_result"
    }
   ],
   "source": [
    "format(8, 'b')"
   ]
  },
  {
   "cell_type": "code",
   "execution_count": 5,
   "metadata": {},
   "outputs": [
    {
     "data": {
      "text/plain": [
       "'0000000000001000'"
      ]
     },
     "execution_count": 5,
     "metadata": {},
     "output_type": "execute_result"
    }
   ],
   "source": [
    "# 16 bit representation\n",
    "format(8, 'b').zfill(16)"
   ]
  },
  {
   "cell_type": "code",
   "execution_count": 10,
   "metadata": {},
   "outputs": [
    {
     "data": {
      "text/plain": [
       "(1000, 8)"
      ]
     },
     "execution_count": 10,
     "metadata": {},
     "output_type": "execute_result"
    }
   ],
   "source": [
    "int('1000'), int('1000', 2)"
   ]
  },
  {
   "cell_type": "code",
   "execution_count": 38,
   "metadata": {},
   "outputs": [
    {
     "data": {
      "text/plain": [
       "(8, 0, -9)"
      ]
     },
     "execution_count": 38,
     "metadata": {},
     "output_type": "execute_result"
    }
   ],
   "source": [
    "8 & 9, 8 & 17, ~8 # not giving correct results"
   ]
  },
  {
   "cell_type": "code",
   "execution_count": 39,
   "metadata": {},
   "outputs": [
    {
     "data": {
      "text/plain": [
       "('1', '11001', '-1001')"
      ]
     },
     "execution_count": 39,
     "metadata": {},
     "output_type": "execute_result"
    }
   ],
   "source": [
    "x = 9; y = 17\n",
    "format(x & y, 'b'), format(x | y, 'b'), "
   ]
  },
  {
   "cell_type": "code",
   "execution_count": 33,
   "metadata": {},
   "outputs": [
    {
     "data": {
      "text/plain": [
       "20"
      ]
     },
     "execution_count": 33,
     "metadata": {},
     "output_type": "execute_result"
    }
   ],
   "source": [
    "# sum of two positive integers x+y where x>y:\n",
    "x, y = 12, 8\n",
    "while y:\n",
    "    x, y = x^y, (x&y)<<1\n",
    "x"
   ]
  },
  {
   "cell_type": "code",
   "execution_count": 34,
   "metadata": {},
   "outputs": [
    {
     "data": {
      "text/plain": [
       "4"
      ]
     },
     "execution_count": 34,
     "metadata": {},
     "output_type": "execute_result"
    }
   ],
   "source": [
    "# differnce of two positive integers x-y where x>y:\n",
    "x, y = 12, 8\n",
    "while y:\n",
    "    x, y = x^y, (~x&y)<<1\n",
    "x"
   ]
  },
  {
   "cell_type": "code",
   "execution_count": 54,
   "metadata": {},
   "outputs": [
    {
     "data": {
      "text/plain": [
       "(4, 16)"
      ]
     },
     "execution_count": 54,
     "metadata": {},
     "output_type": "execute_result"
    }
   ],
   "source": [
    "n = 8\n",
    "n >> 1, n << 1"
   ]
  },
  {
   "cell_type": "code",
   "execution_count": 57,
   "metadata": {},
   "outputs": [
    {
     "data": {
      "text/plain": [
       "(0, 4)"
      ]
     },
     "execution_count": 57,
     "metadata": {},
     "output_type": "execute_result"
    }
   ],
   "source": [
    "3^3, 4^0"
   ]
  },
  {
   "cell_type": "code",
   "execution_count": 4,
   "metadata": {},
   "outputs": [
    {
     "data": {
      "text/plain": [
       "{2, 3}"
      ]
     },
     "execution_count": 4,
     "metadata": {},
     "output_type": "execute_result"
    }
   ],
   "source": [
    "a = set([1,2,3])\n",
    "a.remove(1)\n",
    "a"
   ]
  },
  {
   "cell_type": "markdown",
   "metadata": {},
   "source": [
    "### Ordered Dict"
   ]
  },
  {
   "cell_type": "code",
   "execution_count": 26,
   "metadata": {},
   "outputs": [],
   "source": [
    "def get_od():\n",
    "    od = OrderedDict()\n",
    "    od[\"a\"] = 1\n",
    "    od[\"b\"] = 2\n",
    "    od[\"c\"] = 3\n",
    "    od[\"d\"] = 4\n",
    "    return od  "
   ]
  },
  {
   "cell_type": "code",
   "execution_count": 27,
   "metadata": {},
   "outputs": [
    {
     "name": "stdout",
     "output_type": "stream",
     "text": [
      "2\n",
      "OrderedDict([('a', 1), ('c', 3), ('d', 4)])\n"
     ]
    }
   ],
   "source": [
    "od = get_od()\n",
    "# removes the specified key\n",
    "print(od.pop(\"b\"))\n",
    "print(od)"
   ]
  },
  {
   "cell_type": "code",
   "execution_count": 29,
   "metadata": {},
   "outputs": [
    {
     "name": "stdout",
     "output_type": "stream",
     "text": [
      "('d', 4)\n",
      "OrderedDict([('a', 1), ('b', 2), ('c', 3)])\n",
      "('a', 1)\n",
      "OrderedDict([('b', 2), ('c', 3), ('d', 4)])\n"
     ]
    }
   ],
   "source": [
    "od = get_od()\n",
    "# removes the last added item by default, like a stack\n",
    "print(od.popitem())\n",
    "print(od)\n",
    "\n",
    "od = get_od()\n",
    "# removes first added item if last=False, like a queue\n",
    "print(od.popitem(last=False))\n",
    "print(od)"
   ]
  },
  {
   "cell_type": "code",
   "execution_count": 33,
   "metadata": {},
   "outputs": [
    {
     "data": {
      "text/plain": [
       "odict_items([('a', 1), ('b', 2), ('c', 3), ('d', 4)])"
      ]
     },
     "execution_count": 33,
     "metadata": {},
     "output_type": "execute_result"
    }
   ],
   "source": [
    "od = get_od()\n",
    "od.items()"
   ]
  },
  {
   "cell_type": "code",
   "execution_count": 38,
   "metadata": {},
   "outputs": [
    {
     "name": "stdout",
     "output_type": "stream",
     "text": [
      "OrderedDict([('a', 1), ('c', 3), ('d', 4), ('b', 2)])\n"
     ]
    },
    {
     "data": {
      "text/plain": [
       "('b', 2)"
      ]
     },
     "execution_count": 38,
     "metadata": {},
     "output_type": "execute_result"
    }
   ],
   "source": [
    "od = get_od()\n",
    "# move existing item to end by default. end means position of last added.\n",
    "od.move_to_end(\"b\")\n",
    "print(od)\n",
    "od.popitem()"
   ]
  },
  {
   "cell_type": "code",
   "execution_count": 39,
   "metadata": {},
   "outputs": [
    {
     "name": "stdout",
     "output_type": "stream",
     "text": [
      "OrderedDict([('b', 2), ('a', 1), ('c', 3), ('d', 4)])\n"
     ]
    },
    {
     "data": {
      "text/plain": [
       "('b', 2)"
      ]
     },
     "execution_count": 39,
     "metadata": {},
     "output_type": "execute_result"
    }
   ],
   "source": [
    "od = get_od()\n",
    "# move existing item to beginning by default. beginning means position of first added.\n",
    "od.move_to_end(\"b\", last=False)\n",
    "print(od)\n",
    "od.popitem(last=False)"
   ]
  },
  {
   "cell_type": "code",
   "execution_count": 40,
   "metadata": {},
   "outputs": [
    {
     "data": {
      "text/plain": [
       "4"
      ]
     },
     "execution_count": 40,
     "metadata": {},
     "output_type": "execute_result"
    }
   ],
   "source": [
    "od = get_od()\n",
    "len(od)"
   ]
  },
  {
   "cell_type": "markdown",
   "metadata": {},
   "source": [
    "### SET"
   ]
  },
  {
   "cell_type": "code",
   "execution_count": 2,
   "metadata": {},
   "outputs": [
    {
     "data": {
      "text/plain": [
       "{'oathfii'}"
      ]
     },
     "execution_count": 2,
     "metadata": {},
     "output_type": "execute_result"
    }
   ],
   "source": [
    "A = set([\"oath\",\"oathf\",\"oathfi\",\"oathi\",\"oathii\",\"oathk\",\"oate\",\"eat\"])\n",
    "B = set([\"oath\",\"oathk\",\"oathf\",\"oathfi\",\"oathfii\",\"oathi\",\"oathii\",\"oate\",\"eat\"])\n",
    "B.difference(A)"
   ]
  },
  {
   "cell_type": "markdown",
   "metadata": {},
   "source": [
    "### ORD"
   ]
  },
  {
   "cell_type": "code",
   "execution_count": 2,
   "metadata": {},
   "outputs": [
    {
     "data": {
      "text/plain": [
       "(97, 2, 25)"
      ]
     },
     "execution_count": 2,
     "metadata": {},
     "output_type": "execute_result"
    }
   ],
   "source": [
    "# integer representing unicode character\n",
    "ord(\"a\"), ord(\"c\")-ord(\"a\"), ord(\"z\")-ord(\"a\")"
   ]
  },
  {
   "cell_type": "code",
   "execution_count": null,
   "metadata": {},
   "outputs": [],
   "source": []
  }
 ],
 "metadata": {
  "kernelspec": {
   "display_name": "Python 3",
   "language": "python",
   "name": "python3"
  },
  "language_info": {
   "codemirror_mode": {
    "name": "ipython",
    "version": 3
   },
   "file_extension": ".py",
   "mimetype": "text/x-python",
   "name": "python",
   "nbconvert_exporter": "python",
   "pygments_lexer": "ipython3",
   "version": "3.6.9"
  }
 },
 "nbformat": 4,
 "nbformat_minor": 4
}

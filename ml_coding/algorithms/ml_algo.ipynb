{
 "cells": [
  {
   "cell_type": "code",
   "execution_count": 1,
   "metadata": {},
   "outputs": [],
   "source": [
    "from collections import Counter\n",
    "import numpy as np"
   ]
  },
  {
   "cell_type": "markdown",
   "metadata": {},
   "source": [
    "### KNN"
   ]
  },
  {
   "cell_type": "code",
   "execution_count": 21,
   "metadata": {},
   "outputs": [],
   "source": [
    "x_train = np.arange(48).reshape(12,4)\n",
    "y_train = np.array([2,1,2,2,3,1,2,2,3,1,2,2])\n",
    "x_test = np.arange(20).reshape(5,4)\n",
    "y_test = np.array([1,2,2,1,2])\n",
    "\n",
    "num_train, num_test = x_train.shape[0], x_test.shape[0]"
   ]
  },
  {
   "cell_type": "code",
   "execution_count": 18,
   "metadata": {},
   "outputs": [
    {
     "data": {
      "text/plain": [
       "array([[ 0.,  8., 16., 24., 32., 40., 48., 56., 64., 72., 80., 88.],\n",
       "       [ 8.,  0.,  8., 16., 24., 32., 40., 48., 56., 64., 72., 80.],\n",
       "       [16.,  8.,  0.,  8., 16., 24., 32., 40., 48., 56., 64., 72.],\n",
       "       [24., 16.,  8.,  0.,  8., 16., 24., 32., 40., 48., 56., 64.],\n",
       "       [32., 24., 16.,  8.,  0.,  8., 16., 24., 32., 40., 48., 56.]])"
      ]
     },
     "execution_count": 18,
     "metadata": {},
     "output_type": "execute_result"
    }
   ],
   "source": [
    "# distance matrix with one for loop\n",
    "dists = np.zeros((num_test, num_train)) # kernel matrix\n",
    "for i in range(num_test):\n",
    "    dists[i,:] = np.linalg.norm(x_train - x_test[i,:], axis=1)\n",
    "dists"
   ]
  },
  {
   "cell_type": "code",
   "execution_count": 19,
   "metadata": {},
   "outputs": [
    {
     "data": {
      "text/plain": [
       "array([[ 0.,  8., 16., 24., 32., 40., 48., 56., 64., 72., 80., 88.],\n",
       "       [ 8.,  0.,  8., 16., 24., 32., 40., 48., 56., 64., 72., 80.],\n",
       "       [16.,  8.,  0.,  8., 16., 24., 32., 40., 48., 56., 64., 72.],\n",
       "       [24., 16.,  8.,  0.,  8., 16., 24., 32., 40., 48., 56., 64.],\n",
       "       [32., 24., 16.,  8.,  0.,  8., 16., 24., 32., 40., 48., 56.]])"
      ]
     },
     "execution_count": 19,
     "metadata": {},
     "output_type": "execute_result"
    }
   ],
   "source": [
    "# distance matrix without for loop, much faster\n",
    "term1 = np.tile(np.sum(x_test**2, axis=1, keepdims=True), [1, num_train])\n",
    "term2 = np.tile(np.sum(x_train**2, axis=1, keepdims=True).T, [num_test, 1])\n",
    "term3 = -2 * np.dot(x_test, x_train.T)\n",
    "dists = np.sqrt(term1 + term2 + term3)\n",
    "dists"
   ]
  },
  {
   "cell_type": "code",
   "execution_count": 23,
   "metadata": {},
   "outputs": [
    {
     "data": {
      "text/plain": [
       "(array([2., 2., 2., 2., 3.]), array([1, 2, 2, 1, 2]))"
      ]
     },
     "execution_count": 23,
     "metadata": {},
     "output_type": "execute_result"
    }
   ],
   "source": [
    "K = 3 # num neareset neighbors\n",
    "y_pred = np.zeros(num_test)\n",
    "for i in range(num_test):\n",
    "    inds = np.argsort(dists[i,:])[:K]\n",
    "    y_pred[i] = sorted(Counter(y_train[inds]).items(), key=lambda x: x[1], reverse=True)[0][0]\n",
    "y_pred, y_test"
   ]
  },
  {
   "cell_type": "code",
   "execution_count": 26,
   "metadata": {},
   "outputs": [
    {
     "data": {
      "text/plain": [
       "0.4"
      ]
     },
     "execution_count": 26,
     "metadata": {},
     "output_type": "execute_result"
    }
   ],
   "source": [
    "accuracy = sum(y_pred==y_test)/num_test\n",
    "accuracy"
   ]
  },
  {
   "cell_type": "code",
   "execution_count": null,
   "metadata": {},
   "outputs": [],
   "source": []
  }
 ],
 "metadata": {
  "kernelspec": {
   "display_name": "Python 3",
   "language": "python",
   "name": "python3"
  },
  "language_info": {
   "codemirror_mode": {
    "name": "ipython",
    "version": 3
   },
   "file_extension": ".py",
   "mimetype": "text/x-python",
   "name": "python",
   "nbconvert_exporter": "python",
   "pygments_lexer": "ipython3",
   "version": "3.6.9"
  }
 },
 "nbformat": 4,
 "nbformat_minor": 4
}

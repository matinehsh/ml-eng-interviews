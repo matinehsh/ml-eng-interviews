{
 "cells": [
  {
   "cell_type": "code",
   "execution_count": 2,
   "metadata": {},
   "outputs": [],
   "source": [
    "import numpy as np\n",
    "import random"
   ]
  },
  {
   "cell_type": "code",
   "execution_count": 2,
   "metadata": {},
   "outputs": [
    {
     "data": {
      "text/plain": [
       "2"
      ]
     },
     "execution_count": 2,
     "metadata": {},
     "output_type": "execute_result"
    }
   ],
   "source": [
    "# get single random number from [a,b] inclusive\n",
    "random.randint(1,5)"
   ]
  },
  {
   "cell_type": "code",
   "execution_count": 3,
   "metadata": {},
   "outputs": [
    {
     "name": "stdout",
     "output_type": "stream",
     "text": [
      "[7, 5]\n",
      "[3, 1]\n",
      "[1, 7]\n",
      "[5, 3]\n",
      "[5, 3]\n",
      "[3, 7]\n",
      "[1, 5]\n",
      "[5, 3]\n",
      "[3, 1]\n",
      "[1, 5]\n",
      "[1, 5]\n",
      "[5, 3]\n",
      "[3, 7]\n",
      "[5, 1]\n",
      "[1, 3]\n"
     ]
    }
   ],
   "source": [
    "# sample k random numbers from list, tuple or set \n",
    "# without replacement (no repeats)\n",
    "for _ in range(15):\n",
    "    print(random.sample([1,3,5,7], k=2))"
   ]
  },
  {
   "cell_type": "code",
   "execution_count": 75,
   "metadata": {},
   "outputs": [
    {
     "name": "stdout",
     "output_type": "stream",
     "text": [
      "[3, 5]\n",
      "[1, 7]\n",
      "[7, 3]\n",
      "[1, 5]\n",
      "[3, 3]\n",
      "[3, 3]\n",
      "[7, 7]\n",
      "[3, 5]\n",
      "[7, 5]\n",
      "[7, 5]\n",
      "[7, 5]\n",
      "[5, 5]\n",
      "[5, 1]\n",
      "[7, 3]\n",
      "[5, 5]\n"
     ]
    }
   ],
   "source": [
    "# sample k random numbers from list, tuple or set\n",
    "# with replacement (has repeats)\n",
    "for _ in range(15):\n",
    "    print(random.choices([1,3,5,7], k=2))"
   ]
  },
  {
   "cell_type": "code",
   "execution_count": 5,
   "metadata": {},
   "outputs": [
    {
     "name": "stdout",
     "output_type": "stream",
     "text": [
      "[1, 1]\n",
      "[1, 1]\n",
      "[1, 1]\n",
      "[1, 1]\n",
      "[1, 7]\n",
      "[1, 1]\n",
      "[1, 3]\n",
      "[1, 1]\n",
      "[1, 1]\n",
      "[1, 1]\n",
      "[1, 1]\n",
      "[1, 1]\n",
      "[1, 1]\n",
      "[3, 7]\n",
      "[1, 1]\n"
     ]
    }
   ],
   "source": [
    "# sample k random numbers from list, tuple or set\n",
    "# weighted sampling with replacement\n",
    "for _ in range(15):\n",
    "    print(random.choices([1,3,5,7], k=2, weights=[20,1,1,1]))"
   ]
  },
  {
   "cell_type": "code",
   "execution_count": 77,
   "metadata": {},
   "outputs": [
    {
     "data": {
      "text/plain": [
       "[5, 3, 1, 7]"
      ]
     },
     "execution_count": 77,
     "metadata": {},
     "output_type": "execute_result"
    }
   ],
   "source": [
    "# shuffles array in place\n",
    "nums = [1,3,5,7]\n",
    "random.shuffle(nums)\n",
    "nums"
   ]
  },
  {
   "cell_type": "code",
   "execution_count": 83,
   "metadata": {},
   "outputs": [
    {
     "data": {
      "text/plain": [
       "0.513225798735044"
      ]
     },
     "execution_count": 83,
     "metadata": {},
     "output_type": "execute_result"
    }
   ],
   "source": [
    "# float in interval [0,1)\n",
    "random.random()"
   ]
  },
  {
   "cell_type": "code",
   "execution_count": 4,
   "metadata": {},
   "outputs": [
    {
     "data": {
      "text/plain": [
       "array([[-1.17548727, -1.39690815,  0.48900574,  1.29020106,  2.86434655],\n",
       "       [-0.31743287, -1.68927436, -0.08353522, -0.26501186, -0.53612646],\n",
       "       [ 1.15529572, -0.94492925,  1.30759834,  0.09809025, -0.33201666]])"
      ]
     },
     "execution_count": 4,
     "metadata": {},
     "output_type": "execute_result"
    }
   ],
   "source": [
    "np.random.randn(3,5)"
   ]
  },
  {
   "cell_type": "code",
   "execution_count": 27,
   "metadata": {},
   "outputs": [
    {
     "data": {
      "text/plain": [
       "{2}"
      ]
     },
     "execution_count": 27,
     "metadata": {},
     "output_type": "execute_result"
    }
   ],
   "source": [
    "hset"
   ]
  },
  {
   "cell_type": "code",
   "execution_count": null,
   "metadata": {},
   "outputs": [],
   "source": []
  }
 ],
 "metadata": {
  "kernelspec": {
   "display_name": "Python 3",
   "language": "python",
   "name": "python3"
  },
  "language_info": {
   "codemirror_mode": {
    "name": "ipython",
    "version": 3
   },
   "file_extension": ".py",
   "mimetype": "text/x-python",
   "name": "python",
   "nbconvert_exporter": "python",
   "pygments_lexer": "ipython3",
   "version": "3.6.9"
  }
 },
 "nbformat": 4,
 "nbformat_minor": 4
}

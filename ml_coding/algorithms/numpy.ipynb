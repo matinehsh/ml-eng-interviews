{
 "cells": [
  {
   "cell_type": "code",
   "execution_count": 2,
   "metadata": {},
   "outputs": [],
   "source": [
    "from collections import Counter\n",
    "import numpy as np"
   ]
  },
  {
   "cell_type": "markdown",
   "metadata": {},
   "source": [
    "### slicing"
   ]
  },
  {
   "cell_type": "code",
   "execution_count": 336,
   "metadata": {},
   "outputs": [
    {
     "name": "stdout",
     "output_type": "stream",
     "text": [
      "[[[ 0  1  2  3]\n",
      "  [ 4  5  6  7]\n",
      "  [ 8  9 10 11]]\n",
      "\n",
      " [[12 13 14 15]\n",
      "  [16 17 18 19]\n",
      "  [20 21 22 23]]]\n",
      "\n",
      "[[ 0  1  2  3]\n",
      " [ 4  5  6  7]\n",
      " [ 8  9 10 11]]\n",
      "\n",
      "[[ 4  5  6  7]\n",
      " [ 8  9 10 11]]\n",
      "\n",
      "[[17 18 19]\n",
      " [21 22 23]]\n"
     ]
    }
   ],
   "source": [
    "arr = np.arange(24).reshape((2,3,4))\n",
    "print(arr) # if shape=(x,y,z), there are x arrays of size (y,z)\n",
    "print(\"\")\n",
    "\n",
    "# slicing a:b, inclusive for a, not inclusive for b. similar to python list\n",
    "print(arr[0])\n",
    "print(\"\")\n",
    "print(arr[0, 1:3, :])\n",
    "print(\"\")\n",
    "print(arr[1, 1:3, 1:4])"
   ]
  },
  {
   "cell_type": "code",
   "execution_count": 319,
   "metadata": {},
   "outputs": [
    {
     "name": "stdout",
     "output_type": "stream",
     "text": [
      "(12, 4, 4, 3)\n",
      "(12,)\n"
     ]
    },
    {
     "data": {
      "text/plain": [
       "(6, 4, 4, 3)"
      ]
     },
     "execution_count": 319,
     "metadata": {},
     "output_type": "execute_result"
    }
   ],
   "source": [
    "x = np.arange(576).reshape(12,4,4,3)\n",
    "print(x.shape)\n",
    "\n",
    "y = np.array([7]*4+[8]*4+[9]*4)\n",
    "np.random.shuffle(y)\n",
    "print(y.shape)\n",
    "\n",
    "# sample 2 instances from each of 3 classes.\n",
    "n, C = 2, 3\n",
    "samples = np.zeros([n*C] + list(x.shape[1:]))\n",
    "for i, lbl in enumerate(set(y)):\n",
    "    inds = np.where(y==lbl)[0]\n",
    "    picks = np.random.choice(inds, n)\n",
    "    samples[i*n:(i+1)*n,:,:,:] = x[picks]\n",
    "samples.shape"
   ]
  },
  {
   "cell_type": "markdown",
   "metadata": {},
   "source": [
    "### stacking"
   ]
  },
  {
   "cell_type": "code",
   "execution_count": 334,
   "metadata": {},
   "outputs": [
    {
     "name": "stdout",
     "output_type": "stream",
     "text": [
      "[[ 0  1  2]\n",
      " [ 3  4  5]\n",
      " [ 6  7  8]\n",
      " [ 9 10 11]\n",
      " [12 13 14]]\n",
      "\n",
      "[[ 0  1  2  6  7  8  9 10]\n",
      " [ 3  4  5 11 12 13 14 15]]\n"
     ]
    }
   ],
   "source": [
    "a = np.arange(0,6).reshape(2,3)\n",
    "b = np.arange(6,15).reshape(3,3)\n",
    "print(np.vstack([a,b]))\n",
    "print(\"\")\n",
    "a = np.arange(0,6).reshape(2,3)\n",
    "c = np.arange(6,16).reshape(2,5)\n",
    "print(np.hstack([a,c]))"
   ]
  },
  {
   "cell_type": "markdown",
   "metadata": {},
   "source": [
    "### operations"
   ]
  },
  {
   "cell_type": "code",
   "execution_count": 77,
   "metadata": {},
   "outputs": [
    {
     "data": {
      "text/plain": [
       "(3.872983346207417, 5.0)"
      ]
     },
     "execution_count": 77,
     "metadata": {},
     "output_type": "execute_result"
    }
   ],
   "source": [
    "x = np.array([1,3,5,7,9])\n",
    "y = np.array([2,3,4,5,6])\n",
    "np.linalg.norm(x-y), np.linalg.norm([3,4])"
   ]
  },
  {
   "cell_type": "code",
   "execution_count": 198,
   "metadata": {},
   "outputs": [
    {
     "name": "stdout",
     "output_type": "stream",
     "text": [
      "[[1 3 5 6]\n",
      " [2 3 4 5]\n",
      " [0 1 0 2]]\n",
      "\n",
      "[[ 3  7  9 13]]\n",
      "\n",
      "[[15]\n",
      " [14]\n",
      " [ 3]]\n"
     ]
    }
   ],
   "source": [
    "x = np.array([[1,3,5,6], [2,3,4,5], [0,1,0,2]])\n",
    "print(x)\n",
    "print(\"\")\n",
    "row_sums = np.sum(x, axis=0, keepdims=True); print(row_sums)\n",
    "print(\"\")\n",
    "col_sums = np.sum(x, axis=1, keepdims=True); print(col_sums)"
   ]
  },
  {
   "cell_type": "code",
   "execution_count": 148,
   "metadata": {},
   "outputs": [
    {
     "name": "stdout",
     "output_type": "stream",
     "text": [
      "(3, 2)\n",
      "(2, 4)\n",
      "(3, 4)\n"
     ]
    }
   ],
   "source": [
    "# matrix multiplication\n",
    "a = np.array([[1,2],[4,5],[6,7]]); print(a.shape)\n",
    "b = np.array([[2,3,4,5],[4,5,6,7]]); print(b.shape)\n",
    "c = np.dot(a, b); print(c.shape)"
   ]
  },
  {
   "cell_type": "code",
   "execution_count": 350,
   "metadata": {},
   "outputs": [
    {
     "name": "stdout",
     "output_type": "stream",
     "text": [
      "(3, 2)\n",
      "(3, 2)\n",
      "(3, 2)\n"
     ]
    }
   ],
   "source": [
    "# elementwise multiplication\n",
    "a = np.array([[1,2],[4,5],[6,7]]); print(a.shape)\n",
    "b = np.array([[2,3],[6,7],[8,9]]); print(b.shape)\n",
    "c = np.multiply(a, b); print(c.shape) # same as a * b"
   ]
  },
  {
   "cell_type": "code",
   "execution_count": 206,
   "metadata": {},
   "outputs": [
    {
     "name": "stdout",
     "output_type": "stream",
     "text": [
      "2\n",
      "[2 0 1 3 4]\n"
     ]
    }
   ],
   "source": [
    "arr = [2,3,1,4,5]\n",
    "print(np.argmin(arr))\n",
    "print(np.argsort(arr))"
   ]
  },
  {
   "cell_type": "code",
   "execution_count": 269,
   "metadata": {},
   "outputs": [
    {
     "data": {
      "text/plain": [
       "[array([[0, 1, 2],\n",
       "        [3, 4, 5]]),\n",
       " array([[ 6,  7,  8],\n",
       "        [ 9, 10, 11]]),\n",
       " array([[12, 13, 14],\n",
       "        [15, 16, 17]]),\n",
       " array([[18, 19, 20],\n",
       "        [21, 22, 23]]),\n",
       " array([[24, 25, 26],\n",
       "        [27, 28, 29]])]"
      ]
     },
     "execution_count": 269,
     "metadata": {},
     "output_type": "execute_result"
    }
   ],
   "source": [
    "x = np.arange(30).reshape(10,3)\n",
    "np.array_split(x, 5)"
   ]
  },
  {
   "cell_type": "code",
   "execution_count": 268,
   "metadata": {},
   "outputs": [
    {
     "data": {
      "text/plain": [
       "array([[ 0,  1,  2,  3,  4],\n",
       "       [ 5,  6,  7,  8,  9],\n",
       "       [10, 11, 12, 13, 14],\n",
       "       [15, 16, 17, 18, 19],\n",
       "       [20, 21, 22, 23, 24],\n",
       "       [25, 26, 27, 28, 29]])"
      ]
     },
     "execution_count": 268,
     "metadata": {},
     "output_type": "execute_result"
    }
   ],
   "source": [
    "x1 = np.arange(10).reshape(2,5)\n",
    "x2 = np.arange(10,25).reshape(3,5)\n",
    "x3 = np.arange(25,30).reshape(1,5)\n",
    "np.concatenate((x1,x2,x3))"
   ]
  },
  {
   "cell_type": "code",
   "execution_count": 274,
   "metadata": {},
   "outputs": [
    {
     "data": {
      "text/plain": [
       "array([[ 0,  1,  6,  7,  8],\n",
       "       [ 2,  3,  9, 10, 11],\n",
       "       [ 4,  5, 12, 13, 14]])"
      ]
     },
     "execution_count": 274,
     "metadata": {},
     "output_type": "execute_result"
    }
   ],
   "source": [
    "x1 = np.arange(6).reshape(3,2)\n",
    "x2 = np.arange(6,15).reshape(3,3)\n",
    "np.concatenate((x1,x2), axis=1)"
   ]
  },
  {
   "cell_type": "code",
   "execution_count": 347,
   "metadata": {},
   "outputs": [
    {
     "data": {
      "text/plain": [
       "array([[0, 1, 2, 0, 1, 2],\n",
       "       [3, 4, 5, 3, 4, 5],\n",
       "       [0, 1, 2, 0, 1, 2],\n",
       "       [3, 4, 5, 3, 4, 5]])"
      ]
     },
     "execution_count": 347,
     "metadata": {},
     "output_type": "execute_result"
    }
   ],
   "source": [
    "arr = np.arange(6).reshape(2,3)\n",
    "np.tile(arr, [2,2])"
   ]
  },
  {
   "cell_type": "code",
   "execution_count": 4,
   "metadata": {},
   "outputs": [
    {
     "data": {
      "text/plain": [
       "((array([ 5.54138127, -1.        , -0.54138127]),\n",
       "  array([[-6.60372686e-01, -4.47213595e-01,  1.74855890e-01],\n",
       "         [-3.57513400e-01,  5.96645255e-16, -9.68943154e-01],\n",
       "         [-6.60372686e-01,  8.94427191e-01,  1.74855890e-01]])),)"
      ]
     },
     "execution_count": 4,
     "metadata": {},
     "output_type": "execute_result"
    }
   ],
   "source": [
    "A = np.array([[3,1,2],[2,0,1],[4,1,1]])  #A = np.array(A)\n",
    "b = np.array([0,0,1])\n",
    "x = np.linalg.solve(A,b)\n",
    "\n",
    "np.linalg.eig(A), #np.rank(A)"
   ]
  },
  {
   "cell_type": "markdown",
   "metadata": {},
   "source": [
    "### random"
   ]
  },
  {
   "cell_type": "code",
   "execution_count": 217,
   "metadata": {},
   "outputs": [
    {
     "data": {
      "text/plain": [
       "array([[[4, 7, 3, 7],\n",
       "        [0, 1, 6, 7]],\n",
       "\n",
       "       [[8, 8, 4, 1],\n",
       "        [6, 6, 0, 2]],\n",
       "\n",
       "       [[8, 0, 1, 9],\n",
       "        [9, 3, 5, 6]]])"
      ]
     },
     "execution_count": 217,
     "metadata": {},
     "output_type": "execute_result"
    }
   ],
   "source": [
    "np.random.randint(low=0, high=10, size=[3,2,4]) # high is not inclusive."
   ]
  },
  {
   "cell_type": "code",
   "execution_count": 234,
   "metadata": {},
   "outputs": [
    {
     "data": {
      "text/plain": [
       "array([[ 3,  4,  5],\n",
       "       [ 9, 10, 11],\n",
       "       [ 6,  7,  8],\n",
       "       [ 0,  1,  2]])"
      ]
     },
     "execution_count": 234,
     "metadata": {},
     "output_type": "execute_result"
    }
   ],
   "source": [
    "x = np.arange(12).reshape(4,3)\n",
    "np.random.shuffle(x) # in place shuffle\n",
    "x"
   ]
  },
  {
   "cell_type": "code",
   "execution_count": 352,
   "metadata": {},
   "outputs": [
    {
     "data": {
      "text/plain": [
       "array([[ 1.31190107, -2.26962494,  1.72972904],\n",
       "       [-0.59373042, -1.81327718, -0.01085941]])"
      ]
     },
     "execution_count": 352,
     "metadata": {},
     "output_type": "execute_result"
    }
   ],
   "source": [
    "x = np.random.normal(scale=2,size=(2,3))\n",
    "x"
   ]
  },
  {
   "cell_type": "code",
   "execution_count": 8,
   "metadata": {},
   "outputs": [
    {
     "data": {
      "text/plain": [
       "(array([3, 3, 2]), array([1, 4, 2]))"
      ]
     },
     "execution_count": 8,
     "metadata": {},
     "output_type": "execute_result"
    }
   ],
   "source": [
    "np.random.choice(range(5), 3), np.random.choice(range(5), 3, replace=False)"
   ]
  },
  {
   "cell_type": "code",
   "execution_count": 9,
   "metadata": {},
   "outputs": [
    {
     "data": {
      "text/plain": [
       "array([0. , 0.1, 0.2, 0.3, 0.4, 0.5, 0.6, 0.7, 0.8, 0.9, 1. ])"
      ]
     },
     "execution_count": 9,
     "metadata": {},
     "output_type": "execute_result"
    }
   ],
   "source": [
    "np.linspace(0, 1, 11) # shape (11,)"
   ]
  },
  {
   "cell_type": "code",
   "execution_count": null,
   "metadata": {},
   "outputs": [],
   "source": []
  }
 ],
 "metadata": {
  "kernelspec": {
   "display_name": "Python 3",
   "language": "python",
   "name": "python3"
  },
  "language_info": {
   "codemirror_mode": {
    "name": "ipython",
    "version": 3
   },
   "file_extension": ".py",
   "mimetype": "text/x-python",
   "name": "python",
   "nbconvert_exporter": "python",
   "pygments_lexer": "ipython3",
   "version": "3.6.9"
  }
 },
 "nbformat": 4,
 "nbformat_minor": 4
}

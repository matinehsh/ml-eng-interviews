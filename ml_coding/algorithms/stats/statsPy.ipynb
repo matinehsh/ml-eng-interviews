{
 "cells": [
  {
   "cell_type": "code",
   "execution_count": 1,
   "metadata": {},
   "outputs": [],
   "source": [
    "from __future__ import division\n",
    "import numpy as np\n",
    "import math\n",
    "from math import *\n",
    "import scipy as sp\n",
    "import scipy.stats as ss\n",
    "from scipy.stats import norm\n",
    "import time\n",
    "from sklearn import linear_model\n",
    "from scipy import linalg\n",
    "import random\n",
    "from collections import Counter\n",
    "import matplotlib.pyplot as plt"
   ]
  },
  {
   "cell_type": "code",
   "execution_count": 2,
   "metadata": {},
   "outputs": [
    {
     "name": "stdout",
     "output_type": "stream",
     "text": [
      "6.07\n",
      "7.0\n",
      "7\n"
     ]
    }
   ],
   "source": [
    "nums = [1,2,3,4,6,6,7,7,7,7,8,8,8,8,9]\n",
    "print(round(np.mean(nums),2))\n",
    "print(np.median(nums))\n",
    "print(sp.stats.mode(nums)[0][0])"
   ]
  },
  {
   "cell_type": "code",
   "execution_count": 3,
   "metadata": {},
   "outputs": [],
   "source": [
    "'''\n",
    "The ratio of boys to girls for babies born in Russia is 1.09. \n",
    "If there is 1 child born per birth, what proportion of Russian \n",
    "families with exactly 6 children will have at least 3 boys?\n",
    "'''\n",
    "ratio = 1.09\n",
    "p = ratio / (ratio+1)\n",
    "n = 6"
   ]
  },
  {
   "cell_type": "code",
   "execution_count": 4,
   "metadata": {},
   "outputs": [
    {
     "name": "stdout",
     "output_type": "stream",
     "text": [
      "0.696\n"
     ]
    }
   ],
   "source": [
    "def fact(n):\n",
    "    return 1 if n==0 else n*fact(n-1)\n",
    "\n",
    "def comb(n,r):\n",
    "    return fact(n)/(fact(r)*fact(n-r))\n",
    "\n",
    "def b(n,r,p):\n",
    "    return comb(n,r) * p**r * (1-p)**(n-r)\n",
    "\n",
    "'''\n",
    "Note that summation over all possible r's is 1.\n",
    "prob = sum([b(n,r,p) for r in [0,1,2,3,4,5,6]])\n",
    "prob = 1\n",
    "'''\n",
    "prob = sum([b(n,r,p) for r in [3,4,5,6]])\n",
    "print(round(prob, 3))"
   ]
  },
  {
   "cell_type": "code",
   "execution_count": 7,
   "metadata": {},
   "outputs": [
    {
     "name": "stdout",
     "output_type": "stream",
     "text": [
      "0.692\n"
     ]
    }
   ],
   "source": [
    "\"\"\"\n",
    "Note that np.random.binomial(n, p, sz) returns number of successes.\n",
    "\"\"\"\n",
    "def binomial_simul(r, n, p, sz):\n",
    "    return np.mean(np.random.binomial(n, p, sz)==r)\n",
    "\n",
    "sz = 200000 # smaller sz less accurate\n",
    "prob = sum([binomial_simul(r, n, p, sz) for r in [3,4,5,6]])\n",
    "print(round(prob, 3))"
   ]
  },
  {
   "cell_type": "code",
   "execution_count": 8,
   "metadata": {},
   "outputs": [
    {
     "name": "stdout",
     "output_type": "stream",
     "text": [
      "[(39, 709), (38, 704), (40, 662), (37, 655), (41, 635), (36, 631), (42, 600), (35, 566), (43, 555), (44, 492), (34, 467), (33, 404), (45, 396), (46, 327), (32, 321), (31, 288), (47, 267), (48, 199), (30, 187), (49, 157), (29, 127), (50, 120), (28, 98), (51, 84), (27, 71), (26, 47), (52, 45), (53, 41), (54, 34), (25, 28), (24, 19), (55, 13), (56, 12), (23, 9), (57, 8), (58, 5), (59, 5), (21, 4), (22, 4), (20, 2), (60, 1), (62, 1)]\n",
      "0.0071\n",
      "0.008566903317549073\n",
      "\n",
      "0.0274\n",
      "0.026544245711691068\n"
     ]
    }
   ],
   "source": [
    "\"\"\"\n",
    "In a game 236 dice toss with p as prob of getting 6.\n",
    "\"\"\"\n",
    "n, p = 235, 1/6\n",
    "\n",
    "\"\"\"\n",
    "the more we increse sample size, the more we see the tail of the distro.\n",
    "\"\"\"\n",
    "sample_size = 10000\n",
    "print(sorted(Counter(np.random.binomial(n, p, sample_size)).items(), key=lambda tpl: tpl[1], reverse=True))\n",
    "\n",
    "# Equal if sample_size is infinity:\n",
    "print(np.mean(np.random.binomial(n, p, sample_size) == 51))\n",
    "print(b(n, 51, p))\n",
    "\n",
    "print(\"\")\n",
    "\n",
    "print(sum([np.mean(np.random.binomial(n, p, sample_size)==r) for r in range(51, n+1)]))\n",
    "print(sum([b(n, r, p) for r in range(51, n+1)]))"
   ]
  },
  {
   "cell_type": "code",
   "execution_count": 9,
   "metadata": {},
   "outputs": [
    {
     "data": {
      "text/plain": [
       "'\\ndefect in 1st inspection + defect in 2nd inspection + ... + defect in 5th inspection.\\nwhat does \"defect is found in i-th inspection mean\"? first i-1 healthy.\\n'"
      ]
     },
     "execution_count": 9,
     "metadata": {},
     "output_type": "execute_result"
    }
   ],
   "source": [
    "'''\n",
    "The probability that a machine produces a defective product is 1/3. \n",
    "What is the probability that the defect is found during \n",
    "the first 5 inspections?\n",
    "'''\n",
    "p = 1/3\n",
    "\n",
    "def geom(n,p):\n",
    "    return p * (1-p)**(n-1)\n",
    "    \n",
    "sum([geom(n,p) for n in [1,2,3,4,5]])\n",
    "\"\"\"\n",
    "defect in 1st inspection + defect in 2nd inspection + ... + defect in 5th inspection.\n",
    "what does \"defect is found in i-th inspection mean\"? first i-1 healthy.\n",
    "\"\"\""
   ]
  },
  {
   "cell_type": "code",
   "execution_count": 15,
   "metadata": {},
   "outputs": [
    {
     "data": {
      "text/plain": [
       "1.6448536269514722"
      ]
     },
     "execution_count": 15,
     "metadata": {},
     "output_type": "execute_result"
    }
   ],
   "source": [
    "norm.ppf(0.95)"
   ]
  },
  {
   "cell_type": "code",
   "execution_count": 10,
   "metadata": {},
   "outputs": [
    {
     "data": {
      "text/plain": [
       "0.2236736098317631"
      ]
     },
     "execution_count": 10,
     "metadata": {},
     "output_type": "execute_result"
    }
   ],
   "source": [
    "mu = 20\n",
    "s = 2\n",
    "\n",
    "x1 = 19.5\n",
    "x2, x3 = 20, 22\n",
    "\n",
    "math.erf((x1-mu)/s) + 0.5"
   ]
  },
  {
   "cell_type": "code",
   "execution_count": 17,
   "metadata": {},
   "outputs": [],
   "source": [
    "def standard_normal(x):\n",
    "    const = 1/sqrt(2*pi)\n",
    "    return const * exp(-0.5*x**2)\n",
    "\n",
    "def normal_pdf(x,mu,s):\n",
    "    return (1/s) * standard_normal((x-mu)/s)\n",
    "\n",
    "def normal_cdf(x,mu,s):\n",
    "    arg = (x-mu)/(s*sqrt(2))\n",
    "    return 0.5*(1+erf(arg))\n",
    "\n",
    "def normal_cdf1(x,mu,s):\n",
    "    return c(x, loc=mu, scale=s)\n",
    "\n",
    "def poisson_pdf(k,lmbd):\n",
    "    return lmbd**k*exp(-lmbd)/fact(k)\n"
   ]
  },
  {
   "cell_type": "code",
   "execution_count": 21,
   "metadata": {},
   "outputs": [
    {
     "name": "stdout",
     "output_type": "stream",
     "text": [
      "0.841344746068543\n",
      "0.8413447460685429\n",
      "\n",
      "0.9999997133484281\n",
      "0.9999997133484281\n"
     ]
    }
   ],
   "source": [
    "print(normal_cdf(5, 4, 1))\n",
    "print(normal_cdf1(5, 4, 1))\n",
    "print(\"\")\n",
    "print(ss.norm.cdf(5))\n",
    "print(normal_cdf1(5, 0, 1))"
   ]
  },
  {
   "cell_type": "code",
   "execution_count": 56,
   "metadata": {},
   "outputs": [
    {
     "data": {
      "text/plain": [
       "(0.009815328628645334, -2.3333333333333335)"
      ]
     },
     "execution_count": 56,
     "metadata": {},
     "output_type": "execute_result"
    }
   ],
   "source": [
    "'''\n",
    "A large elevator can transport a maximum of 9800 pounds. \n",
    "Suppose a load of cargo containing 49 boxes must be \n",
    "transported via the elevator. \n",
    "The box weight of this type of cargo follows a \n",
    "distribution with a mean of 205 pounds and a standard deviation \n",
    "of 15 pounds. Based on this information, what is the \n",
    "probability that all 49 boxes can be safely loaded into the \n",
    "freight elevator and transported?\n",
    "'''\n",
    "\n",
    "# population mean and std = 205, 15\n",
    "\n",
    "# sampling distribution std:\n",
    "standard_error = 15/sqrt(49)\n",
    "\n",
    "# 9800/49 = 200 capacity of elevator for each box.\n",
    "z_score = (200-205)/standard_error\n",
    "prob = norm.cdf(z_score)\n",
    "prob, z_score"
   ]
  },
  {
   "cell_type": "code",
   "execution_count": 141,
   "metadata": {},
   "outputs": [
    {
     "data": {
      "text/plain": [
       "0.69146246127401323"
      ]
     },
     "execution_count": 141,
     "metadata": {},
     "output_type": "execute_result"
    }
   ],
   "source": [
    "'''\n",
    "The number of tickets purchased by each student for the University X vs. \n",
    "University Y football game follows a distribution that has \n",
    "a mean of 2.4 and a standard deviation of 2.\n",
    "\n",
    "A few hours before the game starts, 100 eager students line up to \n",
    "purchase last-minute tickets. If there are only 250 tickets left, \n",
    "what is the probability that all students will be able to purchase tickets?\n",
    "'''\n",
    "# meaning what is the probability that every student buys 2.5 tickets?\n",
    "\n",
    "standard_error = 2/sqrt(100)\n",
    "\n",
    "z_score = (2.5-2.4)/standard_error\n",
    "prob = norm.cdf(z_score)\n",
    "prob"
   ]
  },
  {
   "cell_type": "code",
   "execution_count": 53,
   "metadata": {},
   "outputs": [
    {
     "name": "stdout",
     "output_type": "stream",
     "text": [
      "1.959963984540054\n",
      "0.9749962601845973\n",
      "-3.7190164854556804 3.719016485455709\n",
      "0.3989422804014327\n"
     ]
    }
   ],
   "source": [
    "# z-score based on probability\n",
    "print(norm.ppf(0.975))\n",
    "\n",
    "# probablity based on z-score\n",
    "print(norm.cdf(1.9599))\n",
    "\n",
    "# z-score range:\n",
    "print(norm.ppf(0.0001), norm.ppf(0.9999))\n",
    "\n",
    "print(norm.pdf(0))"
   ]
  },
  {
   "cell_type": "code",
   "execution_count": 73,
   "metadata": {},
   "outputs": [
    {
     "name": "stdout",
     "output_type": "stream",
     "text": [
      "1.6448536269514722 2.3263478740408408 3.090232306167813 0.0\n",
      "-1.9599639845400545 1.959963984540054\n",
      "-2.575829303548901 2.5758293035489004\n",
      "-3.2905267314918945 3.2905267314919255\n"
     ]
    }
   ],
   "source": [
    "\"\"\"\n",
    "what is z-critical value for alpha-level of 0.05, 0.01, 0.001 in one-tail distro?\n",
    "\"\"\"\n",
    "print(norm.ppf(0.95), norm.ppf(0.99), norm.ppf(0.999), norm.ppf(0.5))\n",
    "\n",
    "\"\"\"\n",
    "what is z-critical value for alpha-level of 0.05, 0.01, 0.001 in two-tail distro?\n",
    "\"\"\"\n",
    "print(norm.ppf(0.025), norm.ppf(0.975)) \n",
    "print(norm.ppf(0.005), norm.ppf(0.995)) \n",
    "print(norm.ppf(0.0005), norm.ppf(0.9995))\n"
   ]
  },
  {
   "cell_type": "code",
   "execution_count": 30,
   "metadata": {},
   "outputs": [],
   "source": [
    "# n = int(raw_input())\n",
    "# x = map(float, raw_input().split())\n",
    "# y = map(float, raw_input().split())\n",
    "\n",
    "def std(x):\n",
    "    n = len(x)\n",
    "    mu_x = sum(x)/n\n",
    "    return sqrt((1/n)*sum([(item-mu_x)**2 for item in x]))\n",
    "\n",
    "def cov(x,y): # good\n",
    "    n = len(x)\n",
    "    mu_x = sum(x)/n\n",
    "    mu_y = sum(y)/n\n",
    "    return (1/n)*sum([(x[i]-mu_x)*(y[i]-mu_y) for i in range(n)])\n",
    "\n",
    "def corr_coeff(x,y): # good\n",
    "    std_x = std(x)\n",
    "    std_y = std(y)\n",
    "    cov_xy = cov(x,y)\n",
    "    return cov_xy / (std_x*std_y)\n",
    "\n",
    "def normalize(x):\n",
    "    mu_x = sum(x)/len(x)\n",
    "    std_x = std(x)\n",
    "    return [(item-mu_x)/std_x for item in x]\n",
    "\n",
    "def corr_coeff1(x,y):\n",
    "    n = len(x)\n",
    "    return (1/n)*sum([normalize(x)[i]*normalize(y)[i] for i in range(n)])\n",
    "\n",
    "def corr_coeff2(x,y):\n",
    "    n = len(x)\n",
    "    return cov(normalize(x), normalize(y))\n",
    "\n",
    "def linreg(x,y):\n",
    "    n = len(x)\n",
    "    mu_x = sum(x)/n\n",
    "    mu_y = sum(y)/n\n",
    "    r = corr_coeff(x,y)\n",
    "    slope = r * (std(y)/std(x))\n",
    "    intercept = mu_y - slope*mu_x\n",
    "    return slope, intercept\n",
    "\n",
    "def linreg1(x,y): # good\n",
    "    # m = cov(x,y) / var(x)\n",
    "    n = len(x)\n",
    "    mu_x = sum(x)/n\n",
    "    mu_y = sum(y)/n\n",
    "    slope = sum([(x[i]-mu_x)*(y[i]-mu_y) for i in range(n)])/sum([(x[i]-mu_x)**2 for i in range(n)])\n",
    "    intercept = mu_y-slope*mu_x\n",
    "    return slope, intercept\n",
    "    \n",
    "\n",
    "def linreg_pred(x,y,x0):\n",
    "    slope, intercept = linreg(x,y)\n",
    "    return slope*x0+intercept\n",
    "    "
   ]
  },
  {
   "cell_type": "code",
   "execution_count": 32,
   "metadata": {},
   "outputs": [
    {
     "name": "stdout",
     "output_type": "stream",
     "text": [
      "78.2877\n",
      "78.2877\n"
     ]
    }
   ],
   "source": [
    "x = [95,85,80,70,60]\n",
    "y = [85,95,70,65,70]\n",
    "x0 = 80\n",
    "print(round(linreg_pred(x,y,x0),4))\n",
    "\n",
    "x1 = np.array(x).reshape(-1, 1)\n",
    "lm = linear_model.LinearRegression()\n",
    "lm.fit(x1,y)\n",
    "print('%0.4f' %(lm.intercept_ + x0*lm.coef_[0]))\n"
   ]
  },
  {
   "cell_type": "code",
   "execution_count": 34,
   "metadata": {},
   "outputs": [
    {
     "data": {
      "text/plain": [
       "([1.4069300106240255,\n",
       "  0.5793241220216575,\n",
       "  0.1655211777204736,\n",
       "  -0.6620847108818944,\n",
       "  -1.4896905994842622],\n",
       " array([ 1.40693001,  0.57932412,  0.16552118, -0.66208471, -1.4896906 ]))"
      ]
     },
     "execution_count": 34,
     "metadata": {},
     "output_type": "execute_result"
    }
   ],
   "source": [
    "normalize(x), (x - np.mean(x)) / np.std(x)"
   ]
  },
  {
   "cell_type": "code",
   "execution_count": 25,
   "metadata": {},
   "outputs": [],
   "source": [
    "def argsort(alist):\n",
    "    return [i for (i,v) in sorted(enumerate(alist), key=lambda x:x[1])]\n",
    "\n",
    "def argsort1(alist):\n",
    "    return [i for (v,i) in sorted((v,i) for (i,v) in enumerate(alist))]\n",
    "\n",
    "def argsort2(alist):\n",
    "    return sorted(range(len(alist)), key=alist.__getitem__)\n",
    "\n",
    "def getrank(alist):\n",
    "    n = len(alist)\n",
    "    arg_sort = argsort(alist)\n",
    "    tmp = range(n)\n",
    "    ranks = [0 for i in range(n)]\n",
    "    for i,v in enumerate(arg_sort):\n",
    "        ranks[v] = tmp[i] \n",
    "    return ranks\n",
    "\n",
    "def getrank1(alist):\n",
    "    return np.array(alist).argsort().argsort()\n",
    "\n",
    "#if no duplicates in each array\n",
    "def spearman(x,y):\n",
    "    rank_x = getrank1(x)\n",
    "    rank_y = getrank1(y)\n",
    "    return corr_coeff(rank_x, rank_y)\n",
    "\n",
    "#if no duplicates in each array\n",
    "def spearman1(x,y):\n",
    "    n = len(x)\n",
    "    rank_x = getrank(x)\n",
    "    rank_y = getrank(y)\n",
    "    sum_di = sum([(rank_x[i]-rank_y[i])**2 for i in range(n)])\n",
    "    return 1-(6*sum_di)/(n*(n**2-1))"
   ]
  },
  {
   "cell_type": "code",
   "execution_count": 36,
   "metadata": {},
   "outputs": [
    {
     "name": "stdout",
     "output_type": "stream",
     "text": [
      "0.90303030303\n",
      "0.90303030303\n",
      "0.579137124754\n",
      "0.579137124754\n"
     ]
    }
   ],
   "source": [
    "# spearman rank correlation\n",
    "X = [10, 9.8, 8, 7.8, 7.7, 1.7, 6, 5, 1.4, 2]\n",
    "Y = [200, 44, 32, 24, 22, 17, 15, 12, 8, 4]\n",
    "print spearman(X,Y)\n",
    "print spearman1(X,Y)\n",
    "print corr_coeff(X,Y)\n",
    "print corr_coeff1(X,Y)\n"
   ]
  },
  {
   "cell_type": "code",
   "execution_count": 37,
   "metadata": {},
   "outputs": [
    {
     "data": {
      "text/plain": [
       "0.97619047619047616"
      ]
     },
     "execution_count": 37,
     "metadata": {},
     "output_type": "execute_result"
    }
   ],
   "source": [
    "x = [0,1,2,3,4,5,6,7]\n",
    "y = [5,7,9,14,17,16,18,19]\n",
    "spearman(x,y)"
   ]
  },
  {
   "cell_type": "code",
   "execution_count": 82,
   "metadata": {},
   "outputs": [
    {
     "name": "stdout",
     "output_type": "stream",
     "text": [
      "[4, 2, 1, 0, 3]\n",
      "[4, 2, 1, 0, 3]\n",
      "[4, 2, 1, 0, 3]\n",
      "[3, 2, 1, 4, 0]\n"
     ]
    }
   ],
   "source": [
    "a = [5,4,2,6,1]\n",
    "print argsort1(a)\n",
    "print argsort2(a)\n",
    "print argsort3(a)\n",
    "print getrank(a)"
   ]
  },
  {
   "cell_type": "code",
   "execution_count": 36,
   "metadata": {},
   "outputs": [
    {
     "data": {
      "text/plain": [
       "array([8, 5, 9, 7, 6, 4, 3, 2, 1, 0])"
      ]
     },
     "execution_count": 36,
     "metadata": {},
     "output_type": "execute_result"
    }
   ],
   "source": [
    "np.array([10, 9.8, 8, 7.8, 7.7, 1.7, 6, 5, 1.4, 2]).argsort()"
   ]
  },
  {
   "cell_type": "code",
   "execution_count": 96,
   "metadata": {
    "collapsed": true
   },
   "outputs": [],
   "source": [
    "# more efficient for larger arrays\n",
    "def getrank_arr(a):\n",
    "    n = len(a)\n",
    "    tmp = a.argsort()\n",
    "    ranks = np.zeros(n,int)\n",
    "    ranks[tmp] = np.arange(n)\n",
    "    return ranks\n",
    "\n",
    "def getrank_arr1(a):\n",
    "    return a.argsort().argsort()"
   ]
  },
  {
   "cell_type": "code",
   "execution_count": 95,
   "metadata": {},
   "outputs": [
    {
     "name": "stdout",
     "output_type": "stream",
     "text": [
      "[17723 48958 70265 ..., 26851 81931 99999]\n",
      "0.006197\n",
      "[17723 48958 70265 ..., 26851 81931 99999]\n",
      "0.011825\n"
     ]
    }
   ],
   "source": [
    "# comparaing the efficiency\n",
    "A = np.random.randint(10,size=100000)\n",
    "\n",
    "t0 = time.clock()\n",
    "print getrank_arr(A)\n",
    "print time.clock()-t0\n",
    "\n",
    "t0 = time.clock()        \n",
    "print getrank_arr1(A)\n",
    "print time.clock()-t0\n"
   ]
  },
  {
   "cell_type": "code",
   "execution_count": 49,
   "metadata": {},
   "outputs": [
    {
     "data": {
      "text/plain": [
       "array([ 51.95348837,   6.65116279, -11.1627907 ])"
      ]
     },
     "execution_count": 49,
     "metadata": {},
     "output_type": "execute_result"
    }
   ],
   "source": [
    "x1 = [5,6,7,8,9]\n",
    "x2 = [7,6,4,5,6]\n",
    "y = [10,20,60,40,50]\n",
    "\n",
    "X = np.vstack([np.ones(len(x1)),x1,x2]).T\n",
    "xtx = linalg.inv(np.dot(X.T,X))\n",
    "xty = np.dot(X.T,y)\n",
    "B = np.dot(xtx,xty)\n",
    "B"
   ]
  },
  {
   "cell_type": "code",
   "execution_count": 51,
   "metadata": {},
   "outputs": [
    {
     "name": "stdout",
     "output_type": "stream",
     "text": [
      "51.953488372093 6.651162790697679 -11.16279069767442\n"
     ]
    }
   ],
   "source": [
    "lm = linear_model.LinearRegression()\n",
    "X = np.vstack([x1,x2]).T # also [[x1[i],x2[i]] for i in range(len(x1))]\n",
    "lm.fit(np.vstack([x1,x2]).T , y)\n",
    "a = lm.intercept_\n",
    "b = lm.coef_\n",
    "print(a, b[0], b[1])"
   ]
  },
  {
   "cell_type": "code",
   "execution_count": 62,
   "metadata": {},
   "outputs": [
    {
     "data": {
      "text/plain": [
       "array([ 51.95348837,   6.65116279, -11.1627907 ])"
      ]
     },
     "execution_count": 62,
     "metadata": {},
     "output_type": "execute_result"
    }
   ],
   "source": [
    "n = len(y)\n",
    "X = np.vstack([[1]*n, x1, x2]).T\n",
    "theta = np.dot(linalg.inv(np.dot(X.T, X)), np.dot(X.T, y))\n",
    "theta"
   ]
  },
  {
   "cell_type": "markdown",
   "metadata": {},
   "source": [
    "# Random Sampling"
   ]
  },
  {
   "cell_type": "code",
   "execution_count": 52,
   "metadata": {},
   "outputs": [
    {
     "data": {
      "text/plain": [
       "-7"
      ]
     },
     "execution_count": 52,
     "metadata": {},
     "output_type": "execute_result"
    }
   ],
   "source": [
    "random.randint(-10,5)"
   ]
  },
  {
   "cell_type": "code",
   "execution_count": 14,
   "metadata": {},
   "outputs": [
    {
     "data": {
      "text/plain": [
       "(None, [78, 3, 76, 1, 5])"
      ]
     },
     "execution_count": 14,
     "metadata": {},
     "output_type": "execute_result"
    }
   ],
   "source": [
    "a = [1,3,5,76,78]\n",
    "random.shuffle(a), a"
   ]
  },
  {
   "cell_type": "code",
   "execution_count": 46,
   "metadata": {},
   "outputs": [
    {
     "name": "stdout",
     "output_type": "stream",
     "text": [
      "[0.8, 0, 10]\n",
      "[821564686, 643658096, 301647229]\n"
     ]
    }
   ],
   "source": [
    "print(random.sample([0,0.4,0.8,-2,10],3))\n",
    "print(random.sample(range(1000000000),3)) # range is unbelivably slow here"
   ]
  },
  {
   "cell_type": "code",
   "execution_count": 3,
   "metadata": {},
   "outputs": [
    {
     "data": {
      "text/plain": [
       "0.6509292153530621"
      ]
     },
     "execution_count": 3,
     "metadata": {},
     "output_type": "execute_result"
    }
   ],
   "source": [
    "random.random() # returns one probability value uniformly"
   ]
  },
  {
   "cell_type": "code",
   "execution_count": 41,
   "metadata": {},
   "outputs": [
    {
     "data": {
      "text/plain": [
       "3.948880314420075"
      ]
     },
     "execution_count": 41,
     "metadata": {},
     "output_type": "execute_result"
    }
   ],
   "source": [
    "random.uniform(1,5) # unifrom between a,b or b,a "
   ]
  },
  {
   "cell_type": "code",
   "execution_count": 10,
   "metadata": {},
   "outputs": [
    {
     "data": {
      "text/plain": [
       "1.1046486505124087"
      ]
     },
     "execution_count": 10,
     "metadata": {},
     "output_type": "execute_result"
    }
   ],
   "source": [
    "random.gauss(1,0.2)"
   ]
  },
  {
   "cell_type": "code",
   "execution_count": 41,
   "metadata": {},
   "outputs": [
    {
     "data": {
      "text/plain": [
       "[4, 1, 3]"
      ]
     },
     "execution_count": 41,
     "metadata": {},
     "output_type": "execute_result"
    }
   ],
   "source": [
    "a = [1,3,4,6]\n",
    "random.sample(a,3)"
   ]
  },
  {
   "cell_type": "code",
   "execution_count": 67,
   "metadata": {},
   "outputs": [
    {
     "data": {
      "text/plain": [
       "array([[[0.02461652, 0.18502196],\n",
       "        [0.62149951, 0.45357838],\n",
       "        [0.66735432, 0.05616568],\n",
       "        [0.62872229, 0.83133142]],\n",
       "\n",
       "       [[0.55235425, 0.87528566],\n",
       "        [0.11582458, 0.63515973],\n",
       "        [0.81343093, 0.18875074],\n",
       "        [0.77301486, 0.74150095]],\n",
       "\n",
       "       [[0.37837334, 0.03964454],\n",
       "        [0.13569453, 0.40557164],\n",
       "        [0.2750892 , 0.24152879],\n",
       "        [0.10367275, 0.70195836]]])"
      ]
     },
     "execution_count": 67,
     "metadata": {},
     "output_type": "execute_result"
    }
   ],
   "source": [
    "np.random.rand(3,4,2)"
   ]
  },
  {
   "cell_type": "code",
   "execution_count": 68,
   "metadata": {},
   "outputs": [
    {
     "data": {
      "text/plain": [
       "array([ 28,  80, 162])"
      ]
     },
     "execution_count": 68,
     "metadata": {},
     "output_type": "execute_result"
    }
   ],
   "source": [
    "m = np.array([[1,2,3],[4,5,6],[7,8,9]])\n",
    "np.prod(m,axis=0)"
   ]
  },
  {
   "cell_type": "code",
   "execution_count": 43,
   "metadata": {},
   "outputs": [
    {
     "data": {
      "text/plain": [
       "[4]"
      ]
     },
     "execution_count": 43,
     "metadata": {},
     "output_type": "execute_result"
    }
   ],
   "source": [
    "n = 10\n",
    "index = random.sample(range(n), 1)\n",
    "index"
   ]
  },
  {
   "cell_type": "code",
   "execution_count": 76,
   "metadata": {},
   "outputs": [
    {
     "ename": "IndexError",
     "evalue": "pop index out of range",
     "output_type": "error",
     "traceback": [
      "\u001b[0;31m---------------------------------------------------------------------------\u001b[0m",
      "\u001b[0;31mIndexError\u001b[0m                                Traceback (most recent call last)",
      "\u001b[0;32m<ipython-input-76-442fc3bd83f5>\u001b[0m in \u001b[0;36m<module>\u001b[0;34m\u001b[0m\n\u001b[1;32m     15\u001b[0m \u001b[0mrandom\u001b[0m\u001b[0;34m.\u001b[0m\u001b[0mseed\u001b[0m\u001b[0;34m(\u001b[0m\u001b[0;36m1\u001b[0m\u001b[0;34m)\u001b[0m\u001b[0;34m\u001b[0m\u001b[0m\n\u001b[1;32m     16\u001b[0m \u001b[0mdataset\u001b[0m \u001b[0;34m=\u001b[0m \u001b[0;34m[\u001b[0m\u001b[0;34m[\u001b[0m\u001b[0;36m1\u001b[0m\u001b[0;34m]\u001b[0m\u001b[0;34m,\u001b[0m \u001b[0;34m[\u001b[0m\u001b[0;36m2\u001b[0m\u001b[0;34m]\u001b[0m\u001b[0;34m,\u001b[0m \u001b[0;34m[\u001b[0m\u001b[0;36m3\u001b[0m\u001b[0;34m]\u001b[0m\u001b[0;34m,\u001b[0m \u001b[0;34m[\u001b[0m\u001b[0;36m4\u001b[0m\u001b[0;34m]\u001b[0m\u001b[0;34m,\u001b[0m \u001b[0;34m[\u001b[0m\u001b[0;36m5\u001b[0m\u001b[0;34m]\u001b[0m\u001b[0;34m,\u001b[0m \u001b[0;34m[\u001b[0m\u001b[0;36m6\u001b[0m\u001b[0;34m]\u001b[0m\u001b[0;34m,\u001b[0m \u001b[0;34m[\u001b[0m\u001b[0;36m7\u001b[0m\u001b[0;34m]\u001b[0m\u001b[0;34m,\u001b[0m \u001b[0;34m[\u001b[0m\u001b[0;36m8\u001b[0m\u001b[0;34m]\u001b[0m\u001b[0;34m,\u001b[0m \u001b[0;34m[\u001b[0m\u001b[0;36m9\u001b[0m\u001b[0;34m]\u001b[0m\u001b[0;34m,\u001b[0m \u001b[0;34m[\u001b[0m\u001b[0;36m10\u001b[0m\u001b[0;34m]\u001b[0m\u001b[0;34m]\u001b[0m\u001b[0;34m\u001b[0m\u001b[0m\n\u001b[0;32m---> 17\u001b[0;31m \u001b[0mtrain\u001b[0m\u001b[0;34m,\u001b[0m \u001b[0mtest\u001b[0m \u001b[0;34m=\u001b[0m \u001b[0mtrain_test_split\u001b[0m\u001b[0;34m(\u001b[0m\u001b[0mdataset\u001b[0m\u001b[0;34m)\u001b[0m\u001b[0;34m\u001b[0m\u001b[0m\n\u001b[0m\u001b[1;32m     18\u001b[0m \u001b[0mprint\u001b[0m\u001b[0;34m(\u001b[0m\u001b[0mtrain\u001b[0m\u001b[0;34m)\u001b[0m\u001b[0;34m\u001b[0m\u001b[0m\n\u001b[1;32m     19\u001b[0m \u001b[0mprint\u001b[0m\u001b[0;34m(\u001b[0m\u001b[0mtest\u001b[0m\u001b[0;34m)\u001b[0m\u001b[0;34m\u001b[0m\u001b[0m\n",
      "\u001b[0;32m<ipython-input-76-442fc3bd83f5>\u001b[0m in \u001b[0;36mtrain_test_split\u001b[0;34m(dataset, split)\u001b[0m\n\u001b[1;32m      9\u001b[0m         \u001b[0mindex\u001b[0m \u001b[0;34m=\u001b[0m \u001b[0mrandom\u001b[0m\u001b[0;34m.\u001b[0m\u001b[0msample\u001b[0m\u001b[0;34m(\u001b[0m\u001b[0mrange\u001b[0m\u001b[0;34m(\u001b[0m\u001b[0mn\u001b[0m\u001b[0;34m)\u001b[0m\u001b[0;34m,\u001b[0m \u001b[0;36m1\u001b[0m\u001b[0;34m)\u001b[0m\u001b[0;34m\u001b[0m\u001b[0m\n\u001b[1;32m     10\u001b[0m \u001b[0;34m\u001b[0m\u001b[0m\n\u001b[0;32m---> 11\u001b[0;31m         \u001b[0mtrain\u001b[0m\u001b[0;34m.\u001b[0m\u001b[0mappend\u001b[0m\u001b[0;34m(\u001b[0m\u001b[0mdataset_copy\u001b[0m\u001b[0;34m.\u001b[0m\u001b[0mpop\u001b[0m\u001b[0;34m(\u001b[0m\u001b[0mindex\u001b[0m\u001b[0;34m[\u001b[0m\u001b[0;36m0\u001b[0m\u001b[0;34m]\u001b[0m\u001b[0;34m)\u001b[0m\u001b[0;34m)\u001b[0m\u001b[0;34m\u001b[0m\u001b[0m\n\u001b[0m\u001b[1;32m     12\u001b[0m     \u001b[0;32mreturn\u001b[0m \u001b[0mtrain\u001b[0m\u001b[0;34m,\u001b[0m \u001b[0mdataset_copy\u001b[0m\u001b[0;34m\u001b[0m\u001b[0m\n\u001b[1;32m     13\u001b[0m \u001b[0;34m\u001b[0m\u001b[0m\n",
      "\u001b[0;31mIndexError\u001b[0m: pop index out of range"
     ]
    }
   ],
   "source": [
    "# Split a dataset into a train and test set\n",
    "def train_test_split(dataset, split=0.60):\n",
    "    n = len(dataset)\n",
    "    train = list()\n",
    "    train_size = split * n\n",
    "    dataset_copy = list(dataset)\n",
    "    while len(train) < train_size:\n",
    "        #index = random.randrange(len(dataset_copy))\n",
    "        index = random.sample(range(n), 1)\n",
    "\n",
    "        train.append(dataset_copy.pop(index))\n",
    "    return train, dataset_copy\n",
    " \n",
    "# test train/test split\n",
    "random.seed(1)\n",
    "dataset = [[1], [2], [3], [4], [5], [6], [7], [8], [9], [10]]\n",
    "train, test = train_test_split(dataset)\n",
    "print(train)\n",
    "print(test)"
   ]
  },
  {
   "cell_type": "code",
   "execution_count": null,
   "metadata": {
    "collapsed": true
   },
   "outputs": [],
   "source": [
    "# Split a dataset into k folds\n",
    "def cross_validation_split(dataset, folds=3):\n",
    "    dataset_split = list()\n",
    "    dataset_copy = list(dataset)\n",
    "    fold_size = len(dataset) / folds\n",
    "    for i in range(folds):\n",
    "        fold = list()\n",
    "        while len(fold) < fold_size:\n",
    "            index = random.randrange(len(dataset_copy))\n",
    "            fold.append(dataset_copy.pop(index))\n",
    "        dataset_split.append(fold)\n",
    "    return dataset_split\n",
    " \n",
    "# test cross validation split\n",
    "random.seed(1)\n",
    "dataset = [[1], [2], [3], [4], [5], [6], [7], [8], [9], [10]]\n",
    "folds = cross_validation_split(dataset, 4)\n",
    "print(folds)"
   ]
  },
  {
   "cell_type": "code",
   "execution_count": 64,
   "metadata": {},
   "outputs": [
    {
     "data": {
      "text/plain": [
       "0.0"
      ]
     },
     "execution_count": 64,
     "metadata": {},
     "output_type": "execute_result"
    }
   ],
   "source": [
    "def jack_knife(arr):\n",
    "    arr_copy = []\n",
    "    estimates = []\n",
    "    for index in range(len(arr)):\n",
    "        if arr:\n",
    "            arr.pop()\n",
    "            estimates.append(np.var(arr))\n",
    "            arr = arr_copy\n",
    "        else:\n",
    "            return np.var(estimates)\n",
    "    return np.var(estimates)    \n",
    "        \n",
    "arr = [0,2,5,6,-3,-2]\n",
    "jack_knife(arr)\n",
    "        \n",
    "    "
   ]
  },
  {
   "cell_type": "markdown",
   "metadata": {},
   "source": [
    "### Resampling"
   ]
  },
  {
   "cell_type": "code",
   "execution_count": 58,
   "metadata": {},
   "outputs": [
    {
     "data": {
      "text/plain": [
       "array([4, 4])"
      ]
     },
     "execution_count": 58,
     "metadata": {},
     "output_type": "execute_result"
    }
   ],
   "source": [
    "# sampling with replacement\n",
    "np.random.choice([1,3,4,6], 2, replace=True) #default is True"
   ]
  },
  {
   "cell_type": "code",
   "execution_count": 60,
   "metadata": {},
   "outputs": [
    {
     "data": {
      "text/plain": [
       "array([1, 4, 4, 3, 6])"
      ]
     },
     "execution_count": 60,
     "metadata": {},
     "output_type": "execute_result"
    }
   ],
   "source": [
    "# sampling with replacement\n",
    "np.random.choice([1,3,4,6], 5)"
   ]
  },
  {
   "cell_type": "code",
   "execution_count": 61,
   "metadata": {},
   "outputs": [
    {
     "data": {
      "text/plain": [
       "array([6, 1, 3])"
      ]
     },
     "execution_count": 61,
     "metadata": {},
     "output_type": "execute_result"
    }
   ],
   "source": [
    "# sampling with replacement\n",
    "np.random.choice([1,3,4,6], 3, replace=False)"
   ]
  },
  {
   "cell_type": "code",
   "execution_count": 56,
   "metadata": {},
   "outputs": [],
   "source": [
    "np.random.seed(123)"
   ]
  },
  {
   "cell_type": "code",
   "execution_count": 153,
   "metadata": {},
   "outputs": [
    {
     "name": "stdout",
     "output_type": "stream",
     "text": [
      "3 --> 3 .... 4 --> 2 .... 5 --> 3 .... 6 --> 4 ....\n"
     ]
    }
   ],
   "source": [
    "for k,v in Counter(np.random.choice([3,4,5,6],12)).iteritems():\n",
    "    print k,'-->',v,'....',"
   ]
  },
  {
   "cell_type": "code",
   "execution_count": 112,
   "metadata": {},
   "outputs": [
    {
     "name": "stdout",
     "output_type": "stream",
     "text": [
      "Cannot take a larger sample than population when 'replace=False'\n"
     ]
    }
   ],
   "source": [
    "arr = [1,3,5,7]\n",
    "try:\n",
    "    np.random.choice(arr,6,replace=False)\n",
    "except ValueError, e:\n",
    "    print e"
   ]
  },
  {
   "cell_type": "code",
   "execution_count": 144,
   "metadata": {},
   "outputs": [
    {
     "data": {
      "text/plain": [
       "array([0, 0, 2, 1, 2, 1, 2, 3, 0, 3, 1, 1, 4, 0, 0, 1, 4, 0, 0, 3])"
      ]
     },
     "execution_count": 144,
     "metadata": {},
     "output_type": "execute_result"
    }
   ],
   "source": [
    "x = np.random.choice([0,1,2,3,4],(4,5))\n",
    "x.ravel()"
   ]
  },
  {
   "cell_type": "code",
   "execution_count": 145,
   "metadata": {},
   "outputs": [
    {
     "data": {
      "text/plain": [
       "array([[2, 2, 0],\n",
       "       [3, 3, 2],\n",
       "       [4, 0, 1],\n",
       "       [0, 3, 4]])"
      ]
     },
     "execution_count": 145,
     "metadata": {},
     "output_type": "execute_result"
    }
   ],
   "source": [
    "ind = np.random.choice(x.shape[1],3)\n",
    "x[:,ind]"
   ]
  },
  {
   "cell_type": "code",
   "execution_count": 146,
   "metadata": {},
   "outputs": [
    {
     "data": {
      "text/plain": [
       "array([[4, 1, 0, 1, 0],\n",
       "       [2, 0, 2, 0, 1],\n",
       "       [3, 1, 3, 2, 0],\n",
       "       [0, 1, 3, 4, 0]])"
      ]
     },
     "execution_count": 146,
     "metadata": {},
     "output_type": "execute_result"
    }
   ],
   "source": [
    "np.random.shuffle(x) # shuffles rows in place\n",
    "np.random.shuffle(x.T) # shuffles columns in place\n",
    "np.random.permutation(x) # returns a copy, does not change original"
   ]
  },
  {
   "cell_type": "code",
   "execution_count": 149,
   "metadata": {},
   "outputs": [
    {
     "data": {
      "text/plain": [
       "array([[ 2.        ,  4.        ,  0.        ,  4.        ],\n",
       "       [ 1.        ,  3.        ,  2.        ,  0.        ],\n",
       "       [ 0.93152961,  0.3850661 ,  0.94587698,  0.61306773],\n",
       "       [ 0.67364893,  1.49245539,  0.98647402,  0.99380671],\n",
       "       [ 0.02041876, -0.58185021, -0.65956009,  0.7509446 ]])"
      ]
     },
     "execution_count": 149,
     "metadata": {},
     "output_type": "execute_result"
    }
   ],
   "source": [
    "x = np.random.randint(0,5,(2,4))\n",
    "y = np.random.randn(3,4)\n",
    "np.concatenate([x,y])"
   ]
  },
  {
   "cell_type": "code",
   "execution_count": 176,
   "metadata": {
    "collapsed": true
   },
   "outputs": [],
   "source": [
    "# function equivalent to np.var(x,ddof=1)\n",
    "def var(x):\n",
    "    mu = np.mean(x)\n",
    "    return sum([(item-mu)**2 for item in x])/(len(x)-1)"
   ]
  },
  {
   "cell_type": "code",
   "execution_count": 188,
   "metadata": {},
   "outputs": [
    {
     "data": {
      "text/plain": [
       "array([ 4.17777778,  2.48888889,  2.1       ,  1.87777778,  1.73333333])"
      ]
     },
     "execution_count": 188,
     "metadata": {},
     "output_type": "execute_result"
    }
   ],
   "source": [
    "np.var(np.random.randint(0,6,(10,5)), ddof=1, axis=0) # 1*5"
   ]
  },
  {
   "cell_type": "code",
   "execution_count": 79,
   "metadata": {},
   "outputs": [
    {
     "data": {
      "text/plain": [
       "(0.8328980097009702, 6.794792031537721)"
      ]
     },
     "execution_count": 79,
     "metadata": {},
     "output_type": "execute_result"
    }
   ],
   "source": [
    "def bootstrap(x, reps):\n",
    "    n = len(x)\n",
    "    xb = np.random.choice(x, (n,reps))\n",
    "    mb = np.mean(xb, axis=0)\n",
    "    vb = np.var(xb, ddof=1, axis=0) \n",
    "    return np.var(mb, ddof=1), np.var(vb, ddof=1)\n",
    "\n",
    "#mb.sort()\n",
    "#np.percentile(mb, [2.5, 97.5])\n",
    "\n",
    "x = range(10)\n",
    "reps = 10000\n",
    "bootstrap(x, reps)    "
   ]
  },
  {
   "cell_type": "code",
   "execution_count": 77,
   "metadata": {},
   "outputs": [
    {
     "data": {
      "text/plain": [
       "array([2.3, 2.3, 1.2, 1.3, 1.3, 2.8, 2.8, 1.3, 1.7, 2.8])"
      ]
     },
     "execution_count": 77,
     "metadata": {},
     "output_type": "execute_result"
    }
   ],
   "source": [
    "x = range(5)\n",
    "n = len(x)\n",
    "reps = 10\n",
    "xb = np.random.choice(x, (n, reps))\n",
    "mb = np.mean(xb, axis=0)\n",
    "vb = np.var(xb, ddof=1, axis=0) "
   ]
  },
  {
   "cell_type": "code",
   "execution_count": 268,
   "metadata": {},
   "outputs": [
    {
     "name": "stdout",
     "output_type": "stream",
     "text": [
      "[3.0, 2.2000000000000002, 2.6000000000000001, 3.0, 3.3999999999999999, 2.7999999999999998]\n",
      "2.83333333333\n",
      "2.83333333333\n"
     ]
    }
   ],
   "source": [
    "# outputs a list of n means for each item removed once\n",
    "def jackknife(x,func):\n",
    "    n = len(x)\n",
    "    idx = np.arange(n)\n",
    "    return [func(x[idx!=i]) for i in range(n)]\n",
    "\n",
    "x = np.random.randint(0,10,6)\n",
    "print jackknife(x,np.mean)  \n",
    "print np.mean(jackknife(x,np.mean)) # jackknife mean estimate\n",
    "print np.mean(x)"
   ]
  },
  {
   "cell_type": "code",
   "execution_count": 270,
   "metadata": {},
   "outputs": [
    {
     "name": "stdout",
     "output_type": "stream",
     "text": [
      "0.694444444444\n"
     ]
    }
   ],
   "source": [
    "def jackknife_var(x):\n",
    "    n = len(x)\n",
    "    means = jackknife(x,np.mean) # list of means\n",
    "    mu = np.mean(means) # jackknife mean estimate\n",
    "    return ((n-1)/n)*np.sum([(item-mu)**2 for item in means])\n",
    "\n",
    "print jackknife_var(x)"
   ]
  },
  {
   "cell_type": "code",
   "execution_count": 280,
   "metadata": {},
   "outputs": [
    {
     "data": {
      "text/plain": [
       "array([ 0.52923418,  0.59076582])"
      ]
     },
     "execution_count": 280,
     "metadata": {},
     "output_type": "execute_result"
    }
   ],
   "source": [
    "p = 0.56\n",
    "n = 1000\n",
    "se = sqrt((p*(1-p))/n)\n",
    "z_star = norm.isf(0.025)\n",
    "CI = p+np.array([-1,1])*se*z_star\n",
    "CI"
   ]
  },
  {
   "cell_type": "code",
   "execution_count": 275,
   "metadata": {},
   "outputs": [
    {
     "data": {
      "text/plain": [
       "1.9599639845400545"
      ]
     },
     "execution_count": 275,
     "metadata": {},
     "output_type": "execute_result"
    }
   ],
   "source": [
    "norm.isf(0.025)"
   ]
  },
  {
   "cell_type": "markdown",
   "metadata": {
    "collapsed": true
   },
   "source": [
    "# Functions of random variable"
   ]
  },
  {
   "cell_type": "code",
   "execution_count": 68,
   "metadata": {},
   "outputs": [
    {
     "data": {
      "text/plain": [
       "(array([10136.,  9976.,  9976.,  9998., 10056.,  9954.,  9946., 10017.,\n",
       "         9991.,  9950.]),\n",
       " array([6.29526985e-06, 1.00005587e-01, 2.00004878e-01, 3.00004169e-01,\n",
       "        4.00003461e-01, 5.00002752e-01, 6.00002043e-01, 7.00001335e-01,\n",
       "        8.00000626e-01, 8.99999917e-01, 9.99999208e-01]),\n",
       " <a list of 10 Patch objects>)"
      ]
     },
     "execution_count": 68,
     "metadata": {},
     "output_type": "execute_result"
    },
    {
     "data": {
      "image/png": "[encoded data removed]",
      "text/plain": [
       "<matplotlib.figure.Figure at 0x1a13dcd208>"
      ]
     },
     "metadata": {},
     "output_type": "display_data"
    }
   ],
   "source": [
    "X = np.random.uniform(0,1, 100000)\n",
    "plt.hist(X)"
   ]
  },
  {
   "cell_type": "code",
   "execution_count": 72,
   "metadata": {},
   "outputs": [
    {
     "data": {
      "text/plain": [
       "(array([31690., 13186., 10020.,  8540.,  7342.,  6723.,  6237.,  5801.,\n",
       "         5290.,  5171.]),\n",
       " array([3.96304224e-11, 9.99998417e-02, 1.99999683e-01, 2.99999525e-01,\n",
       "        3.99999367e-01, 4.99999208e-01, 5.99999050e-01, 6.99998892e-01,\n",
       "        7.99998734e-01, 8.99998575e-01, 9.99998417e-01]),\n",
       " <a list of 10 Patch objects>)"
      ]
     },
     "execution_count": 72,
     "metadata": {},
     "output_type": "execute_result"
    },
    {
     "data": {
      "image/png": "[encoded data removed]",
      "text/plain": [
       "<matplotlib.figure.Figure at 0x1a13dc4518>"
      ]
     },
     "metadata": {},
     "output_type": "display_data"
    }
   ],
   "source": [
    "Y = X**2\n",
    "plt.hist(Y)\n"
   ]
  },
  {
   "cell_type": "code",
   "execution_count": 75,
   "metadata": {},
   "outputs": [
    {
     "data": {
      "text/plain": [
       "[<matplotlib.lines.Line2D at 0x1a14579588>]"
      ]
     },
     "execution_count": 75,
     "metadata": {},
     "output_type": "execute_result"
    },
    {
     "data": {
      "image/png": "[encoded data removed]",
      "text/plain": [
       "<matplotlib.figure.Figure at 0x1a144dd908>"
      ]
     },
     "metadata": {},
     "output_type": "display_data"
    }
   ],
   "source": [
    "u =  np.arange(0.01,1,0.01)\n",
    "fy = 0.5 * (u**(-1.5))\n",
    "plt.plot(fy)"
   ]
  },
  {
   "cell_type": "code",
   "execution_count": 82,
   "metadata": {},
   "outputs": [
    {
     "data": {
      "text/plain": [
       "[4]"
      ]
     },
     "execution_count": 82,
     "metadata": {},
     "output_type": "execute_result"
    }
   ],
   "source": [
    "random.sample([1,3,4], 1)"
   ]
  },
  {
   "cell_type": "code",
   "execution_count": null,
   "metadata": {},
   "outputs": [],
   "source": []
  }
 ],
 "metadata": {
  "kernelspec": {
   "display_name": "Python 3",
   "language": "python",
   "name": "python3"
  },
  "language_info": {
   "codemirror_mode": {
    "name": "ipython",
    "version": 3
   },
   "file_extension": ".py",
   "mimetype": "text/x-python",
   "name": "python",
   "nbconvert_exporter": "python",
   "pygments_lexer": "ipython3",
   "version": "3.6.9"
  }
 },
 "nbformat": 4,
 "nbformat_minor": 1
}

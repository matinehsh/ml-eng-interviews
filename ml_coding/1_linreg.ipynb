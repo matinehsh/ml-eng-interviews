{
 "cells": [
  {
   "cell_type": "code",
   "execution_count": 10,
   "metadata": {},
   "outputs": [],
   "source": [
    "import math\n",
    "import random\n",
    "import numpy as np\n",
    "import matplotlib.pyplot as plt\n",
    "\n",
    "from sklearn import datasets\n",
    "from sklearn.linear_model import LinearRegression\n",
    "from sklearn.model_selection import train_test_split"
   ]
  },
  {
   "cell_type": "code",
   "execution_count": 11,
   "metadata": {},
   "outputs": [
    {
     "name": "stdout",
     "output_type": "stream",
     "text": [
      "0.5 34.5 74.5\n",
      "[0.5] 34.500000000000014 74.5\n"
     ]
    },
    {
     "data": {
      "image/png": "[encoded data removed]",
      "text/plain": [
       "<Figure size 432x288 with 1 Axes>"
      ]
     },
     "metadata": {
      "needs_background": "light"
     },
     "output_type": "display_data"
    }
   ],
   "source": [
    "class UnivariateLinReg:\n",
    "    def fit(self, x, y):\n",
    "        n = len(x)\n",
    "        mu_x, mu_y = np.mean(x), np.mean(y)\n",
    "        numer = np.sum(np.multiply(x - mu_x, y - mu_y))\n",
    "        denom = np.sum((x - mu_x)**2)\n",
    "        self.slope = numer / denom\n",
    "        self.intercept = mu_y - self.slope * mu_x\n",
    "    def predict(self, x_test):\n",
    "        return np.multiply(self.slope, x_test) + self.intercept\n",
    "\n",
    "x = np.array([95,85,80,70,95]) # (5,)\n",
    "y = np.array([85,95,70,65,70])\n",
    "plt.scatter(x,y)\n",
    "x0 = 80\n",
    "\n",
    "linreg = UnivariateLinReg()\n",
    "linreg.fit(x, y)\n",
    "print(linreg.slope, linreg.intercept, linreg.predict(x0))\n",
    "\n",
    "# sklearn's linear_model takes x in the shape of (n,d)\n",
    "x_reshape = np.array(x).reshape(-1, 1) # (5,1)\n",
    "lm = LinearRegression()\n",
    "lm.fit(x_reshape, y)\n",
    "pred = lm.intercept_ + x0*lm.coef_[0]\n",
    "print(lm.coef_, lm.intercept_, pred)\n"
   ]
  },
  {
   "cell_type": "code",
   "execution_count": 12,
   "metadata": {},
   "outputs": [],
   "source": [
    "class LinearRegAnalytical:\n",
    "\n",
    "    def __add_intercept(self, X):\n",
    "        ones = np.ones((X.shape[0], 1))\n",
    "        return np.hstack((ones, X))\n",
    "    \n",
    "    def __loss(self, X, y):\n",
    "        err = y - np.dot(X, self.theta)\n",
    "        return np.dot(err.T, err)\n",
    "    \n",
    "    @property\n",
    "    def loss(self):\n",
    "        return self._loss\n",
    "\n",
    "    def fit(self, X, y, delta=0.0):\n",
    "        \"\"\"\n",
    "        X.shape=(n,d)\n",
    "        Y.shape=(n,1)\n",
    "        \"\"\"\n",
    "        d = X.shape[1]\n",
    "        X = self.__add_intercept(X)\n",
    "        XtX = np.dot(X.T, X)\n",
    "        print(\"X:\")\n",
    "        print(X)\n",
    "        print(\"XtX with rank {}\".format(np.linalg.matrix_rank(XtX)))\n",
    "        print(XtX)\n",
    "        term1 = np.linalg.inv(XtX + delta * np.eye(d+1)) # or np.linalg.pinv\n",
    "        term2 = np.dot(X.T, y)\n",
    "        self.theta = np.dot(term1, term2)\n",
    "        self._loss = self.__loss(X, Y)\n",
    "\n",
    "    def predict(self, X_test):\n",
    "        \"\"\"\n",
    "        X_test.shape=(m,d)\n",
    "        \"\"\"\n",
    "        X = self.__add_intercept(X_test)\n",
    "        return np.dot(X, self.theta)\n",
    " "
   ]
  },
  {
   "cell_type": "code",
   "execution_count": 13,
   "metadata": {},
   "outputs": [
    {
     "name": "stdout",
     "output_type": "stream",
     "text": [
      "X:\n",
      "[[1. 1. 1.]\n",
      " [1. 1. 2.]\n",
      " [1. 2. 2.]\n",
      " [1. 2. 3.]]\n",
      "XtX with rank 3\n",
      "[[ 4.  6.  8.]\n",
      " [ 6. 10. 13.]\n",
      " [ 8. 13. 18.]]\n",
      "params: [[3.]\n",
      " [1.]\n",
      " [2.]]\n",
      "loss: [[0.]]\n",
      "prediction:  [[14.]\n",
      " [13.]\n",
      " [ 9.]]\n",
      "prediction mse:  0.0\n"
     ]
    }
   ],
   "source": [
    "X = np.array([[1,1], [1,2], [2,2], [2,3]]) # shape=(4,2)\n",
    "Y = np.dot(X, np.array([1,2])) + 3 # known linear function\n",
    "Y = Y.reshape((-1,1)) # shape=(4,1)\n",
    "x0 = np.array([[3,4], [2,4], [2,2]]) # shape=(3,2)\n",
    "y0 = np.array([[14], [13], [9]])\n",
    "\n",
    "linreg = LinearRegAnalytical()\n",
    "linreg.fit(X, Y)\n",
    "pred = linreg.predict(x0)\n",
    "print(\"params:\", linreg.theta)\n",
    "print(\"loss:\", linreg.loss)\n",
    "print(\"prediction: \", pred)\n",
    "print(\"prediction mse: \", np.mean((y0-pred) ** 2))"
   ]
  },
  {
   "cell_type": "code",
   "execution_count": 38,
   "metadata": {},
   "outputs": [
    {
     "name": "stdout",
     "output_type": "stream",
     "text": [
      "X:\n",
      "[[1. 1. 1.]\n",
      " [1. 1. 2.]\n",
      " [1. 1. 2.]]\n",
      "XtX with rank 2\n",
      "[[3. 3. 5.]\n",
      " [3. 3. 5.]\n",
      " [5. 5. 9.]]\n",
      "params: [[1.99800697]\n",
      " [1.99800697]\n",
      " [2.00199203]]\n",
      "loss: [[3.97613135e-06]]\n",
      "prediction:  [[15.99999601]\n",
      " [14.00198904]\n",
      " [ 9.99800498]]\n",
      "prediction mse:  1.999993346988938\n"
     ]
    }
   ],
   "source": [
    "X = np.array([[1,1], [1,2], [1,2]]) # shape=(4,2)\n",
    "Y = np.dot(X, np.array([1, 2])) + 3 # known linear function\n",
    "Y = Y.reshape((-1,1)) # shape=(4,1)\n",
    "x0 = np.array([[3,4], [2,4], [2,2]]) # shape=(3,2)\n",
    "y0 = np.array([[14], [13], [9]])\n",
    "\n",
    "linreg = LinearRegAnalytical()\n",
    "linreg.fit(X, Y, delta=0.001)\n",
    "pred = linreg.predict(x0)\n",
    "print(\"params:\", linreg.theta)\n",
    "print(\"loss:\", linreg.loss)\n",
    "print(\"prediction: \", pred)\n",
    "print(\"prediction mse: \", np.mean((y0-pred) ** 2))"
   ]
  },
  {
   "cell_type": "code",
   "execution_count": 7,
   "metadata": {},
   "outputs": [
    {
     "name": "stdout",
     "output_type": "stream",
     "text": [
      "params: [[2.]\n",
      " [2.]\n",
      " [2.]]\n",
      "prediction:  [[16.]\n",
      " [14.]\n",
      " [10.]]\n",
      "prediction mse:  2.0000000000003815\n",
      "[4.] [[0. 2.]]\n",
      "[[12.]\n",
      " [12.]\n",
      " [ 8.]]\n",
      "2.0000000000000036\n"
     ]
    }
   ],
   "source": [
    "class LinearReg:\n",
    "    def __init__(self, lr=0.001, num_iters=1000000):\n",
    "        self.lr = lr\n",
    "        self.num_iters = num_iters\n",
    "\n",
    "    def __add_intercept(self, X):\n",
    "        ones = np.ones((X.shape[0], 1))\n",
    "        return np.hstack((ones, X))\n",
    "    \n",
    "    def __loss(self, X, Y):\n",
    "        err = Y - np.dot(X, self.theta)\n",
    "        return np.dot(err.T, err)\n",
    "    \n",
    "    @property\n",
    "    def loss(self):\n",
    "        return self._loss\n",
    "\n",
    "    def fit(self, X, Y):\n",
    "        \"\"\"\n",
    "        X.shape=(n,d)\n",
    "        Y.shape=(n,1)\n",
    "        \"\"\"\n",
    "        d = X.shape[1]\n",
    "        X = self.__add_intercept(X)\n",
    "        #self._loss = []\n",
    "        self.theta = np.zeros((d+1, 1))\n",
    "        for _ in range(self.num_iters):\n",
    "            gradient = -2 * np.dot(X.T, Y) + 2 * np.dot(np.dot(X.T, X), self.theta)\n",
    "            self.theta -= self.lr * gradient\n",
    "        self._loss = self.__loss(X, Y)\n",
    "\n",
    "    def predict(self, X_test):\n",
    "        \"\"\"\n",
    "        X_test.shape=(m,d)\n",
    "        \"\"\"\n",
    "        X = self.__add_intercept(X_test)\n",
    "        return np.dot(X, self.theta)\n",
    "        \n",
    "#X = np.array([[1, 2], [2, 5]]) # degenerate case\n",
    "#X = np.array([[1, 1], [1, 2], [2, 2], [2, 3]]) # shape=(4,2)\n",
    "X = np.array([[1,1], [1,2], [1,2]]) # shape=(4,2)\n",
    "Y = np.dot(X, np.array([1, 2])) + 3 # known linear function\n",
    "Y = Y.reshape((-1,1)) # shape=(4,1)\n",
    "x0 = np.array([[3,4], [2,4], [2,2]]) # shape=(3,2)\n",
    "y0 = np.array([[14], [13], [9]])\n",
    "\n",
    "linreg = LinearReg()\n",
    "linreg.fit(X, Y)\n",
    "pred = linreg.predict(x0)\n",
    "print(\"params:\", linreg.theta)\n",
    "#print(\"loss:\", linreg.loss)\n",
    "print(\"prediction: \", pred)\n",
    "print(\"prediction mse: \", np.mean((y0-pred) ** 2))\n",
    "\n",
    "\n",
    "lm = LinearRegression()\n",
    "lm.fit(X, Y)\n",
    "pred = lm.predict(x0)\n",
    "print(lm.intercept_, lm.coef_)\n",
    "print(pred)\n",
    "print(np.mean((y0-pred) ** 2))\n"
   ]
  },
  {
   "cell_type": "code",
   "execution_count": null,
   "metadata": {},
   "outputs": [],
   "source": []
  }
 ],
 "metadata": {
  "kernelspec": {
   "display_name": "Python 3",
   "language": "python",
   "name": "python3"
  },
  "language_info": {
   "codemirror_mode": {
    "name": "ipython",
    "version": 3
   },
   "file_extension": ".py",
   "mimetype": "text/x-python",
   "name": "python",
   "nbconvert_exporter": "python",
   "pygments_lexer": "ipython3",
   "version": "3.6.9"
  }
 },
 "nbformat": 4,
 "nbformat_minor": 4
}

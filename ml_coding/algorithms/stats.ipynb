{
 "cells": [
  {
   "cell_type": "code",
   "execution_count": 1,
   "metadata": {},
   "outputs": [
    {
     "data": {
      "text/plain": [
       "(0.0, 3.0)"
      ]
     },
     "execution_count": 1,
     "metadata": {},
     "output_type": "execute_result"
    }
   ],
   "source": [
    "from __future__ import division\n",
    "from math import log\n",
    "import random\n",
    "import numpy as np\n",
    "\n",
    "log(1), log(8,2)"
   ]
  },
  {
   "cell_type": "code",
   "execution_count": 4,
   "metadata": {},
   "outputs": [
    {
     "name": "stdout",
     "output_type": "stream",
     "text": [
      "1.4271163556401458 2.2946169233448686\n",
      "0.9418967947224963 0.7572235847038067\n"
     ]
    }
   ],
   "source": [
    "# weighted logistic regression loss imbalanced data\n",
    "# after applying weights the terms get closer to each other\n",
    "print(-(log(0.8)+log(0.3)), -(log(0.2)+log(0.7)+log(0.9)+log(0.8)))\n",
    "print(-0.66*(log(0.8)+log(0.3)), -0.33*(log(0.2)+log(0.7)+log(0.9)+log(0.8)))"
   ]
  },
  {
   "cell_type": "markdown",
   "metadata": {},
   "source": [
    "### Numpy"
   ]
  },
  {
   "cell_type": "code",
   "execution_count": null,
   "metadata": {},
   "outputs": [],
   "source": [
    "X = np.random.normal(scale=2,size=size)\n",
    "\n",
    "a1 = np.array([[1,2,3],[4,5,6]])\n",
    "a2 = np.array([[1,0,-1],[2,0,-1]])\n",
    "\n",
    "print np.dot(a1,a2.T) # dot product\n",
    "print np.dot(a2.T,a1) # not commutable\n",
    "print np.multiply(a1,a2) # element-wise product"
   ]
  },
  {
   "cell_type": "code",
   "execution_count": 80,
   "metadata": {},
   "outputs": [
    {
     "name": "stdout",
     "output_type": "stream",
     "text": [
      "[[[0 6 1 8 1]\n",
      "  [4 5 2 0 4]\n",
      "  [6 4 6 8 7]]\n",
      "\n",
      " [[4 0 8 2 1]\n",
      "  [1 0 2 4 4]\n",
      "  [9 7 2 1 3]]\n",
      "\n",
      " [[0 6 6 3 4]\n",
      "  [9 1 8 8 5]\n",
      "  [3 1 1 0 9]]\n",
      "\n",
      " [[3 3 9 1 5]\n",
      "  [2 8 6 4 0]\n",
      "  [3 1 8 2 8]]]\n"
     ]
    }
   ],
   "source": [
    "arr = np.random.randint(low=0, high=10, size=[4,3,5]) # high is not inclusive.\n",
    "print(arr)"
   ]
  },
  {
   "cell_type": "code",
   "execution_count": 90,
   "metadata": {},
   "outputs": [
    {
     "name": "stdout",
     "output_type": "stream",
     "text": [
      "[[0 6 1 8 1]\n",
      " [4 5 2 0 4]\n",
      " [6 4 6 8 7]]\n",
      "\n",
      "[[4 5 2 0 4]\n",
      " [6 4 6 8 7]]\n",
      "\n",
      "[[1 8 8]\n",
      " [1 1 0]]\n",
      "\n",
      "[[[1 8 8]\n",
      "  [1 1 0]]]\n"
     ]
    }
   ],
   "source": [
    "print(arr[0])\n",
    "print(\"\")\n",
    "print(arr[0, 1:3, :])\n",
    "print(\"\")\n",
    "print(arr[2, 1:3, 1:4])\n",
    "print(\"\")\n",
    "print(arr[2:3, 1:3, 1:4])"
   ]
  },
  {
   "cell_type": "markdown",
   "metadata": {},
   "source": [
    "### Random "
   ]
  },
  {
   "cell_type": "code",
   "execution_count": 67,
   "metadata": {},
   "outputs": [
    {
     "data": {
      "text/plain": [
       "array([9, 1, 3, 2])"
      ]
     },
     "execution_count": 67,
     "metadata": {},
     "output_type": "execute_result"
    }
   ],
   "source": [
    "np.random.randint(low=0, high=10, size=4)"
   ]
  },
  {
   "cell_type": "code",
   "execution_count": 53,
   "metadata": {},
   "outputs": [
    {
     "data": {
      "text/plain": [
       "array([8, 2, 2, 7])"
      ]
     },
     "execution_count": 53,
     "metadata": {},
     "output_type": "execute_result"
    }
   ],
   "source": [
    "np.random.choice([2,3,5,1,6,4,2,7,9,8,2], 4)"
   ]
  },
  {
   "cell_type": "code",
   "execution_count": 12,
   "metadata": {},
   "outputs": [
    {
     "data": {
      "text/plain": [
       "[7, 9, 1, 5, 3]"
      ]
     },
     "execution_count": 12,
     "metadata": {},
     "output_type": "execute_result"
    }
   ],
   "source": [
    "arr = [1,3,5,7,9]\n",
    "random.shuffle(arr)\n",
    "arr"
   ]
  },
  {
   "cell_type": "markdown",
   "metadata": {},
   "source": [
    "### Hypothesis testing "
   ]
  },
  {
   "cell_type": "code",
   "execution_count": 14,
   "metadata": {},
   "outputs": [
    {
     "data": {
      "text/plain": [
       "(0.0044318484119380075,\n",
       " 0.24197072451914337,\n",
       " 0.3989422804014327,\n",
       " 0.24197072451914337,\n",
       " 0.0044318484119380075)"
      ]
     },
     "execution_count": 14,
     "metadata": {},
     "output_type": "execute_result"
    }
   ],
   "source": [
    "from scipy.stats import norm\n",
    "norm.pdf(-3), norm.pdf(-1), norm.pdf(0), norm.pdf(1), norm.pdf(3)"
   ]
  },
  {
   "cell_type": "code",
   "execution_count": 15,
   "metadata": {},
   "outputs": [
    {
     "data": {
      "text/plain": [
       "(0.0013498980316300933,\n",
       " 0.15865525393145707,\n",
       " 0.5,\n",
       " 0.8413447460685429,\n",
       " 0.9986501019683699)"
      ]
     },
     "execution_count": 15,
     "metadata": {},
     "output_type": "execute_result"
    }
   ],
   "source": [
    "norm.cdf(-3), norm.cdf(-1), norm.cdf(0), norm.cdf(1), norm.cdf(3)"
   ]
  },
  {
   "cell_type": "code",
   "execution_count": 18,
   "metadata": {},
   "outputs": [
    {
     "data": {
      "text/plain": [
       "(-3.0002026930114756,\n",
       " -1.000001049431045,\n",
       " 0.0,\n",
       " 0.9999803859660787,\n",
       " 2.9999769927034015)"
      ]
     },
     "execution_count": 18,
     "metadata": {},
     "output_type": "execute_result"
    }
   ],
   "source": [
    "# inverse of CDF\n",
    "norm.ppf(0.001349), norm.ppf(0.158655), norm.ppf(0.5), norm.ppf(0.84134), norm.ppf(0.99865)"
   ]
  },
  {
   "cell_type": "code",
   "execution_count": 26,
   "metadata": {},
   "outputs": [
    {
     "data": {
      "text/plain": [
       "(3.090232306167813, 2.3263478740408408, 1.6448536269514722)"
      ]
     },
     "execution_count": 26,
     "metadata": {},
     "output_type": "execute_result"
    }
   ],
   "source": [
    "# alpha-level = 0.05 -> prob = cdf = 0.95 -> z-critical-value = 1.65\n",
    "norm.ppf(1-0.001), norm.ppf(1-0.01), norm.ppf(1-0.05)\n",
    "# if z-score=1.9, not significant at pval=0.01, but significant at pval=0.05, since:\n",
    "# 1.64 < 1.9 < 2.32"
   ]
  },
  {
   "cell_type": "code",
   "execution_count": 6,
   "metadata": {},
   "outputs": [
    {
     "data": {
      "text/plain": [
       "[['.', '.', '4', '.', '.', '.', '6', '3', '.'],\n",
       " ['.', '.', '.', '.', '.', '.', '.', '.', '.'],\n",
       " ['5', '.', '.', '.', '.', '.', '.', '9', '.'],\n",
       " ['.', '.', '.', '5', '6', '.', '.', '.', '.'],\n",
       " ['4', '.', '3', '.', '.', '.', '.', '.', '1'],\n",
       " ['.', '.', '.', '7', '.', '.', '.', '.', '.'],\n",
       " ['.', '.', '.', '5', '.', '.', '.', '.', '.'],\n",
       " ['.', '.', '.', '.', '.', '.', '.', '.', '.'],\n",
       " ['.', '.', '.', '.', '.', '.', '.', '.', '.']]"
      ]
     },
     "execution_count": 6,
     "metadata": {},
     "output_type": "execute_result"
    }
   ],
   "source": [
    "[[\".\",\".\",\"4\",\".\",\".\",\".\",\"6\",\"3\",\".\"],[\".\",\".\",\".\",\".\",\".\",\".\",\".\",\".\",\".\"],[\"5\",\".\",\".\",\".\",\".\",\".\",\".\",\"9\",\".\"],[\".\",\".\",\".\",\"5\",\"6\",\".\",\".\",\".\",\".\"],[\"4\",\".\",\"3\",\".\",\".\",\".\",\".\",\".\",\"1\"],[\".\",\".\",\".\",\"7\",\".\",\".\",\".\",\".\",\".\"],[\".\",\".\",\".\",\"5\",\".\",\".\",\".\",\".\",\".\"],[\".\",\".\",\".\",\".\",\".\",\".\",\".\",\".\",\".\"],[\".\",\".\",\".\",\".\",\".\",\".\",\".\",\".\",\".\"]]"
   ]
  },
  {
   "cell_type": "code",
   "execution_count": null,
   "metadata": {},
   "outputs": [],
   "source": []
  }
 ],
 "metadata": {
  "kernelspec": {
   "display_name": "Python 3",
   "language": "python",
   "name": "python3"
  },
  "language_info": {
   "codemirror_mode": {
    "name": "ipython",
    "version": 3
   },
   "file_extension": ".py",
   "mimetype": "text/x-python",
   "name": "python",
   "nbconvert_exporter": "python",
   "pygments_lexer": "ipython3",
   "version": "3.6.9"
  }
 },
 "nbformat": 4,
 "nbformat_minor": 4
}

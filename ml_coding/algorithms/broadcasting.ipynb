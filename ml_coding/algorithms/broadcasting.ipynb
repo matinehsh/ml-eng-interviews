{
 "cells": [
  {
   "cell_type": "code",
   "execution_count": 2,
   "metadata": {},
   "outputs": [],
   "source": [
    "import numpy as np"
   ]
  },
  {
   "cell_type": "code",
   "execution_count": 53,
   "metadata": {},
   "outputs": [
    {
     "name": "stdout",
     "output_type": "stream",
     "text": [
      "(4,)\n",
      "(1, 4)\n"
     ]
    }
   ],
   "source": [
    "points = np.arange(12).reshape(3,4)\n",
    "print(points[0].shape) # degenerate\n",
    "print(points[0, np.newaxis].shape) # correct"
   ]
  },
  {
   "cell_type": "code",
   "execution_count": 27,
   "metadata": {},
   "outputs": [
    {
     "data": {
      "text/plain": [
       "array([[ 0,  1,  2,  3,  4],\n",
       "       [ 5,  6,  7,  8,  9],\n",
       "       [10, 11, 12, 13, 14]])"
      ]
     },
     "execution_count": 27,
     "metadata": {},
     "output_type": "execute_result"
    }
   ],
   "source": [
    "a = np.arange(15).reshape(3,5)\n",
    "a"
   ]
  },
  {
   "cell_type": "code",
   "execution_count": 28,
   "metadata": {},
   "outputs": [
    {
     "data": {
      "text/plain": [
       "array([[ 0,  1,  2,  3,  4],\n",
       "       [ 5,  6,  7,  8,  9],\n",
       "       [10, 11, 12, 13, 14],\n",
       "       [15, 16, 17, 18, 19],\n",
       "       [20, 21, 22, 23, 24],\n",
       "       [25, 26, 27, 28, 29]])"
      ]
     },
     "execution_count": 28,
     "metadata": {},
     "output_type": "execute_result"
    }
   ],
   "source": [
    "b = np.arange(30).reshape(6,5)\n",
    "b"
   ]
  },
  {
   "cell_type": "code",
   "execution_count": 29,
   "metadata": {},
   "outputs": [
    {
     "data": {
      "text/plain": [
       "array([[[  0,   0,   0,   0,   0],\n",
       "        [  5,   5,   5,   5,   5],\n",
       "        [ 10,  10,  10,  10,  10],\n",
       "        [ 15,  15,  15,  15,  15],\n",
       "        [ 20,  20,  20,  20,  20],\n",
       "        [ 25,  25,  25,  25,  25]],\n",
       "\n",
       "       [[ -5,  -5,  -5,  -5,  -5],\n",
       "        [  0,   0,   0,   0,   0],\n",
       "        [  5,   5,   5,   5,   5],\n",
       "        [ 10,  10,  10,  10,  10],\n",
       "        [ 15,  15,  15,  15,  15],\n",
       "        [ 20,  20,  20,  20,  20]],\n",
       "\n",
       "       [[-10, -10, -10, -10, -10],\n",
       "        [ -5,  -5,  -5,  -5,  -5],\n",
       "        [  0,   0,   0,   0,   0],\n",
       "        [  5,   5,   5,   5,   5],\n",
       "        [ 10,  10,  10,  10,  10],\n",
       "        [ 15,  15,  15,  15,  15]]])"
      ]
     },
     "execution_count": 29,
     "metadata": {},
     "output_type": "execute_result"
    }
   ],
   "source": [
    "# we want 18 distances between rows of (6,5) and (3,5)\n",
    "# (6,5) could not be broadcased with (3,5)\n",
    "# (6,5) could be broadcased with (3,1,5) resulting in (3,6,5)\n",
    "b - a[:, np.newaxis, :]"
   ]
  },
  {
   "cell_type": "code",
   "execution_count": 49,
   "metadata": {},
   "outputs": [
    {
     "data": {
      "text/plain": [
       "array([[[  0,   0,   0,   0,   0],\n",
       "        [ -5,  -5,  -5,  -5,  -5],\n",
       "        [-10, -10, -10, -10, -10]],\n",
       "\n",
       "       [[  5,   5,   5,   5,   5],\n",
       "        [  0,   0,   0,   0,   0],\n",
       "        [ -5,  -5,  -5,  -5,  -5]],\n",
       "\n",
       "       [[ 10,  10,  10,  10,  10],\n",
       "        [  5,   5,   5,   5,   5],\n",
       "        [  0,   0,   0,   0,   0]],\n",
       "\n",
       "       [[ 15,  15,  15,  15,  15],\n",
       "        [ 10,  10,  10,  10,  10],\n",
       "        [  5,   5,   5,   5,   5]],\n",
       "\n",
       "       [[ 20,  20,  20,  20,  20],\n",
       "        [ 15,  15,  15,  15,  15],\n",
       "        [ 10,  10,  10,  10,  10]],\n",
       "\n",
       "       [[ 25,  25,  25,  25,  25],\n",
       "        [ 20,  20,  20,  20,  20],\n",
       "        [ 15,  15,  15,  15,  15]]])"
      ]
     },
     "execution_count": 49,
     "metadata": {},
     "output_type": "execute_result"
    }
   ],
   "source": [
    "# (3,5) could be broadcasted with (6,1,5) resulting in (6,3,5)\n",
    "# gives same 18 distances in a different order.\n",
    "b[:, np.newaxis, :] - a"
   ]
  },
  {
   "cell_type": "code",
   "execution_count": 51,
   "metadata": {},
   "outputs": [
    {
     "data": {
      "text/plain": [
       "array([[   0,  125,  500, 1125, 2000, 3125],\n",
       "       [ 125,    0,  125,  500, 1125, 2000],\n",
       "       [ 500,  125,    0,  125,  500, 1125]])"
      ]
     },
     "execution_count": 51,
     "metadata": {},
     "output_type": "execute_result"
    }
   ],
   "source": [
    "dists = np.sum((b - a[:, np.newaxis, :])**2, axis=2)\n",
    "dists"
   ]
  },
  {
   "cell_type": "code",
   "execution_count": null,
   "metadata": {},
   "outputs": [],
   "source": []
  }
 ],
 "metadata": {
  "kernelspec": {
   "display_name": "Python 3",
   "language": "python",
   "name": "python3"
  },
  "language_info": {
   "codemirror_mode": {
    "name": "ipython",
    "version": 3
   },
   "file_extension": ".py",
   "mimetype": "text/x-python",
   "name": "python",
   "nbconvert_exporter": "python",
   "pygments_lexer": "ipython3",
   "version": "3.6.9"
  }
 },
 "nbformat": 4,
 "nbformat_minor": 4
}

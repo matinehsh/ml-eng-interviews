{
 "cells": [
  {
   "cell_type": "code",
   "execution_count": 52,
   "metadata": {},
   "outputs": [],
   "source": [
    "from __future__ import division\n",
    "from math import *\n",
    "import numpy as np\n",
    "import scipy as sp\n",
    "from scipy import stats, linalg\n",
    "import pandas as pd\n",
    "import matplotlib.pyplot as plt\n",
    "%matplotlib inline"
   ]
  },
  {
   "cell_type": "code",
   "execution_count": 2,
   "metadata": {},
   "outputs": [
    {
     "data": {
      "text/plain": [
       "1.3199339211190373e-78"
      ]
     },
     "execution_count": 2,
     "metadata": {},
     "output_type": "execute_result"
    }
   ],
   "source": [
    "df = pd.read_csv('Finches.csv')\n",
    "\n",
    "# sample mean and std\n",
    "xbar = np.mean(df.iloc[:,0])\n",
    "s = np.std(df.iloc[:,0])\n",
    "n = df.shape[0]\n",
    "\n",
    "# population mean\n",
    "mu0 = 6.07\n",
    "\n",
    "# t-stat\n",
    "dof = n-1\n",
    "t_stat = (xbar-mu0)/(s/sqrt(n))\n",
    "pval = stats.t.sf(t_stat, dof)\n",
    "pval"
   ]
  },
  {
   "cell_type": "code",
   "execution_count": 13,
   "metadata": {},
   "outputs": [
    {
     "name": "stdout",
     "output_type": "stream",
     "text": [
      "0.1\n",
      "1.0\n"
     ]
    }
   ],
   "source": [
    "alpha = 0.1 # p-value\n",
    "t_crit = stats.t.ppf(1-alpha, 25)\n",
    "pval = 1 - stats.t.cdf(t_crit, 25)\n",
    "print(round(pval,2))\n",
    "\n",
    "print(stats.t.sf(1.6,20)+stats.t.sf(-1.6,20))"
   ]
  },
  {
   "cell_type": "code",
   "execution_count": 28,
   "metadata": {},
   "outputs": [
    {
     "name": "stdout",
     "output_type": "stream",
     "text": [
      "2.0638985616280205 -3.25 0.0034019694897431396\n",
      "1617.4440575348792 1782.5559424651208\n",
      "82.55594246512082\n"
     ]
    }
   ],
   "source": [
    "# The average rent in LA is $1830. A real estate company want to examine\n",
    "# if their rental prices are significantly different than the average \n",
    "# with alpha=0.05, by using a sample of size n units with mean of \n",
    "# mu and sample standard deviation of s.\n",
    "\n",
    "pop_mu = 1830\n",
    "mu = 1700\n",
    "s = 200\n",
    "n = 25\n",
    "\n",
    "# one sample t-test\n",
    "# find t critical value for two tailed test at alpha = 0.05\n",
    "alpha = 0.05\n",
    "t_crit = stats.t.ppf(1-alpha/2, n-1)\n",
    "se = s/sqrt(n)\n",
    "t_stat = (mu-pop_mu)/(se)\n",
    "one_tail_pval = 1 - stats.t.cdf(abs(t_stat), n-1) # one tail pval\n",
    "\n",
    "pval = 2*one_tail_pval\n",
    "print(t_crit, t_stat, pval)\n",
    "\n",
    "# %95 confidence interval, not related to t-stat, only data and \n",
    "# significant level\n",
    "print(mu-t_crit*(se) , mu+t_crit*(se))\n",
    "\n",
    "# margin of error\n",
    "print(t_crit*(se))\n",
    "\n",
    "# as n increases error decreases for 2 reasons, one is the increase of \n",
    "# dof which makes the t-dist skinnier, another is the decrease of \n",
    "# standard error."
   ]
  },
  {
   "cell_type": "code",
   "execution_count": 20,
   "metadata": {},
   "outputs": [
    {
     "name": "stdout",
     "output_type": "stream",
     "text": [
      "1.959963984540054 2.0638985616280205\n",
      "1.959963984540054 1.9599663568141066\n"
     ]
    }
   ],
   "source": [
    "print(stats.norm.ppf(1-0.05/2), stats.t.ppf(1-0.05/2, 24))\n",
    "print(stats.norm.ppf(1-0.05/2), stats.t.ppf(1-0.05/2, 1000000)) # as n increases, close to normal"
   ]
  },
  {
   "cell_type": "code",
   "execution_count": 24,
   "metadata": {},
   "outputs": [
    {
     "name": "stdout",
     "output_type": "stream",
     "text": [
      "0.02275013194817921 0.028469924968295812\n"
     ]
    }
   ],
   "source": [
    "print(1 - stats.norm.cdf(2), 1 - stats.t.cdf(2, 24))\n",
    "# t distro has heavier tail for the same alpha level."
   ]
  },
  {
   "cell_type": "code",
   "execution_count": 44,
   "metadata": {},
   "outputs": [],
   "source": [
    "# Bessel correction used for sample std calculation,\n",
    "# to correct for bias in estimation of population std. \n",
    "def stddev(x):\n",
    "    return sqrt(sum([(item-np.mean(x))**2 for item in x])/(len(x)-1))\n"
   ]
  },
  {
   "cell_type": "code",
   "execution_count": 78,
   "metadata": {},
   "outputs": [
    {
     "data": {
      "text/plain": [
       "0.36090407456663248"
      ]
     },
     "execution_count": 78,
     "metadata": {},
     "output_type": "execute_result"
    }
   ],
   "source": [
    "# Use GraphPad for tests \n",
    "\n",
    "x = [5,19,11,23,12,7,3,21]\n",
    "t_stat = (np.mean(x)-10)/(stddev(x)/sqrt(len(x)))\n",
    "pval = stats.t.sf(t_stat,len(x)-1) # one tail p-value\n",
    "2*pval\n",
    "# for confidence level of 0.05, pvalue of 0.36 is not statistically \n",
    "# significant and therefore we fail to reject the null hypothesis."
   ]
  },
  {
   "cell_type": "code",
   "execution_count": 46,
   "metadata": {},
   "outputs": [
    {
     "name": "stdout",
     "output_type": "stream",
     "text": [
      "-3.68420758354\n",
      "2.06389856163\n"
     ]
    },
    {
     "data": {
      "text/plain": [
       "(-4.2437480408850439, -1.1962519591149554)"
      ]
     },
     "execution_count": 46,
     "metadata": {},
     "output_type": "execute_result"
    }
   ],
   "source": [
    "# dependent samples where same subject takes test twice, \n",
    "# like a longitudital study or growth test. \n",
    "\n",
    "df1 = pd.read_csv('Keyboards.csv')\n",
    "qwerty = df1['QWERTY errors']\n",
    "alphabety = df1['Alphabetical errors']\n",
    "mu_q = np.mean(qwerty)\n",
    "mu_a = np.mean(alphabety)\n",
    "s = stddev(qwerty-alphabety)\n",
    "\n",
    "n = df1.shape[0]\n",
    "M = mu_q-mu_a # point estimate\n",
    "t = (M)/(s/sqrt(n))\n",
    "print t\n",
    "\n",
    "t_crit = stats.t.ppf(1-0.05/2,n-1)\n",
    "print t_crit\n",
    "\n",
    "# So the null hypothesis is rejected, and participant made significantly\n",
    "# fewer mistakes using the qwerty keyboard.\n",
    "\n",
    "M-t_crit*(s/sqrt(n)) , M+t_crit*(s/sqrt(n))\n",
    "\n",
    "# based on the confidence interval, users make 4 to 1 fewer mistakes \n",
    "# using the qwerty keyboard."
   ]
  },
  {
   "cell_type": "code",
   "execution_count": 2,
   "metadata": {},
   "outputs": [
    {
     "data": {
      "text/plain": [
       "1.2839820030249081"
      ]
     },
     "execution_count": 2,
     "metadata": {},
     "output_type": "execute_result"
    }
   ],
   "source": [
    "stats.t.ppf(0.9,349)"
   ]
  },
  {
   "cell_type": "markdown",
   "metadata": {},
   "source": [
    "### confidence interval for pearson correlation"
   ]
  },
  {
   "cell_type": "code",
   "execution_count": null,
   "metadata": {
    "collapsed": true
   },
   "outputs": [],
   "source": [
    "r,p = stats.pearsonr(df['col1'], df['col2'])\n",
    "n = len(df.index)\n",
    "\n",
    "#Fisher transformation to get z\n",
    "z = np.archtanh(r) # 0.5 ln(1+r/1-r) where r = thanh(z)\n",
    "\n",
    "# standard error\n",
    "sigma = 1/((n-3)**0.5)\n",
    "\n",
    "alpha = 0.05\n",
    "z_crit = stats.norm.ppf(1-alpha/2,n-1)\n",
    "conf_interval = z + np.array([-1, 1]) * sigma * z_crit"
   ]
  },
  {
   "cell_type": "markdown",
   "metadata": {},
   "source": [
    "###norm.cdf methods"
   ]
  },
  {
   "cell_type": "code",
   "execution_count": 129,
   "metadata": {},
   "outputs": [
    {
     "data": {
      "text/plain": [
       "0.5"
      ]
     },
     "execution_count": 129,
     "metadata": {},
     "output_type": "execute_result"
    }
   ],
   "source": [
    "# cdf \\Phi\n",
    "stats.norm.cdf(0,loc=0,scale=1)"
   ]
  },
  {
   "cell_type": "code",
   "execution_count": 134,
   "metadata": {},
   "outputs": [
    {
     "data": {
      "text/plain": [
       "(0.0, -1.9599639845400545)"
      ]
     },
     "execution_count": 134,
     "metadata": {},
     "output_type": "execute_result"
    }
   ],
   "source": [
    "# inverse of cdf\n",
    "stats.norm.ppf(0.5,loc=0,scale=1), stats.norm.ppf(0.025,loc=0,scale=1)"
   ]
  },
  {
   "cell_type": "code",
   "execution_count": 131,
   "metadata": {},
   "outputs": [
    {
     "data": {
      "text/plain": [
       "0.0013498980316300933"
      ]
     },
     "execution_count": 131,
     "metadata": {},
     "output_type": "execute_result"
    }
   ],
   "source": [
    "# sf survival function is 1-cdf\n",
    "stats.norm.sf(3,loc=0,scale=1) "
   ]
  },
  {
   "cell_type": "code",
   "execution_count": 32,
   "metadata": {},
   "outputs": [
    {
     "data": {
      "text/plain": [
       "1.2815515655446004"
      ]
     },
     "execution_count": 32,
     "metadata": {},
     "output_type": "execute_result"
    }
   ],
   "source": [
    "stats.norm.isf(0.1)"
   ]
  },
  {
   "cell_type": "code",
   "execution_count": 6,
   "metadata": {},
   "outputs": [
    {
     "data": {
      "text/plain": [
       "0.0023388674905236288"
      ]
     },
     "execution_count": 6,
     "metadata": {},
     "output_type": "execute_result"
    }
   ],
   "source": [
    "stats.norm.sf(2*sqrt(2),loc=0,scale=1)"
   ]
  },
  {
   "cell_type": "code",
   "execution_count": 145,
   "metadata": {},
   "outputs": [
    {
     "data": {
      "text/plain": [
       "0.8416212335729143"
      ]
     },
     "execution_count": 145,
     "metadata": {},
     "output_type": "execute_result"
    }
   ],
   "source": [
    "power = 0.8 # true positive cut off\n",
    "stats.norm.isf(1-power,loc=0,scale=1)"
   ]
  },
  {
   "cell_type": "code",
   "execution_count": 40,
   "metadata": {},
   "outputs": [
    {
     "data": {
      "text/plain": [
       "60.0"
      ]
     },
     "execution_count": 40,
     "metadata": {},
     "output_type": "execute_result"
    }
   ],
   "source": [
    "# success = head\n",
    "a_level = 0.05 #\n",
    "critical_val = stats.binom.ppf(1 - a_level / 2, 100, 0.5)\n",
    "critical_val \n",
    "\"\"\"\n",
    "critical_val of 60 means that with this confidence interval if 60 out of 100 time we see heads, \n",
    "the coin still passes the fainess test\n",
    "\"\"\"\n",
    "\n",
    "# mu_new = mu_old + (1/n) * (x_new - mu_old)\n",
    "# S_new = S_old + (x_new - mu_new) * (x_new - mu_old)\n",
    "# var_new = S_new / n or S_new / (n-1)\n",
    "\n",
    "class CoinToss:\n",
    "    def __init__(self):\n",
    "        self.n = 0\n",
    "        self.mean = 0\n",
    "        self.S = 0 # sum of squared diff from mean\n",
    "        self.alpha_level = 0.01\n",
    "        self.z_critical = stats.norm.cdf(1 - self.alpha_level / 2)\n",
    "        \n",
    "    def toss(self, outcome):\n",
    "        # outcome is in [0,1]\n",
    "        old_mean = self.mean\n",
    "        old_S = self.S\n",
    "        if self.n == 0:\n",
    "            new_mean = outcome\n",
    "            new_S = 0\n",
    "        else:\n",
    "            new_mean = old_mean + (1 / self.n) * (outcome - old_mean)\n",
    "            new_S = old_S + (outcome - old_mean)(outcome - new_mean)\n",
    "        self.mean = new_mean\n",
    "        self.S = new_S\n",
    "        self.n += 1\n",
    "     \n",
    "\n",
    "    def isBiased(self):\n",
    "        self.critical_val = stats.binom.ppf(1 - self.alpha_level / 2, self.n, 0.5)\n",
    "        if self.mean > self.critical_val / self.n:\n",
    "            return True\n",
    "        else:\n",
    "            return False\n",
    "        \n",
    "    def is_biased_z_test(self):\n",
    "        var = self.S / (self.n - 1)\n",
    "        standard_error = np.sqrt(var / self.n)\n",
    "        z_statistics = (self.mean - 0.5) / standard_error\n",
    "        return True if abs(z_statistics) > self.z_critical else False\n",
    "\n",
    "\n"
   ]
  },
  {
   "cell_type": "markdown",
   "metadata": {},
   "source": [
    "### Is coin fair?"
   ]
  },
  {
   "cell_type": "code",
   "execution_count": 113,
   "metadata": {
    "collapsed": true
   },
   "outputs": [],
   "source": [
    "def fact(n):\n",
    "    return 1 if n==0 else n*fact(n-1)\n",
    "\n",
    "def n_choose_k(n,k):\n",
    "    return fact(n)/(fact(k)*fact(n-k))\n",
    "\n",
    "def binom(n,k,p):\n",
    "    return n_choose_k(n,k)*(p**k)*((1-p)**(n-k))"
   ]
  },
  {
   "cell_type": "code",
   "execution_count": 121,
   "metadata": {},
   "outputs": [
    {
     "data": {
      "text/plain": [
       "0.0107421875"
      ]
     },
     "execution_count": 121,
     "metadata": {},
     "output_type": "execute_result"
    }
   ],
   "source": [
    "# coin is biased if at least 9 out of 10 coin tosses are heads (or tails).\n",
    "n = 10\n",
    "p = 0.5\n",
    "prob = sum([binom(n,k,p) for k in [9,10]])\n",
    "prob"
   ]
  },
  {
   "cell_type": "markdown",
   "metadata": {},
   "source": [
    "null hypothesis that coin is fair is rejected since 0.0107<0.05; so coin is unfair"
   ]
  },
  {
   "cell_type": "code",
   "execution_count": 43,
   "metadata": {},
   "outputs": [
    {
     "ename": "NameError",
     "evalue": "name 'x' is not defined",
     "output_type": "error",
     "traceback": [
      "\u001b[0;31m---------------------------------------------------------------------------\u001b[0m",
      "\u001b[0;31mNameError\u001b[0m                                 Traceback (most recent call last)",
      "\u001b[0;32m<ipython-input-43-a7dc7d3df435>\u001b[0m in \u001b[0;36m<module>\u001b[0;34m\u001b[0m\n\u001b[0;32m----> 1\u001b[0;31m \u001b[0msp\u001b[0m\u001b[0;34m.\u001b[0m\u001b[0mstats\u001b[0m\u001b[0;34m.\u001b[0m\u001b[0mbinom_test\u001b[0m\u001b[0;34m(\u001b[0m\u001b[0mx\u001b[0m\u001b[0;34m,\u001b[0m \u001b[0mn\u001b[0m\u001b[0;34m=\u001b[0m\u001b[0;32mNone\u001b[0m\u001b[0;34m,\u001b[0m \u001b[0mp\u001b[0m\u001b[0;34m=\u001b[0m\u001b[0;36m0.5\u001b[0m\u001b[0;34m)\u001b[0m\u001b[0;34m\u001b[0m\u001b[0m\n\u001b[0m",
      "\u001b[0;31mNameError\u001b[0m: name 'x' is not defined"
     ]
    }
   ],
   "source": [
    "sp.stats.binom_test(x, n=None, p=0.5)"
   ]
  },
  {
   "cell_type": "markdown",
   "metadata": {},
   "source": [
    "### multiple comparisons\n",
    "probability of at least one incorrectly detected unfair in 100 fair coin tosses:\n"
   ]
  },
  {
   "cell_type": "code",
   "execution_count": 127,
   "metadata": {},
   "outputs": [
    {
     "name": "stdout",
     "output_type": "stream",
     "text": [
      "0.660414707938\n"
     ]
    }
   ],
   "source": [
    "k = 100\n",
    "fwer = 1-(1-prob)**k #family-wise error rate\n",
    "print fwer "
   ]
  },
  {
   "cell_type": "markdown",
   "metadata": {},
   "source": [
    "###Multiple Testing\n",
    "control the false positive error rate associated with performing multiple statistical tests, so that the probability of at least one incorrect rejection in controlled."
   ]
  },
  {
   "cell_type": "code",
   "execution_count": 110,
   "metadata": {},
   "outputs": [
    {
     "name": "stdout",
     "output_type": "stream",
     "text": [
      "family wise error rate (fwer) before correction is 0.99407947078\n",
      "corrected fwer using Bonferroni method is 0.0487824697577\n"
     ]
    }
   ],
   "source": [
    "alpha_per_comp = 0.05\n",
    "k = 100\n",
    "fwer = 1-(1-alpha_per_comp)**k # too high, needs multiple testing correction\n",
    "print 'family wise error rate (fwer) before correction is', fwer\n",
    "\n",
    "target_fwer = 0.05\n",
    "alpha_per_comp_corrected = target_fwer/k #Bonferroni correction\n",
    "fwer_bonf = 1-(1-alpha_per_comp_corrected)**k\n",
    "print 'corrected fwer using Bonferroni method is', fwer_bonf"
   ]
  },
  {
   "cell_type": "markdown",
   "metadata": {},
   "source": [
    "many tests show small difference in effects : Fisher's Combination Test\n",
    "\n",
    "a few tests showing huge effects: Bonferroni"
   ]
  },
  {
   "cell_type": "markdown",
   "metadata": {},
   "source": [
    "### Power Analysis"
   ]
  },
  {
   "cell_type": "markdown",
   "metadata": {},
   "source": [
    "n = power.prop.test(p1=0.01, p2=0.01*1.05, power=0.8, alternative='one.sided')\n",
    "\n",
    "power.prop.test(n = 50, p1 = .50, p2 = .75)      ## => power = 0.740\n",
    "\n",
    "power.prop.test(p1 = .50, p2 = .75, power = .90) ## =>     n = 76.7\n",
    "\n",
    "power.prop.test(n = 50, p1 = .5, power = .90)    ## =>    p2 = 0.8026\n",
    "\n",
    "power.prop.test(n = 50, p1 = .5, p2 = 0.9, power = .90, sig.level=NULL) => sig.level = 0.00131\n",
    "\n",
    "power.prop.test(p1 = .5, p2 = 0.501, sig.level=.001, power=0.90) => n = 10451937"
   ]
  },
  {
   "cell_type": "markdown",
   "metadata": {},
   "source": [
    "$Z_{\\alpha/2}$:"
   ]
  },
  {
   "cell_type": "code",
   "execution_count": 153,
   "metadata": {},
   "outputs": [
    {
     "data": {
      "text/plain": [
       "1.9599639845400545"
      ]
     },
     "execution_count": 153,
     "metadata": {},
     "output_type": "execute_result"
    }
   ],
   "source": [
    "alpha = 0.05\n",
    "stats.norm.isf(alpha/2,loc=0,scale=1)"
   ]
  },
  {
   "cell_type": "markdown",
   "metadata": {},
   "source": [
    "$Z_{1-\\beta}$"
   ]
  },
  {
   "cell_type": "code",
   "execution_count": 154,
   "metadata": {},
   "outputs": [
    {
     "data": {
      "text/plain": [
       "0.8416212335729143"
      ]
     },
     "execution_count": 154,
     "metadata": {},
     "output_type": "execute_result"
    }
   ],
   "source": [
    "power = 0.8 # true positive cut off\n",
    "stats.norm.isf(1-power,loc=0,scale=1)"
   ]
  },
  {
   "cell_type": "code",
   "execution_count": 12,
   "metadata": {},
   "outputs": [
    {
     "name": "stdout",
     "output_type": "stream",
     "text": [
      "[[8 0 0 4]\n",
      " [6 5 5 3]\n",
      " [5 1 7 2]]\n",
      "\n",
      "[[6 2 1 3]\n",
      " [0 3 5 8]\n",
      " [3 1 6 5]]\n",
      "\n",
      "[[5 5]\n",
      " [8 3]\n",
      " [0 2]\n",
      " [3 8]]\n"
     ]
    }
   ],
   "source": [
    "m1 = np.random.randint(0,9,(3,4))\n",
    "m2 = np.random.randint(0,9,(3,4))\n",
    "m3 = np.random.randint(0,9,(4,2))\n",
    "print(m1)\n",
    "print(\"\")\n",
    "print(m2)\n",
    "print(\"\")\n",
    "print(m3)"
   ]
  },
  {
   "cell_type": "code",
   "execution_count": 14,
   "metadata": {},
   "outputs": [
    {
     "data": {
      "text/plain": [
       "array([240,   0,   0,  24])"
      ]
     },
     "execution_count": 14,
     "metadata": {},
     "output_type": "execute_result"
    }
   ],
   "source": [
    "m1.prod(axis=0)"
   ]
  },
  {
   "cell_type": "code",
   "execution_count": 13,
   "metadata": {},
   "outputs": [
    {
     "data": {
      "text/plain": [
       "array([[48,  0,  0, 12],\n",
       "       [ 0, 15, 25, 24],\n",
       "       [15,  1, 42, 10]])"
      ]
     },
     "execution_count": 13,
     "metadata": {},
     "output_type": "execute_result"
    }
   ],
   "source": [
    "m1*m2"
   ]
  },
  {
   "cell_type": "code",
   "execution_count": 16,
   "metadata": {},
   "outputs": [
    {
     "data": {
      "text/plain": [
       "array([[52, 72],\n",
       "       [79, 79],\n",
       "       [39, 58]])"
      ]
     },
     "execution_count": 16,
     "metadata": {},
     "output_type": "execute_result"
    }
   ],
   "source": [
    "np.dot(m1,m3)"
   ]
  },
  {
   "cell_type": "code",
   "execution_count": 27,
   "metadata": {},
   "outputs": [
    {
     "name": "stdout",
     "output_type": "stream",
     "text": [
      "(3,)\n",
      "[86 13 61 39]\n"
     ]
    }
   ],
   "source": [
    "v2 = np.random.randint(0,9,3)\n",
    "print(v2.shape)\n",
    "print(np.dot(v2,m1))"
   ]
  },
  {
   "cell_type": "code",
   "execution_count": 31,
   "metadata": {},
   "outputs": [
    {
     "data": {
      "text/plain": [
       "array([[8, 0, 0, 4, 2, 1],\n",
       "       [6, 5, 5, 3, 3, 5],\n",
       "       [5, 1, 7, 2, 1, 6]])"
      ]
     },
     "execution_count": 31,
     "metadata": {},
     "output_type": "execute_result"
    }
   ],
   "source": [
    "np.hstack([m1,m2[:,1:3]])"
   ]
  },
  {
   "cell_type": "code",
   "execution_count": 34,
   "metadata": {},
   "outputs": [
    {
     "name": "stdout",
     "output_type": "stream",
     "text": [
      "[[8 0 0 4]\n",
      " [6 5 5 3]\n",
      " [5 1 7 2]]\n",
      "[[6 2 1 3]\n",
      " [0 3 5 8]\n",
      " [3 1 6 5]]\n",
      "[[5 5]\n",
      " [8 3]\n",
      " [0 2]\n",
      " [3 8]]\n"
     ]
    }
   ],
   "source": [
    "print(m1)\n",
    "print(m2)\n",
    "print(m3)"
   ]
  },
  {
   "cell_type": "code",
   "execution_count": 35,
   "metadata": {},
   "outputs": [
    {
     "data": {
      "text/plain": [
       "array([[8, 0, 0, 4],\n",
       "       [6, 5, 5, 3],\n",
       "       [5, 1, 7, 2],\n",
       "       [5, 8, 0, 3],\n",
       "       [5, 3, 2, 8]])"
      ]
     },
     "execution_count": 35,
     "metadata": {},
     "output_type": "execute_result"
    }
   ],
   "source": [
    "np.vstack([m1,m3.T])"
   ]
  },
  {
   "cell_type": "code",
   "execution_count": 36,
   "metadata": {},
   "outputs": [
    {
     "name": "stdout",
     "output_type": "stream",
     "text": [
      "[[1 6 7]\n",
      " [4 4 2]]\n",
      "\n",
      "[[2 8 4]]\n",
      "\n",
      "[[ 2 48 28]\n",
      " [ 8 32  8]]\n"
     ]
    }
   ],
   "source": [
    "a = np.random.randint(0,9,(2,3))\n",
    "b = np.random.randint(0,9,(1,3))\n",
    "print(a)\n",
    "print(\"\") \n",
    "print(b)\n",
    "print(\"\")\n",
    "print(a*b)"
   ]
  },
  {
   "cell_type": "code",
   "execution_count": 37,
   "metadata": {},
   "outputs": [
    {
     "data": {
      "text/plain": [
       "array([[1, 6, 7, 1, 6, 7],\n",
       "       [4, 4, 2, 4, 4, 2],\n",
       "       [1, 6, 7, 1, 6, 7],\n",
       "       [4, 4, 2, 4, 4, 2]])"
      ]
     },
     "execution_count": 37,
     "metadata": {},
     "output_type": "execute_result"
    }
   ],
   "source": [
    "np.tile(a,(2,2))"
   ]
  },
  {
   "cell_type": "code",
   "execution_count": 38,
   "metadata": {},
   "outputs": [],
   "source": [
    "mu = np.array([1,2])\n",
    "cov = np.array([[5,1],[1,2]])"
   ]
  },
  {
   "cell_type": "code",
   "execution_count": 41,
   "metadata": {},
   "outputs": [],
   "source": [
    "def bivariate_normal(x,mu,cov):\n",
    "    d = cov.shape[0]\n",
    "    S = linalg.inv(cov)\n",
    "    k = 1/sqrt(((2*pi)**d)*linalg.det(S))\n",
    "    t = np.dot((x-mu).T, linalg.inv(cov))\n",
    "    return k*exp(-np.dot(t,x-mu))"
   ]
  },
  {
   "cell_type": "code",
   "execution_count": 44,
   "metadata": {},
   "outputs": [
    {
     "data": {
      "text/plain": [
       "0.2739470790787392"
      ]
     },
     "execution_count": 44,
     "metadata": {},
     "output_type": "execute_result"
    }
   ],
   "source": [
    "x = np.array([2,3])\n",
    "bivariate_normal(x,mu,cov)"
   ]
  },
  {
   "cell_type": "code",
   "execution_count": 308,
   "metadata": {},
   "outputs": [
    {
     "data": {
      "text/plain": [
       "[array([ 0.35756521,  0.64725601]),\n",
       " array([ 0.1309929 ,  0.39066828]),\n",
       " array([ 0.17239844,  0.93912996]),\n",
       " array([ 0.49554446,  0.65072282]),\n",
       " array([ 0.86720472,  0.68663575]),\n",
       " array([ 0.88936465,  0.42919451]),\n",
       " array([ 0.16836648,  0.66164484]),\n",
       " array([ 0.22749947,  0.78243535]),\n",
       " array([ 0.90063345,  0.72670336]),\n",
       " array([ 0.81927875,  0.30247395])]"
      ]
     },
     "execution_count": 308,
     "metadata": {},
     "output_type": "execute_result"
    }
   ],
   "source": [
    "n = 10\n",
    "z = np.random.rand(n,2)\n",
    "filter(lambda x:bivariate_normal(x,mu,cov), z)"
   ]
  },
  {
   "cell_type": "code",
   "execution_count": 310,
   "metadata": {},
   "outputs": [
    {
     "data": {
      "text/plain": [
       "array([ 0. ,  0.1,  0.2,  0.3,  0.4,  0.5,  0.6,  0.7,  0.8,  0.9])"
      ]
     },
     "execution_count": 310,
     "metadata": {},
     "output_type": "execute_result"
    }
   ],
   "source": [
    "np.arange(0,1,0.1)"
   ]
  },
  {
   "cell_type": "code",
   "execution_count": 80,
   "metadata": {},
   "outputs": [],
   "source": [
    "score = np.array([0.9, 0.8, 0.7, 0.6, 0.55, 0.54, 0.53, 0.52, 0.51, 0.505, 0.4, 0.39, 0.38, 0.37, 0.36, 0.35, 0.34, 0.33, 0.30, 0.1])\n",
    "y = np.array([1,1,0, 1, 1, 1, 0, 0, 1, 0, 1,0, 1, 0, 0, 0, 1 , 0, 1, 0])"
   ]
  },
  {
   "cell_type": "code",
   "execution_count": 95,
   "metadata": {},
   "outputs": [
    {
     "data": {
      "image/png": "[encoded data removed]",
      "text/plain": [
       "<Figure size 432x288 with 1 Axes>"
      ]
     },
     "metadata": {
      "needs_background": "light"
     },
     "output_type": "display_data"
    }
   ],
   "source": [
    "roc_x = []\n",
    "roc_y = []\n",
    "min_score = min(score)\n",
    "max_score = max(score)\n",
    "thr = np.linspace(min_score, max_score, 50)\n",
    "FP=0\n",
    "TP=0\n",
    "N = sum(y) # 1 \n",
    "P = len(y) - N # 0\n",
    "\n",
    "for (_, T) in enumerate(thr):\n",
    "    for i in range(0, len(score)):\n",
    "        if (score[i] > T):\n",
    "            if (y[i]==1):\n",
    "                TP = TP + 1\n",
    "            if (y[i]==0):\n",
    "                FP = FP + 1\n",
    "    roc_x.append(FP/float(N))\n",
    "    roc_y.append(TP/float(P))\n",
    "    FP=0\n",
    "    TP=0\n",
    "\n",
    "plt.plot(roc_x, roc_y)\n",
    "plt.show()"
   ]
  },
  {
   "cell_type": "code",
   "execution_count": 328,
   "metadata": {},
   "outputs": [
    {
     "data": {
      "text/plain": [
       "array([ 0.1       ,  0.14210526,  0.18421053,  0.22631579,  0.26842105,\n",
       "        0.31052632,  0.35263158,  0.39473684,  0.43684211,  0.47894737,\n",
       "        0.52105263,  0.56315789,  0.60526316,  0.64736842,  0.68947368,\n",
       "        0.73157895,  0.77368421,  0.81578947,  0.85789474,  0.9       ])"
      ]
     },
     "execution_count": 328,
     "metadata": {},
     "output_type": "execute_result"
    }
   ],
   "source": [
    "thr"
   ]
  },
  {
   "cell_type": "code",
   "execution_count": 46,
   "metadata": {},
   "outputs": [
    {
     "data": {
      "text/plain": [
       "array([[1, 2, 3],\n",
       "       [4, 5, 6]])"
      ]
     },
     "execution_count": 46,
     "metadata": {},
     "output_type": "execute_result"
    }
   ],
   "source": [
    "arr1 = [1,2,3]\n",
    "arr2 = [4,5,6]\n",
    "np.vstack([arr1, arr2])"
   ]
  },
  {
   "cell_type": "code",
   "execution_count": 51,
   "metadata": {},
   "outputs": [
    {
     "data": {
      "text/plain": [
       "(1, 10)"
      ]
     },
     "execution_count": 51,
     "metadata": {},
     "output_type": "execute_result"
    }
   ],
   "source": [
    "np.zeros((1,10)).shape"
   ]
  },
  {
   "cell_type": "code",
   "execution_count": 54,
   "metadata": {},
   "outputs": [
    {
     "data": {
      "text/plain": [
       "[<matplotlib.lines.Line2D at 0x1341cb898>]"
      ]
     },
     "execution_count": 54,
     "metadata": {},
     "output_type": "execute_result"
    },
    {
     "data": {
      "image/png": "[encoded data removed]",
      "text/plain": [
       "<Figure size 432x288 with 1 Axes>"
      ]
     },
     "metadata": {
      "needs_background": "light"
     },
     "output_type": "display_data"
    }
   ],
   "source": [
    "plt.plot(score)"
   ]
  },
  {
   "cell_type": "code",
   "execution_count": 81,
   "metadata": {},
   "outputs": [
    {
     "data": {
      "text/plain": [
       "([1, 14, 2, 13, 10, 7, 19, 9, 11, 6, 15, 4, 5, 18, 17, 12, 0, 16, 3, 8],\n",
       " array([0.8  , 0.36 , 0.7  , 0.37 , 0.4  , 0.52 , 0.1  , 0.505, 0.39 ,\n",
       "        0.53 , 0.35 , 0.55 , 0.54 , 0.3  , 0.33 , 0.38 , 0.9  , 0.34 ,\n",
       "        0.6  , 0.51 ]))"
      ]
     },
     "execution_count": 81,
     "metadata": {},
     "output_type": "execute_result"
    }
   ],
   "source": [
    "\n",
    "import random; \n",
    "a = list(range(len(score)))\n",
    "random.shuffle(a)\n",
    "a, score[a]"
   ]
  },
  {
   "cell_type": "code",
   "execution_count": 82,
   "metadata": {},
   "outputs": [],
   "source": [
    "score = score[a]"
   ]
  },
  {
   "cell_type": "code",
   "execution_count": 85,
   "metadata": {},
   "outputs": [
    {
     "data": {
      "text/plain": [
       "array([0.8  , 0.36 , 0.7  , 0.37 , 0.4  , 0.52 , 0.1  , 0.505, 0.39 ,\n",
       "       0.53 , 0.35 , 0.55 , 0.54 , 0.3  , 0.33 , 0.38 , 0.9  , 0.34 ,\n",
       "       0.6  , 0.51 ])"
      ]
     },
     "execution_count": 85,
     "metadata": {},
     "output_type": "execute_result"
    }
   ],
   "source": [
    "score"
   ]
  },
  {
   "cell_type": "code",
   "execution_count": 94,
   "metadata": {},
   "outputs": [
    {
     "data": {
      "text/plain": [
       "array([0.1       , 0.14210526, 0.18421053, 0.22631579, 0.26842105,\n",
       "       0.31052632, 0.35263158, 0.39473684, 0.43684211, 0.47894737,\n",
       "       0.52105263, 0.56315789, 0.60526316, 0.64736842, 0.68947368,\n",
       "       0.73157895, 0.77368421, 0.81578947, 0.85789474, 0.9       ])"
      ]
     },
     "execution_count": 94,
     "metadata": {},
     "output_type": "execute_result"
    }
   ],
   "source": [
    "np.linspace(min_score, max_score, 20)"
   ]
  },
  {
   "cell_type": "code",
   "execution_count": 87,
   "metadata": {},
   "outputs": [
    {
     "data": {
      "text/plain": [
       "20"
      ]
     },
     "execution_count": 87,
     "metadata": {},
     "output_type": "execute_result"
    }
   ],
   "source": [
    "len(score)"
   ]
  },
  {
   "cell_type": "code",
   "execution_count": null,
   "metadata": {},
   "outputs": [],
   "source": []
  }
 ],
 "metadata": {
  "kernelspec": {
   "display_name": "Python 3",
   "language": "python",
   "name": "python3"
  },
  "language_info": {
   "codemirror_mode": {
    "name": "ipython",
    "version": 3
   },
   "file_extension": ".py",
   "mimetype": "text/x-python",
   "name": "python",
   "nbconvert_exporter": "python",
   "pygments_lexer": "ipython3",
   "version": "3.6.9"
  }
 },
 "nbformat": 4,
 "nbformat_minor": 1
}

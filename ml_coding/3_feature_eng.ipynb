{
 "cells": [
  {
   "cell_type": "code",
   "execution_count": 1,
   "metadata": {},
   "outputs": [],
   "source": [
    "from sklearn.preprocessing import OneHotEncoder\n"
   ]
  },
  {
   "cell_type": "code",
   "execution_count": null,
   "metadata": {},
   "outputs": [],
   "source": [
    "enc = OneHotEncoder()\n",
    "X = [['apple'], ['pear'], ['apple'], ['orange'], ['pear']]\n",
    "enc.fit(X)\n",
    "enc.categories_"
   ]
  },
  {
   "cell_type": "code",
   "execution_count": 2,
   "metadata": {},
   "outputs": [
    {
     "data": {
      "text/plain": [
       "[array(['apple', 'orange', 'pear'], dtype=object),\n",
       " array([0, 1, 2], dtype=object),\n",
       " array([0.1, 0.2], dtype=object)]"
      ]
     },
     "execution_count": 2,
     "metadata": {},
     "output_type": "execute_result"
    }
   ],
   "source": [
    "enc = OneHotEncoder(handle_unknown='ignore')\n",
    "X = [['apple',1,0.1], ['pear',0,0.2], ['apple',2,0.1], ['orange',1,0.2], ['pear',1,0.1]]\n",
    "enc.fit(X)\n",
    "enc.categories_"
   ]
  },
  {
   "cell_type": "code",
   "execution_count": 3,
   "metadata": {},
   "outputs": [
    {
     "data": {
      "text/plain": [
       "array([[0., 0., 1., 0., 1., 0., 1., 0.],\n",
       "       [1., 0., 0., 1., 0., 0., 0., 1.],\n",
       "       [0., 0., 1., 0., 0., 0., 1., 0.]])"
      ]
     },
     "execution_count": 3,
     "metadata": {},
     "output_type": "execute_result"
    }
   ],
   "source": [
    "a = enc.transform([['pear',1,0.1], ['apple',0,0.2], ['pear',5,0.1]]).toarray()\n",
    "a"
   ]
  },
  {
   "cell_type": "code",
   "execution_count": null,
   "metadata": {},
   "outputs": [],
   "source": [
    "enc = OneHotEncoder(handle_unknown='ignore')\n",
    "X1 = [['apple'], ['pear'], ['apple'], ['orange'], ['pear']]\n",
    "enc.fit(X1)\n",
    "print(enc.categories_)\n",
    "a = enc.transform([['pear'], ['apple'], ['orange'], ['peach'], ['peach']]).toarray()\n",
    "print(a) # unknown category will be assigned vector of all zeros"
   ]
  }
 ],
 "metadata": {
  "kernelspec": {
   "display_name": "Python 3",
   "language": "python",
   "name": "python3"
  },
  "language_info": {
   "codemirror_mode": {
    "name": "ipython",
    "version": 3
   },
   "file_extension": ".py",
   "mimetype": "text/x-python",
   "name": "python",
   "nbconvert_exporter": "python",
   "pygments_lexer": "ipython3",
   "version": "3.6.9"
  }
 },
 "nbformat": 4,
 "nbformat_minor": 4
}

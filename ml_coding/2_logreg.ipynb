{
 "cells": [
  {
   "cell_type": "code",
   "execution_count": 38,
   "metadata": {},
   "outputs": [],
   "source": [
    "import math\n",
    "import random\n",
    "import numpy as np\n",
    "import matplotlib.pyplot as plt\n",
    "\n",
    "from sklearn import datasets\n",
    "from sklearn.linear_model import LinearRegression\n",
    "from sklearn.model_selection import train_test_split"
   ]
  },
  {
   "cell_type": "code",
   "execution_count": 39,
   "metadata": {},
   "outputs": [
    {
     "data": {
      "text/plain": [
       "<matplotlib.legend.Legend at 0x12e97da20>"
      ]
     },
     "execution_count": 39,
     "metadata": {},
     "output_type": "execute_result"
    },
    {
     "data": {
      "image/png": "[encoded data removed]",
      "text/plain": [
       "<Figure size 432x288 with 1 Axes>"
      ]
     },
     "metadata": {
      "needs_background": "light"
     },
     "output_type": "display_data"
    }
   ],
   "source": [
    "iris = datasets.load_iris()\n",
    "X = iris.data[:, :2] # (150,2)\n",
    "Y = (iris.target != 0) * 1\n",
    "\n",
    "plt.scatter(X[Y==0, 0], X[Y==0, 1], color='b', label='blue')\n",
    "plt.scatter(X[Y==1, 0], X[Y==1, 1], color='r', label='red')\n",
    "plt.legend()"
   ]
  },
  {
   "cell_type": "code",
   "execution_count": 30,
   "metadata": {},
   "outputs": [
    {
     "data": {
      "text/plain": [
       "(150,)"
      ]
     },
     "execution_count": 30,
     "metadata": {},
     "output_type": "execute_result"
    }
   ],
   "source": [
    "Y.shape"
   ]
  },
  {
   "cell_type": "code",
   "execution_count": 89,
   "metadata": {},
   "outputs": [],
   "source": [
    "class LogisticReg:\n",
    "    def __init__(self, lr=0.01, num_iters=100000, hparam=0.001):\n",
    "        self.lr = lr\n",
    "        self.num_iters = num_iters\n",
    "        self.hparam = hparam\n",
    "\n",
    "    def __add_intercept(self, X):\n",
    "        ones = np.ones((X.shape[0], 1))\n",
    "        return np.hstack((ones, X))\n",
    "    \n",
    "#     def __loss(self, h, Y):\n",
    "#         err = Y - np.dot(X, self.theta)\n",
    "#         return np.dot(err.T, err)\n",
    "    \n",
    "    def __sigmoid(self, z):\n",
    "        return 1 / (1 + np.exp(-z))\n",
    "    \n",
    "#     @property\n",
    "#     def loss(self):\n",
    "#         return self._loss\n",
    "\n",
    "    def fit(self, X, Y):\n",
    "        \"\"\"\n",
    "        X.shape=(n,d)\n",
    "        Y.shape=(n,1)\n",
    "        \"\"\"\n",
    "        n, d = X.shape\n",
    "        X = self.__add_intercept(X)\n",
    "        self.theta = np.zeros(d+1)\n",
    "        for _ in range(self.num_iters):\n",
    "            z = np.dot(X, self.theta)\n",
    "            h = self.__sigmoid(z)\n",
    "            gradient = np.dot(X.T, Y - h) / n\n",
    "            self.theta -= self.lr * gradient\n",
    "\n",
    "\n",
    "    def predict(self, X_test):\n",
    "        \"\"\"\n",
    "        X_test.shape=(m,d)\n",
    "        \"\"\"\n",
    "        X = self.__add_intercept(X_test)\n",
    "        return np.dot(X, self.theta)\n",
    "        \n"
   ]
  },
  {
   "cell_type": "code",
   "execution_count": 92,
   "metadata": {},
   "outputs": [
    {
     "name": "stderr",
     "output_type": "stream",
     "text": [
      "/Users/mashaker/.pyenv/versions/3.6.9/lib/python3.6/site-packages/ipykernel_launcher.py:16: RuntimeWarning: overflow encountered in exp\n",
      "  app.launch_new_instance()\n"
     ]
    },
    {
     "data": {
      "text/plain": [
       "array([[ -19999.91297831],\n",
       "       [-125239.49495898],\n",
       "       [ -57439.73406416]])"
      ]
     },
     "execution_count": 92,
     "metadata": {},
     "output_type": "execute_result"
    }
   ],
   "source": [
    "iris = datasets.load_iris()\n",
    "X = iris.data[:, :2] # (150,2)\n",
    "Y = (iris.target != 0) * 1\n",
    "Y = Y.reshape((Y.size, 1)) # (150,1)\n",
    "\n",
    "# n, d = X.shape\n",
    "# ones = np.ones((X.shape[0], 1))\n",
    "# X = np.hstack((ones, X))\n",
    "# theta = np.zeros((d+1, 1))\n",
    "# z = np.dot(X, theta)\n",
    "# h = 1 / (1 + np.exp(-z))\n",
    "# gradient = np.dot(X.T, Y - h) / n\n",
    "# theta -= 0.001 * gradient\n",
    "\n",
    "logreg = LogisticReg(lr=0.1, num_iters=300000)\n",
    "logreg.fit(X, Y)\n",
    "logreg.theta"
   ]
  },
  {
   "cell_type": "code",
   "execution_count": null,
   "metadata": {},
   "outputs": [],
   "source": []
  }
 ],
 "metadata": {
  "kernelspec": {
   "display_name": "Python 3",
   "language": "python",
   "name": "python3"
  },
  "language_info": {
   "codemirror_mode": {
    "name": "ipython",
    "version": 3
   },
   "file_extension": ".py",
   "mimetype": "text/x-python",
   "name": "python",
   "nbconvert_exporter": "python",
   "pygments_lexer": "ipython3",
   "version": "3.6.9"
  }
 },
 "nbformat": 4,
 "nbformat_minor": 4
}

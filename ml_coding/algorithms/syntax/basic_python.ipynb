{
 "cells": [
  {
   "cell_type": "code",
   "execution_count": 2,
   "metadata": {},
   "outputs": [],
   "source": [
    "from collections import Counter"
   ]
  },
  {
   "cell_type": "code",
   "execution_count": 21,
   "metadata": {},
   "outputs": [
    {
     "data": {
      "text/plain": [
       "[('i', 2), ('n', 2), ('r', 2), ('s', 2), ('g', 1), ('t', 1)]"
      ]
     },
     "execution_count": 21,
     "metadata": {},
     "output_type": "execute_result"
    }
   ],
   "source": [
    "# sort by decreasing freq, if same freq, sort increasing lexicographically\n",
    "s = \"srstrining\"\n",
    "sorted(Counter(s).items(), key=lambda x: (-x[1], x[0]))"
   ]
  },
  {
   "cell_type": "code",
   "execution_count": 62,
   "metadata": {},
   "outputs": [
    {
     "name": "stdout",
     "output_type": "stream",
     "text": [
      "['id4 a b c', 'id1 a c d', 'id3 x y z', 'id2 x y z']\n"
     ]
    }
   ],
   "source": [
    "logs = [\"id4 a b c\", \"id3 x y z\", \"id1 a c d\", \"id2 x y z\"]\n",
    "\n",
    "# sorting after identifier\n",
    "logs.sort(key=lambda x: x.split()[1:])\n",
    "print(logs)"
   ]
  },
  {
   "cell_type": "code",
   "execution_count": 127,
   "metadata": {},
   "outputs": [
    {
     "data": {
      "text/plain": [
       "(datetime.timedelta(15), 15)"
      ]
     },
     "execution_count": 127,
     "metadata": {},
     "output_type": "execute_result"
    }
   ],
   "source": [
    "from datetime import date\n",
    "date1, date2 = \"2020-01-15\", \"2019-12-31\"\n",
    "d1 = date(*tuple(int(val) for val in date1.split(\"-\")))\n",
    "d2 = date(*tuple(int(val) for val in date2.split(\"-\")))\n",
    "(d1 - d2), (d1 - d2).days"
   ]
  },
  {
   "cell_type": "code",
   "execution_count": 8,
   "metadata": {},
   "outputs": [
    {
     "name": "stdout",
     "output_type": "stream",
     "text": [
      "Number is 0\n",
      "Number is 1\n",
      "Number is 2\n",
      "Out of loop\n"
     ]
    }
   ],
   "source": [
    "number = 0\n",
    "for number in range(5):\n",
    "    if number == 3:\n",
    "        break\n",
    "    print('Number is ' + str(number))\n",
    "print('Out of loop')"
   ]
  },
  {
   "cell_type": "code",
   "execution_count": 7,
   "metadata": {},
   "outputs": [
    {
     "name": "stdout",
     "output_type": "stream",
     "text": [
      "Number is 0\n",
      "Number is 1\n",
      "Number is 2\n",
      "Number is 4\n",
      "Out of loop\n"
     ]
    }
   ],
   "source": [
    "number = 0\n",
    "for number in range(5):\n",
    "    if number == 3:\n",
    "        continue\n",
    "    print('Number is ' + str(number))\n",
    "print('Out of loop')"
   ]
  },
  {
   "cell_type": "code",
   "execution_count": 6,
   "metadata": {},
   "outputs": [
    {
     "name": "stdout",
     "output_type": "stream",
     "text": [
      "Number is 0\n",
      "Number is 1\n",
      "Number is 2\n",
      "Out of loop\n"
     ]
    }
   ],
   "source": [
    "number = 0\n",
    "while number < 5:\n",
    "    if number == 3:\n",
    "        break\n",
    "    print('Number is ' + str(number))\n",
    "    number += 1\n",
    "print('Out of loop')"
   ]
  },
  {
   "cell_type": "code",
   "execution_count": 5,
   "metadata": {},
   "outputs": [
    {
     "name": "stdout",
     "output_type": "stream",
     "text": [
      "Number is 1\n",
      "Number is 2\n",
      "Number is 4\n",
      "Number is 5\n",
      "Out of loop\n"
     ]
    }
   ],
   "source": [
    "number = 0\n",
    "while number < 5:\n",
    "    number += 1 # will inifinitely stuck at 5 if this is moved after continue\n",
    "    if number == 3:\n",
    "        continue\n",
    "    print('Number is ' + str(number))\n",
    "print('Out of loop')"
   ]
  },
  {
   "cell_type": "code",
   "execution_count": 4,
   "metadata": {},
   "outputs": [
    {
     "name": "stdout",
     "output_type": "stream",
     "text": [
      "Number is 0\n",
      "Number is 1\n",
      "Number is 2\n",
      "Out of second loop\n",
      "Number is 0\n",
      "Number is 1\n",
      "Number is 2\n",
      "Out of second loop\n",
      "Number is 0\n",
      "Number is 1\n",
      "Number is 2\n",
      "Out of second loop\n",
      "Out of first loop\n"
     ]
    }
   ],
   "source": [
    "number = 0\n",
    "for first in range(3):\n",
    "    for number in range(5):\n",
    "        if number == 3:\n",
    "            break\n",
    "        print('Number is ' + str(number))\n",
    "    print('Out of second loop')\n",
    "print('Out of first loop')\n"
   ]
  },
  {
   "cell_type": "code",
   "execution_count": 11,
   "metadata": {},
   "outputs": [
    {
     "data": {
      "text/plain": [
       "[1, 3]"
      ]
     },
     "execution_count": 11,
     "metadata": {},
     "output_type": "execute_result"
    }
   ],
   "source": [
    "hset1 = set([2,1,2,3,2])\n",
    "hset2 = set([3,3,1,5,1,5])\n",
    "list(hset1.intersection(hset2))"
   ]
  },
  {
   "cell_type": "code",
   "execution_count": 30,
   "metadata": {},
   "outputs": [
    {
     "data": {
      "text/plain": [
       "{1, 2, 3, 'a', 'b', 'c'}"
      ]
     },
     "execution_count": 30,
     "metadata": {},
     "output_type": "execute_result"
    }
   ],
   "source": [
    "set1 = {\"a\", \"b\" , \"c\"}\n",
    "set2 = {1, 2, 3}\n",
    "set1.union(set2)"
   ]
  },
  {
   "cell_type": "code",
   "execution_count": 3,
   "metadata": {},
   "outputs": [
    {
     "name": "stdout",
     "output_type": "stream",
     "text": [
      "[]\n",
      "[2, 5]\n",
      "[]\n",
      "[5, 4, 3]\n",
      "[4, 3, 2, 1, 0]\n",
      "[4, 3, 2, 1, 0]\n",
      "[6]\n"
     ]
    }
   ],
   "source": [
    "# first param of range always inclusive, second param always not inclusive\n",
    "# range(start, end, step)\n",
    "print(list(range(2, 2)))\n",
    "print(list(range(2, 8, 3)))\n",
    "print(list(range(2, 5, -1)))\n",
    "print(list(range(5, 2, -1)))\n",
    "print(list(range(4, -1, -1)))\n",
    "print(list(reversed(range(5))))\n",
    "arr = [3,2,4,6]\n",
    "print(arr[-1:])\n"
   ]
  },
  {
   "cell_type": "code",
   "execution_count": 29,
   "metadata": {},
   "outputs": [
    {
     "data": {
      "text/plain": [
       "{(1, 2)}"
      ]
     },
     "execution_count": 29,
     "metadata": {},
     "output_type": "execute_result"
    }
   ],
   "source": [
    "out = set()\n",
    "out.add((1,2))\n",
    "out\n",
    "# out.add([1,2]) Error: list is unhashable"
   ]
  },
  {
   "cell_type": "code",
   "execution_count": 18,
   "metadata": {},
   "outputs": [
    {
     "data": {
      "text/plain": [
       "[1, 3, 6, 11]"
      ]
     },
     "execution_count": 18,
     "metadata": {},
     "output_type": "execute_result"
    }
   ],
   "source": [
    "from itertools import accumulate\n",
    "list(accumulate([1,2,3,5]))"
   ]
  },
  {
   "cell_type": "code",
   "execution_count": 5,
   "metadata": {},
   "outputs": [
    {
     "data": {
      "text/plain": [
       "([4], [2, 3], [], '0')"
      ]
     },
     "execution_count": 5,
     "metadata": {},
     "output_type": "execute_result"
    }
   ],
   "source": [
    "# list slicing. IMPORTANT. If out of bound igonores, doesn't fail. convenient. \n",
    "[1,2,3,4][3:5], [1,2,3,4][-3:3], [1,2,3,4][8:10], str(sum([]))"
   ]
  },
  {
   "cell_type": "code",
   "execution_count": 31,
   "metadata": {},
   "outputs": [
    {
     "name": "stdout",
     "output_type": "stream",
     "text": [
      "[0, 0, 0, 0, '*', 0, '*', 0, '*', 0, '*', 0, '*', 0, '*', 0, '*', 0, '*', 0]\n"
     ]
    }
   ],
   "source": [
    "n = 20\n",
    "out = [0] * n\n",
    "i = 2\n",
    "out[i*i: n: i] = ['*'] * len(out[i*i: n: i])\n",
    "print(out)"
   ]
  },
  {
   "cell_type": "code",
   "execution_count": 12,
   "metadata": {},
   "outputs": [
    {
     "name": "stdout",
     "output_type": "stream",
     "text": [
      "Counter({1: 3, 2: 2, 3: 1})\n",
      "Counter()\n"
     ]
    }
   ],
   "source": [
    "# Counter magic\n",
    "from collections import Counter\n",
    "\n",
    "list1 = [1,1,1,2,2,2,2,3]\n",
    "list2 = [1,1,1,2,2,3,3,4]\n",
    "list3 = [6,7,8]\n",
    "print(Counter(list1) & Counter(list2))\n",
    "print(Counter(list1) & Counter(list3))\n"
   ]
  },
  {
   "cell_type": "code",
   "execution_count": 23,
   "metadata": {},
   "outputs": [
    {
     "name": "stdout",
     "output_type": "stream",
     "text": [
      "4\n",
      "100\n",
      "101\n"
     ]
    }
   ],
   "source": [
    "# bit manipulation IMPORTANT\n",
    "a = \"11\"; b = \"1\"\n",
    "print(int(a, 2) + int(b, 2))\n",
    "print('{0:b}'.format(4))\n",
    "print(int(\"101\"))"
   ]
  },
  {
   "cell_type": "code",
   "execution_count": 37,
   "metadata": {},
   "outputs": [
    {
     "data": {
      "text/plain": [
       "30"
      ]
     },
     "execution_count": 37,
     "metadata": {},
     "output_type": "execute_result"
    }
   ],
   "source": [
    "a = \"1111\"\n",
    "b = \"1111\"\n",
    "x, y = int(a, 2), int(b, 2)\n",
    "x, y\n",
    "answer = x ^ y\n",
    "(x & y) << 1"
   ]
  },
  {
   "cell_type": "code",
   "execution_count": 134,
   "metadata": {},
   "outputs": [
    {
     "data": {
      "text/plain": [
       "(4, 4, 1, 1, 3, 3)"
      ]
     },
     "execution_count": 134,
     "metadata": {},
     "output_type": "execute_result"
    }
   ],
   "source": [
    "# Euclid Algorithm, my way\n",
    "def gcd(a, b):\n",
    "    if a == 0: return b\n",
    "    if b == 0: return a\n",
    "    if a > b:\n",
    "        return gcd(a % b, b)\n",
    "    else:\n",
    "        return gcd(b % a, a)\n",
    "    \n",
    "gcd(64, 20), gcd(20, 64), gcd(1, 10), gcd(10, 1), gcd(0, 3), gcd(3, 0)"
   ]
  },
  {
   "cell_type": "code",
   "execution_count": 45,
   "metadata": {},
   "outputs": [
    {
     "name": "stdout",
     "output_type": "stream",
     "text": [
      "[6, 1, 5, 4]\n",
      "[1, 5, 4, 6]\n",
      "[5]\n",
      "3\n",
      "0\n"
     ]
    }
   ],
   "source": [
    "a = [1,5,4]; a.insert(0,6); print(a)\n",
    "a = [1,5,4]; a.insert(3,6); print(a)\n",
    "a = []; a.insert(0,5); print(a)\n",
    "b = [4,5,1,8,3,2,7,8,7]; b.index(max(b)) # return first index with target value\n",
    "arr = [2,4,5,1,2,2]; print(arr.count(2)); print(arr.count(7))"
   ]
  },
  {
   "cell_type": "code",
   "execution_count": 184,
   "metadata": {},
   "outputs": [
    {
     "data": {
      "text/plain": [
       "[4, 2, 3, 7]"
      ]
     },
     "execution_count": 184,
     "metadata": {},
     "output_type": "execute_result"
    }
   ],
   "source": [
    "def remove_largest(arr):\n",
    "    ind = arr.index(max(arr))\n",
    "    arr[ind], arr[-1] = arr[-1], arr[ind]\n",
    "    arr.pop()\n",
    "    \n",
    "arr = [4,8,3,7,2]\n",
    "remove_largest(arr)\n",
    "arr"
   ]
  },
  {
   "cell_type": "code",
   "execution_count": 43,
   "metadata": {},
   "outputs": [
    {
     "name": "stdout",
     "output_type": "stream",
     "text": [
      "[1 2 0]\n"
     ]
    },
    {
     "data": {
      "text/plain": [
       "array([3, 1, 4, 2, 0])"
      ]
     },
     "execution_count": 43,
     "metadata": {},
     "output_type": "execute_result"
    }
   ],
   "source": [
    "# NUMPY\n",
    "import numpy as np\n",
    "x = [3, 1, 2]; sorted_x = [x[1], x[2], x[0]]; argsort_x = [1, 2, 0]; print(np.argsort(x))\n",
    "np.argsort([5,2,4,1,3])"
   ]
  },
  {
   "cell_type": "code",
   "execution_count": 44,
   "metadata": {},
   "outputs": [
    {
     "data": {
      "text/plain": [
       "[]"
      ]
     },
     "execution_count": 44,
     "metadata": {},
     "output_type": "execute_result"
    }
   ],
   "source": [
    "[5] * 0"
   ]
  },
  {
   "cell_type": "code",
   "execution_count": 22,
   "metadata": {},
   "outputs": [
    {
     "data": {
      "text/plain": [
       "(True, False)"
      ]
     },
     "execution_count": 22,
     "metadata": {},
     "output_type": "execute_result"
    }
   ],
   "source": [
    "not 0, not -1"
   ]
  },
  {
   "cell_type": "code",
   "execution_count": 2,
   "metadata": {},
   "outputs": [
    {
     "data": {
      "text/plain": [
       "[3, 2, 1]"
      ]
     },
     "execution_count": 2,
     "metadata": {},
     "output_type": "execute_result"
    }
   ],
   "source": [
    "path = [1,2,3]\n",
    "path.reverse()\n",
    "path\n",
    "# notice strings don't have .reverse() method."
   ]
  },
  {
   "cell_type": "code",
   "execution_count": 20,
   "metadata": {},
   "outputs": [
    {
     "name": "stdout",
     "output_type": "stream",
     "text": [
      "Counter({'b': 2, 'c': 1, 'a': 1, 'd': 1, 'e': 0})\n",
      "defaultdict(<class 'int'>, {'c': 1, 'b': 2, 'a': 1, 'd': 1})\n",
      "False\n"
     ]
    }
   ],
   "source": [
    "from collections import defaultdict, Counter\n",
    "\n",
    "s = \"cbaedb\"\n",
    "hmap = Counter(s)\n",
    "hmap['e'] -= 1\n",
    "print(hmap)\n",
    "\n",
    "s2 = \"cbadb\"\n",
    "hmap2 = defaultdict(int)\n",
    "for char in s2:\n",
    "    hmap2[char] += 1\n",
    "print(hmap2)\n",
    "\n",
    "print(hmap == hmap2)"
   ]
  },
  {
   "cell_type": "code",
   "execution_count": 34,
   "metadata": {},
   "outputs": [
    {
     "name": "stdout",
     "output_type": "stream",
     "text": [
      "[[1, 7, 8], [2, 1, 3], [4, 5]]\n"
     ]
    },
    {
     "data": {
      "text/plain": [
       "[[(1, 1), (7, 0), (8, 2)], [(2, 0), (1, 1), (3, -1)], [(4, 3), (5, 2)]]"
      ]
     },
     "execution_count": 34,
     "metadata": {},
     "output_type": "execute_result"
    }
   ],
   "source": [
    "lst = [[2,1,3], [4,5],[1,7,8]]\n",
    "print(sorted(lst, key=lambda x:x[0]))\n",
    "\n",
    "lst = [[(2,0),(1,1),(3,-1)], [(4,3),(5,2)], [(1,1),(7,0),(8,2)]]\n",
    "sorted(lst, key=lambda x: x[0][0])\n"
   ]
  },
  {
   "cell_type": "code",
   "execution_count": 17,
   "metadata": {},
   "outputs": [
    {
     "name": "stdout",
     "output_type": "stream",
     "text": [
      "[2, 3, 5, 1, 6]\n",
      "[2, 3, 5, 6]\n"
     ]
    }
   ],
   "source": [
    "a = [2,3,1,5,1,6]\n",
    "a.remove(1)\n",
    "print(a)\n",
    "a.remove(1)\n",
    "print(a)"
   ]
  },
  {
   "cell_type": "code",
   "execution_count": 24,
   "metadata": {},
   "outputs": [
    {
     "name": "stdout",
     "output_type": "stream",
     "text": [
      "[1, 2, 3, 4, 5, 6, 7, 8, 9]\n",
      "[1, 2, 3, 5, 6, 7, 8, 9]\n",
      "[1, 2, 3, 5, 6, 8, 9]\n",
      "[1, 2, 3]\n"
     ]
    }
   ],
   "source": [
    "a = list(range(1,10))\n",
    "print(a)\n",
    "\n",
    "a.pop(3)\n",
    "print(a)\n",
    "\n",
    "del a[5]\n",
    "print(a)\n",
    "\n",
    "del a[3:]\n",
    "print(a)"
   ]
  },
  {
   "cell_type": "code",
   "execution_count": 27,
   "metadata": {},
   "outputs": [
    {
     "name": "stdout",
     "output_type": "stream",
     "text": [
      "[0, 1, 2, 3, 4, 5, 6, 7, 8, 9]\n",
      "[0, 1, 3, 5, 7, 8, 9]\n",
      "[0, 1, 2, 3, 4, 5, 6, 7, 8, 9]\n",
      "[1, 2, 4, 5, 7, 8]\n"
     ]
    }
   ],
   "source": [
    "a = list(range(10))\n",
    "print(a)\n",
    "\n",
    "del a[2:8:2]\n",
    "print(a)\n",
    "\n",
    "a = list(range(10))\n",
    "print(a)\n",
    "\n",
    "del a[::3]\n",
    "print(a)"
   ]
  },
  {
   "cell_type": "code",
   "execution_count": 35,
   "metadata": {},
   "outputs": [
    {
     "data": {
      "text/plain": [
       "[[1, 2, 3], [4, 5, 6]]"
      ]
     },
     "execution_count": 35,
     "metadata": {},
     "output_type": "execute_result"
    }
   ],
   "source": [
    "list(map(list, [(1,2,3), (4,5,6)]))"
   ]
  },
  {
   "cell_type": "code",
   "execution_count": 37,
   "metadata": {},
   "outputs": [
    {
     "data": {
      "text/plain": [
       "[1, 2, 3]"
      ]
     },
     "execution_count": 37,
     "metadata": {},
     "output_type": "execute_result"
    }
   ],
   "source": [
    "sorted((2,3,1))"
   ]
  },
  {
   "cell_type": "code",
   "execution_count": 38,
   "metadata": {},
   "outputs": [
    {
     "data": {
      "text/plain": [
       "[]"
      ]
     },
     "execution_count": 38,
     "metadata": {},
     "output_type": "execute_result"
    }
   ],
   "source": [
    "out = []\n",
    "[list(tpl) for tpl in out]"
   ]
  },
  {
   "cell_type": "code",
   "execution_count": 41,
   "metadata": {},
   "outputs": [
    {
     "data": {
      "text/plain": [
       "(1, 2, 3)"
      ]
     },
     "execution_count": 41,
     "metadata": {},
     "output_type": "execute_result"
    }
   ],
   "source": [
    "# if we know we dont want to change data, tuple are faster than lists because immutable.\n",
    "tuple([1,2,3])"
   ]
  },
  {
   "cell_type": "code",
   "execution_count": 44,
   "metadata": {},
   "outputs": [
    {
     "data": {
      "text/plain": [
       "(0, 2)"
      ]
     },
     "execution_count": 44,
     "metadata": {},
     "output_type": "execute_result"
    }
   ],
   "source": [
    "tpl = (3,4,5,4)\n",
    "tpl.index(3), tpl.count(4)"
   ]
  },
  {
   "cell_type": "markdown",
   "metadata": {},
   "source": [
    "SET"
   ]
  },
  {
   "cell_type": "code",
   "execution_count": 1,
   "metadata": {},
   "outputs": [
    {
     "data": {
      "text/plain": [
       "set()"
      ]
     },
     "execution_count": 1,
     "metadata": {},
     "output_type": "execute_result"
    }
   ],
   "source": [
    "path = set()\n",
    "path.add(1)\n",
    "path.pop()\n",
    "path"
   ]
  },
  {
   "cell_type": "code",
   "execution_count": 14,
   "metadata": {},
   "outputs": [
    {
     "data": {
      "text/plain": [
       "'banana'"
      ]
     },
     "execution_count": 14,
     "metadata": {},
     "output_type": "execute_result"
    }
   ],
   "source": [
    "fruits = {\"apple\", \"banana\", \"cherry\"}\n",
    "fruits.pop()"
   ]
  },
  {
   "cell_type": "code",
   "execution_count": 5,
   "metadata": {},
   "outputs": [
    {
     "data": {
      "text/plain": [
       "'banana'"
      ]
     },
     "execution_count": 5,
     "metadata": {},
     "output_type": "execute_result"
    }
   ],
   "source": []
  },
  {
   "cell_type": "code",
   "execution_count": 13,
   "metadata": {},
   "outputs": [
    {
     "data": {
      "text/plain": [
       "'banana'"
      ]
     },
     "execution_count": 13,
     "metadata": {},
     "output_type": "execute_result"
    }
   ],
   "source": []
  },
  {
   "cell_type": "code",
   "execution_count": null,
   "metadata": {},
   "outputs": [],
   "source": []
  }
 ],
 "metadata": {
  "kernelspec": {
   "display_name": "Python 3",
   "language": "python",
   "name": "python3"
  },
  "language_info": {
   "codemirror_mode": {
    "name": "ipython",
    "version": 3
   },
   "file_extension": ".py",
   "mimetype": "text/x-python",
   "name": "python",
   "nbconvert_exporter": "python",
   "pygments_lexer": "ipython3",
   "version": "3.6.9"
  }
 },
 "nbformat": 4,
 "nbformat_minor": 4
}

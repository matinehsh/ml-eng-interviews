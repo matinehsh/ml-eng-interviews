{
 "cells": [
  {
   "cell_type": "code",
   "execution_count": 1,
   "metadata": {},
   "outputs": [],
   "source": [
    "import numpy as np"
   ]
  },
  {
   "cell_type": "code",
   "execution_count": 10,
   "metadata": {},
   "outputs": [],
   "source": [
    "# A is feedback matrix\n",
    "A = [[1, 0, 1, 1, 0],\n",
    "     [0, 1, 0, 0, 1],\n",
    "     [1, 1, 1, 0, 0],\n",
    "     [0, 0, 0, 1, 1]]\n",
    "# rows are users, columns are movies"
   ]
  },
  {
   "cell_type": "code",
   "execution_count": 14,
   "metadata": {},
   "outputs": [
    {
     "data": {
      "text/plain": [
       "array([[-0.02, -0.08, -0.1 ,  0.09,  0.1 ],\n",
       "       [ 0.  ,  0.  ,  0.  ,  0.  ,  0.  ],\n",
       "       [ 0.2 ,  0.8 ,  1.  , -0.9 , -1.  ],\n",
       "       [-0.2 , -0.8 , -1.  ,  0.9 ,  1.  ]])"
      ]
     },
     "execution_count": 14,
     "metadata": {},
     "output_type": "execute_result"
    }
   ],
   "source": [
    "# u1: user embedding child vs adult movie preference \n",
    "# v1: movie embedding child vs adult type\n",
    "# embedding range is -1: most child to 1: most adult\n",
    "\n",
    "u1 = [[0.1 ],\n",
    "      [ 0  ], \n",
    "      [ -1 ],\n",
    "      [ 1  ]]\n",
    "v1 = [[-0.2, -0.8, -1, 0.9, 1]]\n",
    "\n",
    "# users 1 and 2 are not separated in this dimension,\n",
    "# as their child vs adult movie preference is close to 0.\n",
    "\n",
    "np.dot(u1, v1)"
   ]
  },
  {
   "cell_type": "code",
   "execution_count": 16,
   "metadata": {},
   "outputs": [],
   "source": [
    "# u2: user embedding arthouse vs blockbuster movie preference \n",
    "# v2: movie embedding arthouse vs blockbuster type\n",
    "# embedding range is -1: most arthouse to 1: most blockbuster\n",
    "\n",
    "u2 = [[  1  ],\n",
    "      [ -1  ], \n",
    "      [ 0.2 ],\n",
    "      [ 0.1 ]]\n",
    "v2 = [[0.9, -0.8, 1, 1, -0.9]]"
   ]
  },
  {
   "cell_type": "code",
   "execution_count": 18,
   "metadata": {},
   "outputs": [
    {
     "data": {
      "text/plain": [
       "array([[-0.11, -0.88, -0.9 ,  1.  ,  0.91],\n",
       "       [ 0.2 ,  0.8 ,  1.  , -0.9 , -1.  ],\n",
       "       [-0.94,  0.64, -1.2 , -0.82,  1.1 ],\n",
       "       [ 0.88, -0.88,  0.9 ,  1.09, -0.8 ]])"
      ]
     },
     "execution_count": 18,
     "metadata": {},
     "output_type": "execute_result"
    }
   ],
   "source": [
    "u12 = [[1,  0.1 ],\n",
    "       [-1,  0  ], \n",
    "       [0.2, -1 ],\n",
    "       [0.1, 1  ]]\n",
    "\n",
    "v12 = [[-0.2, -0.8, -1, 0.9, 1],\n",
    "       [0.9, -0.8, 1, 1, -0.9 ]]\n",
    "\n",
    "np.dot(u12, v12)"
   ]
  },
  {
   "cell_type": "code",
   "execution_count": null,
   "metadata": {},
   "outputs": [],
   "source": []
  }
 ],
 "metadata": {
  "kernelspec": {
   "display_name": "Python 3",
   "language": "python",
   "name": "python3"
  },
  "language_info": {
   "codemirror_mode": {
    "name": "ipython",
    "version": 3
   },
   "file_extension": ".py",
   "mimetype": "text/x-python",
   "name": "python",
   "nbconvert_exporter": "python",
   "pygments_lexer": "ipython3",
   "version": "3.6.9"
  }
 },
 "nbformat": 4,
 "nbformat_minor": 4
}

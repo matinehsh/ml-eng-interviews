{
 "cells": [
  {
   "cell_type": "code",
   "execution_count": 22,
   "metadata": {},
   "outputs": [],
   "source": [
    "import random\n",
    "\n",
    "import matplotlib.pyplot as plt\n",
    "import numpy as np\n",
    "import pandas as pd\n",
    "\n",
    "from sklearn.ensemble import RandomForestClassifier\n",
    "from sklearn.metrics import classification_report, confusion_matrix\n",
    "from sklearn.model_selection import train_test_split\n",
    "from sklearn.preprocessing import LabelEncoder, OneHotEncoder"
   ]
  },
  {
   "cell_type": "code",
   "execution_count": 5,
   "metadata": {},
   "outputs": [
    {
     "data": {
      "text/html": [
       "<div>\n",
       "<style scoped>\n",
       "    .dataframe tbody tr th:only-of-type {\n",
       "        vertical-align: middle;\n",
       "    }\n",
       "\n",
       "    .dataframe tbody tr th {\n",
       "        vertical-align: top;\n",
       "    }\n",
       "\n",
       "    .dataframe thead th {\n",
       "        text-align: right;\n",
       "    }\n",
       "</style>\n",
       "<table border=\"1\" class=\"dataframe\">\n",
       "  <thead>\n",
       "    <tr style=\"text-align: right;\">\n",
       "      <th></th>\n",
       "      <th>age</th>\n",
       "      <th>gender</th>\n",
       "      <th>education</th>\n",
       "      <th>location</th>\n",
       "      <th>income</th>\n",
       "      <th>owner</th>\n",
       "      <th>home_value</th>\n",
       "    </tr>\n",
       "  </thead>\n",
       "  <tbody>\n",
       "    <tr>\n",
       "      <th>0</th>\n",
       "      <td>30</td>\n",
       "      <td>F</td>\n",
       "      <td>BS</td>\n",
       "      <td>EU</td>\n",
       "      <td>55000</td>\n",
       "      <td>False</td>\n",
       "      <td>NaN</td>\n",
       "    </tr>\n",
       "    <tr>\n",
       "      <th>1</th>\n",
       "      <td>27</td>\n",
       "      <td>M</td>\n",
       "      <td>BS</td>\n",
       "      <td>EU</td>\n",
       "      <td>71000</td>\n",
       "      <td>False</td>\n",
       "      <td>NaN</td>\n",
       "    </tr>\n",
       "    <tr>\n",
       "      <th>2</th>\n",
       "      <td>36</td>\n",
       "      <td>M</td>\n",
       "      <td>MS</td>\n",
       "      <td>EU</td>\n",
       "      <td>75000</td>\n",
       "      <td>True</td>\n",
       "      <td>380000.0</td>\n",
       "    </tr>\n",
       "    <tr>\n",
       "      <th>3</th>\n",
       "      <td>33</td>\n",
       "      <td>F</td>\n",
       "      <td>BS</td>\n",
       "      <td>US</td>\n",
       "      <td>142000</td>\n",
       "      <td>False</td>\n",
       "      <td>NaN</td>\n",
       "    </tr>\n",
       "    <tr>\n",
       "      <th>4</th>\n",
       "      <td>44</td>\n",
       "      <td>F</td>\n",
       "      <td>MS</td>\n",
       "      <td>EU</td>\n",
       "      <td>80000</td>\n",
       "      <td>True</td>\n",
       "      <td>360000.0</td>\n",
       "    </tr>\n",
       "    <tr>\n",
       "      <th>...</th>\n",
       "      <td>...</td>\n",
       "      <td>...</td>\n",
       "      <td>...</td>\n",
       "      <td>...</td>\n",
       "      <td>...</td>\n",
       "      <td>...</td>\n",
       "      <td>...</td>\n",
       "    </tr>\n",
       "    <tr>\n",
       "      <th>995</th>\n",
       "      <td>43</td>\n",
       "      <td>F</td>\n",
       "      <td>PhD</td>\n",
       "      <td>US</td>\n",
       "      <td>143000</td>\n",
       "      <td>True</td>\n",
       "      <td>350000.0</td>\n",
       "    </tr>\n",
       "    <tr>\n",
       "      <th>996</th>\n",
       "      <td>39</td>\n",
       "      <td>F</td>\n",
       "      <td>BS</td>\n",
       "      <td>EU</td>\n",
       "      <td>74000</td>\n",
       "      <td>False</td>\n",
       "      <td>NaN</td>\n",
       "    </tr>\n",
       "    <tr>\n",
       "      <th>997</th>\n",
       "      <td>41</td>\n",
       "      <td>M</td>\n",
       "      <td>BS</td>\n",
       "      <td>US</td>\n",
       "      <td>144000</td>\n",
       "      <td>False</td>\n",
       "      <td>NaN</td>\n",
       "    </tr>\n",
       "    <tr>\n",
       "      <th>998</th>\n",
       "      <td>40</td>\n",
       "      <td>M</td>\n",
       "      <td>MS</td>\n",
       "      <td>US</td>\n",
       "      <td>148000</td>\n",
       "      <td>True</td>\n",
       "      <td>360000.0</td>\n",
       "    </tr>\n",
       "    <tr>\n",
       "      <th>999</th>\n",
       "      <td>33</td>\n",
       "      <td>F</td>\n",
       "      <td>MS</td>\n",
       "      <td>US</td>\n",
       "      <td>138000</td>\n",
       "      <td>False</td>\n",
       "      <td>NaN</td>\n",
       "    </tr>\n",
       "  </tbody>\n",
       "</table>\n",
       "<p>1000 rows × 7 columns</p>\n",
       "</div>"
      ],
      "text/plain": [
       "     age gender education location  income  owner  home_value\n",
       "0     30      F        BS       EU   55000  False         NaN\n",
       "1     27      M        BS       EU   71000  False         NaN\n",
       "2     36      M        MS       EU   75000   True    380000.0\n",
       "3     33      F        BS       US  142000  False         NaN\n",
       "4     44      F        MS       EU   80000   True    360000.0\n",
       "..   ...    ...       ...      ...     ...    ...         ...\n",
       "995   43      F       PhD       US  143000   True    350000.0\n",
       "996   39      F        BS       EU   74000  False         NaN\n",
       "997   41      M        BS       US  144000  False         NaN\n",
       "998   40      M        MS       US  148000   True    360000.0\n",
       "999   33      F        MS       US  138000  False         NaN\n",
       "\n",
       "[1000 rows x 7 columns]"
      ]
     },
     "execution_count": 5,
     "metadata": {},
     "output_type": "execute_result"
    }
   ],
   "source": [
    "random.seed(321)\n",
    "n = 1000\n",
    "age = random.choices(range(25,45), k=n)\n",
    "gender = random.choices([\"M\",\"F\"], k=n)\n",
    "education = random.choices([\"BS\",\"MS\",\"PhD\"], k=n, weights=[0.6,0.3,0.1])\n",
    "location = random.choices([\"US\",\"EU\"], k=n)\n",
    "\n",
    "owner = [True if education[i] in [\"MS\",\"PhD\"] and age[i]>35 else False for i in range(n)]\n",
    "income = [random.choice(range(120000,150000,1000)) if loc==\"US\" else random.choice(range(50000,90000,1000)) for loc in location]\n",
    "price = [random.choice(range(500000,600000,10000)) if 12000<=inc<=15000 else random.choice(range(300000,400000,10000)) for inc in income]\n",
    "home_value = [price[i] if owner[i]==True else np.nan for i in range(n)]\n",
    "\n",
    "df = pd.DataFrame({\"age\":age,\"gender\":gender,\"education\":education,\"location\":location,\"income\":income,\"owner\":owner,\"home_value\":home_value})\n",
    "df"
   ]
  },
  {
   "cell_type": "code",
   "execution_count": 6,
   "metadata": {},
   "outputs": [
    {
     "data": {
      "text/html": [
       "<div>\n",
       "<style scoped>\n",
       "    .dataframe tbody tr th:only-of-type {\n",
       "        vertical-align: middle;\n",
       "    }\n",
       "\n",
       "    .dataframe tbody tr th {\n",
       "        vertical-align: top;\n",
       "    }\n",
       "\n",
       "    .dataframe thead th {\n",
       "        text-align: right;\n",
       "    }\n",
       "</style>\n",
       "<table border=\"1\" class=\"dataframe\">\n",
       "  <thead>\n",
       "    <tr style=\"text-align: right;\">\n",
       "      <th></th>\n",
       "      <th>age</th>\n",
       "      <th>gender</th>\n",
       "      <th>education</th>\n",
       "      <th>location</th>\n",
       "      <th>income</th>\n",
       "      <th>owner</th>\n",
       "      <th>home_value</th>\n",
       "      <th>gender_F</th>\n",
       "      <th>gender_M</th>\n",
       "      <th>education_BS</th>\n",
       "      <th>education_MS</th>\n",
       "      <th>education_PhD</th>\n",
       "      <th>location_EU</th>\n",
       "      <th>location_US</th>\n",
       "    </tr>\n",
       "  </thead>\n",
       "  <tbody>\n",
       "    <tr>\n",
       "      <th>0</th>\n",
       "      <td>30</td>\n",
       "      <td>F</td>\n",
       "      <td>BS</td>\n",
       "      <td>EU</td>\n",
       "      <td>55000</td>\n",
       "      <td>0</td>\n",
       "      <td>NaN</td>\n",
       "      <td>1</td>\n",
       "      <td>0</td>\n",
       "      <td>1</td>\n",
       "      <td>0</td>\n",
       "      <td>0</td>\n",
       "      <td>1</td>\n",
       "      <td>0</td>\n",
       "    </tr>\n",
       "    <tr>\n",
       "      <th>1</th>\n",
       "      <td>27</td>\n",
       "      <td>M</td>\n",
       "      <td>BS</td>\n",
       "      <td>EU</td>\n",
       "      <td>71000</td>\n",
       "      <td>0</td>\n",
       "      <td>NaN</td>\n",
       "      <td>0</td>\n",
       "      <td>1</td>\n",
       "      <td>1</td>\n",
       "      <td>0</td>\n",
       "      <td>0</td>\n",
       "      <td>1</td>\n",
       "      <td>0</td>\n",
       "    </tr>\n",
       "    <tr>\n",
       "      <th>2</th>\n",
       "      <td>36</td>\n",
       "      <td>M</td>\n",
       "      <td>MS</td>\n",
       "      <td>EU</td>\n",
       "      <td>75000</td>\n",
       "      <td>1</td>\n",
       "      <td>380000.0</td>\n",
       "      <td>0</td>\n",
       "      <td>1</td>\n",
       "      <td>0</td>\n",
       "      <td>1</td>\n",
       "      <td>0</td>\n",
       "      <td>1</td>\n",
       "      <td>0</td>\n",
       "    </tr>\n",
       "    <tr>\n",
       "      <th>3</th>\n",
       "      <td>33</td>\n",
       "      <td>F</td>\n",
       "      <td>BS</td>\n",
       "      <td>US</td>\n",
       "      <td>142000</td>\n",
       "      <td>0</td>\n",
       "      <td>NaN</td>\n",
       "      <td>1</td>\n",
       "      <td>0</td>\n",
       "      <td>1</td>\n",
       "      <td>0</td>\n",
       "      <td>0</td>\n",
       "      <td>0</td>\n",
       "      <td>1</td>\n",
       "    </tr>\n",
       "    <tr>\n",
       "      <th>4</th>\n",
       "      <td>44</td>\n",
       "      <td>F</td>\n",
       "      <td>MS</td>\n",
       "      <td>EU</td>\n",
       "      <td>80000</td>\n",
       "      <td>1</td>\n",
       "      <td>360000.0</td>\n",
       "      <td>1</td>\n",
       "      <td>0</td>\n",
       "      <td>0</td>\n",
       "      <td>1</td>\n",
       "      <td>0</td>\n",
       "      <td>1</td>\n",
       "      <td>0</td>\n",
       "    </tr>\n",
       "    <tr>\n",
       "      <th>...</th>\n",
       "      <td>...</td>\n",
       "      <td>...</td>\n",
       "      <td>...</td>\n",
       "      <td>...</td>\n",
       "      <td>...</td>\n",
       "      <td>...</td>\n",
       "      <td>...</td>\n",
       "      <td>...</td>\n",
       "      <td>...</td>\n",
       "      <td>...</td>\n",
       "      <td>...</td>\n",
       "      <td>...</td>\n",
       "      <td>...</td>\n",
       "      <td>...</td>\n",
       "    </tr>\n",
       "    <tr>\n",
       "      <th>995</th>\n",
       "      <td>43</td>\n",
       "      <td>F</td>\n",
       "      <td>PhD</td>\n",
       "      <td>US</td>\n",
       "      <td>143000</td>\n",
       "      <td>1</td>\n",
       "      <td>350000.0</td>\n",
       "      <td>1</td>\n",
       "      <td>0</td>\n",
       "      <td>0</td>\n",
       "      <td>0</td>\n",
       "      <td>1</td>\n",
       "      <td>0</td>\n",
       "      <td>1</td>\n",
       "    </tr>\n",
       "    <tr>\n",
       "      <th>996</th>\n",
       "      <td>39</td>\n",
       "      <td>F</td>\n",
       "      <td>BS</td>\n",
       "      <td>EU</td>\n",
       "      <td>74000</td>\n",
       "      <td>0</td>\n",
       "      <td>NaN</td>\n",
       "      <td>1</td>\n",
       "      <td>0</td>\n",
       "      <td>1</td>\n",
       "      <td>0</td>\n",
       "      <td>0</td>\n",
       "      <td>1</td>\n",
       "      <td>0</td>\n",
       "    </tr>\n",
       "    <tr>\n",
       "      <th>997</th>\n",
       "      <td>41</td>\n",
       "      <td>M</td>\n",
       "      <td>BS</td>\n",
       "      <td>US</td>\n",
       "      <td>144000</td>\n",
       "      <td>0</td>\n",
       "      <td>NaN</td>\n",
       "      <td>0</td>\n",
       "      <td>1</td>\n",
       "      <td>1</td>\n",
       "      <td>0</td>\n",
       "      <td>0</td>\n",
       "      <td>0</td>\n",
       "      <td>1</td>\n",
       "    </tr>\n",
       "    <tr>\n",
       "      <th>998</th>\n",
       "      <td>40</td>\n",
       "      <td>M</td>\n",
       "      <td>MS</td>\n",
       "      <td>US</td>\n",
       "      <td>148000</td>\n",
       "      <td>1</td>\n",
       "      <td>360000.0</td>\n",
       "      <td>0</td>\n",
       "      <td>1</td>\n",
       "      <td>0</td>\n",
       "      <td>1</td>\n",
       "      <td>0</td>\n",
       "      <td>0</td>\n",
       "      <td>1</td>\n",
       "    </tr>\n",
       "    <tr>\n",
       "      <th>999</th>\n",
       "      <td>33</td>\n",
       "      <td>F</td>\n",
       "      <td>MS</td>\n",
       "      <td>US</td>\n",
       "      <td>138000</td>\n",
       "      <td>0</td>\n",
       "      <td>NaN</td>\n",
       "      <td>1</td>\n",
       "      <td>0</td>\n",
       "      <td>0</td>\n",
       "      <td>1</td>\n",
       "      <td>0</td>\n",
       "      <td>0</td>\n",
       "      <td>1</td>\n",
       "    </tr>\n",
       "  </tbody>\n",
       "</table>\n",
       "<p>1000 rows × 14 columns</p>\n",
       "</div>"
      ],
      "text/plain": [
       "     age gender education location  income  owner  home_value  gender_F  \\\n",
       "0     30      F        BS       EU   55000      0         NaN         1   \n",
       "1     27      M        BS       EU   71000      0         NaN         0   \n",
       "2     36      M        MS       EU   75000      1    380000.0         0   \n",
       "3     33      F        BS       US  142000      0         NaN         1   \n",
       "4     44      F        MS       EU   80000      1    360000.0         1   \n",
       "..   ...    ...       ...      ...     ...    ...         ...       ...   \n",
       "995   43      F       PhD       US  143000      1    350000.0         1   \n",
       "996   39      F        BS       EU   74000      0         NaN         1   \n",
       "997   41      M        BS       US  144000      0         NaN         0   \n",
       "998   40      M        MS       US  148000      1    360000.0         0   \n",
       "999   33      F        MS       US  138000      0         NaN         1   \n",
       "\n",
       "     gender_M  education_BS  education_MS  education_PhD  location_EU  \\\n",
       "0           0             1             0              0            1   \n",
       "1           1             1             0              0            1   \n",
       "2           1             0             1              0            1   \n",
       "3           0             1             0              0            0   \n",
       "4           0             0             1              0            1   \n",
       "..        ...           ...           ...            ...          ...   \n",
       "995         0             0             0              1            0   \n",
       "996         0             1             0              0            1   \n",
       "997         1             1             0              0            0   \n",
       "998         1             0             1              0            0   \n",
       "999         0             0             1              0            0   \n",
       "\n",
       "     location_US  \n",
       "0              0  \n",
       "1              0  \n",
       "2              0  \n",
       "3              1  \n",
       "4              0  \n",
       "..           ...  \n",
       "995            1  \n",
       "996            0  \n",
       "997            1  \n",
       "998            1  \n",
       "999            1  \n",
       "\n",
       "[1000 rows x 14 columns]"
      ]
     },
     "execution_count": 6,
     "metadata": {},
     "output_type": "execute_result"
    }
   ],
   "source": [
    "df_gender = pd.get_dummies(df.gender, prefix='gender')\n",
    "df_education = pd.get_dummies(df.education, prefix='education')\n",
    "df_location = pd.get_dummies(df.location, prefix='location')\n",
    "df = pd.concat([df, df_gender, df_education, df_location], axis=1) # df.reset_index(drop=True) if not matching index\n",
    "# better way of categorical convert in 4_data_wrangling\n",
    "\n",
    "le = LabelEncoder()\n",
    "le.fit(df.owner.unique())\n",
    "df['owner'] = le.transform(df['owner'])\n",
    "df"
   ]
  },
  {
   "cell_type": "code",
   "execution_count": 13,
   "metadata": {},
   "outputs": [
    {
     "name": "stderr",
     "output_type": "stream",
     "text": [
      "/Users/mashaker/.pyenv/versions/3.6.9/lib/python3.6/site-packages/ipykernel_launcher.py:13: DataConversionWarning: A column-vector y was passed when a 1d array was expected. Please change the shape of y to (n_samples,), for example using ravel().\n",
      "  del sys.path[0]\n"
     ]
    },
    {
     "data": {
      "text/plain": [
       "RandomForestClassifier()"
      ]
     },
     "execution_count": 13,
     "metadata": {},
     "output_type": "execute_result"
    }
   ],
   "source": [
    "cols = df_gender.columns.append(df_education.columns).append(df_location.columns).tolist()\n",
    "cols.extend(['age', 'income'])\n",
    "\n",
    "#this training data is not random predictor\n",
    "#cols = df_gender.columns.append(df_location.columns).tolist()\n",
    "#cols.extend(['income'])\n",
    "\n",
    "X = df[cols]\n",
    "Y = df[['owner']]\n",
    "\n",
    "X_train, X_test, Y_train, Y_test = train_test_split(X, Y, test_size=0.3)\n",
    "clf = RandomForestClassifier()\n",
    "clf.fit(X_train, Y_train)"
   ]
  },
  {
   "cell_type": "code",
   "execution_count": 14,
   "metadata": {},
   "outputs": [
    {
     "data": {
      "text/plain": [
       "(owner    0\n",
       " dtype: int64,\n",
       " owner    0\n",
       " dtype: int64)"
      ]
     },
     "execution_count": 14,
     "metadata": {},
     "output_type": "execute_result"
    }
   ],
   "source": [
    "train_error = (clf.predict(X_train).reshape([len(X_train), 1]) - Y_train).sum()\n",
    "test_error = (clf.predict(X_test).reshape([len(X_test), 1]) - Y_test).sum()\n",
    "train_error, test_error"
   ]
  },
  {
   "cell_type": "code",
   "execution_count": 15,
   "metadata": {},
   "outputs": [
    {
     "data": {
      "text/plain": [
       "(1.0, 1.0)"
      ]
     },
     "execution_count": 15,
     "metadata": {},
     "output_type": "execute_result"
    }
   ],
   "source": [
    "clf.score(X_train, Y_train), clf.score(X_test, Y_test)"
   ]
  },
  {
   "cell_type": "code",
   "execution_count": 16,
   "metadata": {},
   "outputs": [
    {
     "data": {
      "text/plain": [
       "array([0.0016365 , 0.0015219 , 0.31135114, 0.12782316, 0.0335934 ,\n",
       "       0.00115398, 0.00227525, 0.49396234, 0.02668235])"
      ]
     },
     "execution_count": 16,
     "metadata": {},
     "output_type": "execute_result"
    }
   ],
   "source": [
    "clf.feature_importances_"
   ]
  },
  {
   "cell_type": "markdown",
   "metadata": {},
   "source": [
    "makes sense. age and education should be predictors."
   ]
  },
  {
   "cell_type": "code",
   "execution_count": 27,
   "metadata": {},
   "outputs": [
    {
     "data": {
      "text/plain": [
       "array([[567,   0],\n",
       "       [  0, 133]])"
      ]
     },
     "execution_count": 27,
     "metadata": {},
     "output_type": "execute_result"
    }
   ],
   "source": [
    "confusion_matrix(Y_train, clf.predict(X_train))"
   ]
  },
  {
   "cell_type": "code",
   "execution_count": 28,
   "metadata": {},
   "outputs": [
    {
     "data": {
      "text/plain": [
       "array([[248,   0],\n",
       "       [  0,  52]])"
      ]
     },
     "execution_count": 28,
     "metadata": {},
     "output_type": "execute_result"
    }
   ],
   "source": [
    "confusion_matrix(Y_test, clf.predict(X_test))"
   ]
  },
  {
   "cell_type": "code",
   "execution_count": 30,
   "metadata": {},
   "outputs": [
    {
     "name": "stdout",
     "output_type": "stream",
     "text": [
      "              precision    recall  f1-score   support\n",
      "\n",
      "           0       1.00      1.00      1.00       567\n",
      "           1       1.00      1.00      1.00       133\n",
      "\n",
      "    accuracy                           1.00       700\n",
      "   macro avg       1.00      1.00      1.00       700\n",
      "weighted avg       1.00      1.00      1.00       700\n",
      "\n"
     ]
    }
   ],
   "source": [
    "print(classification_report(Y_train, clf.predict(X_train)))"
   ]
  },
  {
   "cell_type": "code",
   "execution_count": 31,
   "metadata": {},
   "outputs": [
    {
     "name": "stdout",
     "output_type": "stream",
     "text": [
      "              precision    recall  f1-score   support\n",
      "\n",
      "           0       1.00      1.00      1.00       248\n",
      "           1       1.00      1.00      1.00        52\n",
      "\n",
      "    accuracy                           1.00       300\n",
      "   macro avg       1.00      1.00      1.00       300\n",
      "weighted avg       1.00      1.00      1.00       300\n",
      "\n"
     ]
    }
   ],
   "source": [
    "print(classification_report(Y_test, clf.predict(X_test)))"
   ]
  },
  {
   "cell_type": "code",
   "execution_count": 32,
   "metadata": {},
   "outputs": [
    {
     "ename": "AttributeError",
     "evalue": "'RandomForestClassifier' object has no attribute 'oob_score_'",
     "output_type": "error",
     "traceback": [
      "\u001b[0;31m---------------------------------------------------------------------------\u001b[0m",
      "\u001b[0;31mAttributeError\u001b[0m                            Traceback (most recent call last)",
      "\u001b[0;32m<ipython-input-32-c2b6a1bb2634>\u001b[0m in \u001b[0;36m<module>\u001b[0;34m\u001b[0m\n\u001b[0;32m----> 1\u001b[0;31m \u001b[0mclf\u001b[0m\u001b[0;34m.\u001b[0m\u001b[0moob_score_\u001b[0m\u001b[0;34m\u001b[0m\u001b[0;34m\u001b[0m\u001b[0m\n\u001b[0m",
      "\u001b[0;31mAttributeError\u001b[0m: 'RandomForestClassifier' object has no attribute 'oob_score_'"
     ]
    }
   ],
   "source": [
    "clf.oob_score_"
   ]
  },
  {
   "cell_type": "code",
   "execution_count": null,
   "metadata": {},
   "outputs": [],
   "source": []
  }
 ],
 "metadata": {
  "kernelspec": {
   "display_name": "Python 3",
   "language": "python",
   "name": "python3"
  },
  "language_info": {
   "codemirror_mode": {
    "name": "ipython",
    "version": 3
   },
   "file_extension": ".py",
   "mimetype": "text/x-python",
   "name": "python",
   "nbconvert_exporter": "python",
   "pygments_lexer": "ipython3",
   "version": "3.6.9"
  }
 },
 "nbformat": 4,
 "nbformat_minor": 4
}
